{
  "cells": [
    {
      "cell_type": "code",
      "execution_count": 5,
      "metadata": {
        "colab": {
          "base_uri": "https://localhost:8080/"
        },
        "id": "IVBI6p6Q_Puy",
        "outputId": "d9179313-9142-4631-8d18-abb020020680"
      },
      "outputs": [],
      "source": [
        "#!pip3 install scanpy \n",
        "#!pip3 install anndata \n",
        "#!pip3 install diffxpy \n",
        "# !pip3 install scikit-misc"
      ]
    },
    {
      "cell_type": "code",
      "execution_count": 2,
      "metadata": {
        "id": "5CC9biA3nWj1"
      },
      "outputs": [],
      "source": [
        "import anndata\n",
        "import matplotlib.pyplot as plt\n",
        "import seaborn as sns\n",
        "import logging\n",
        "import numpy as np\n",
        "import pandas as pd\n",
        "import scipy.stats\n",
        "import scanpy as sc\n",
        "from scipy.sparse import csr_matrix"
      ]
    },
    {
      "cell_type": "code",
      "execution_count": 6,
      "metadata": {
        "id": "2f30VIiSna64"
      },
      "outputs": [
        {
          "ename": "AttributeError",
          "evalue": "module 'dask.array' has no attribute 'core'",
          "output_type": "error",
          "traceback": [
            "\u001b[0;31m---------------------------------------------------------------------------\u001b[0m",
            "\u001b[0;31mAttributeError\u001b[0m                            Traceback (most recent call last)",
            "Cell \u001b[0;32mIn [6], line 1\u001b[0m\n\u001b[0;32m----> 1\u001b[0m \u001b[39mimport\u001b[39;00m \u001b[39mdiffxpy\u001b[39;00m\u001b[39m.\u001b[39;00m\u001b[39mapi\u001b[39;00m \u001b[39mas\u001b[39;00m \u001b[39mde\u001b[39;00m\n",
            "File \u001b[0;32m/opt/homebrew/lib/python3.10/site-packages/diffxpy/api/__init__.py:4\u001b[0m\n\u001b[1;32m      1\u001b[0m \u001b[39mfrom\u001b[39;00m \u001b[39m.\u001b[39;00m\u001b[39m.\u001b[39;00m \u001b[39mimport\u001b[39;00m __version__\n\u001b[1;32m      2\u001b[0m \u001b[39mfrom\u001b[39;00m \u001b[39m.\u001b[39;00m\u001b[39m.\u001b[39;00m\u001b[39mlog_cfg\u001b[39;00m \u001b[39mimport\u001b[39;00m logger, unconfigure_logging, enable_logging\n\u001b[0;32m----> 4\u001b[0m \u001b[39mfrom\u001b[39;00m \u001b[39m.\u001b[39;00m \u001b[39mimport\u001b[39;00m test\n\u001b[1;32m      5\u001b[0m \u001b[39mfrom\u001b[39;00m \u001b[39m.\u001b[39;00m \u001b[39mimport\u001b[39;00m enrich\n\u001b[1;32m      6\u001b[0m \u001b[39mfrom\u001b[39;00m \u001b[39m.\u001b[39;00m \u001b[39mimport\u001b[39;00m fit\n",
            "File \u001b[0;32m/opt/homebrew/lib/python3.10/site-packages/diffxpy/api/test.py:1\u001b[0m\n\u001b[0;32m----> 1\u001b[0m \u001b[39mfrom\u001b[39;00m \u001b[39mdiffxpy\u001b[39;00m\u001b[39m.\u001b[39;00m\u001b[39mtesting\u001b[39;00m \u001b[39mimport\u001b[39;00m lrt, wald, wald_repeated, t_test, rank_test, two_sample, pairwise, \\\n\u001b[1;32m      2\u001b[0m     versus_rest, partition, continuous_1d\n",
            "File \u001b[0;32m/opt/homebrew/lib/python3.10/site-packages/diffxpy/testing/__init__.py:1\u001b[0m\n\u001b[0;32m----> 1\u001b[0m \u001b[39mfrom\u001b[39;00m \u001b[39m.\u001b[39;00m\u001b[39mtests\u001b[39;00m \u001b[39mimport\u001b[39;00m lrt, wald, wald_repeated, t_test, rank_test, two_sample, pairwise, \\\n\u001b[1;32m      2\u001b[0m     versus_rest, partition, continuous_1d\n",
            "File \u001b[0;32m/opt/homebrew/lib/python3.10/site-packages/diffxpy/testing/tests.py:6\u001b[0m\n\u001b[1;32m      4\u001b[0m \u001b[39mexcept\u001b[39;00m \u001b[39mImportError\u001b[39;00m:\n\u001b[1;32m      5\u001b[0m     \u001b[39mfrom\u001b[39;00m \u001b[39manndata\u001b[39;00m \u001b[39mimport\u001b[39;00m Raw\n\u001b[0;32m----> 6\u001b[0m \u001b[39mimport\u001b[39;00m \u001b[39mbatchglm\u001b[39;00m\u001b[39m.\u001b[39;00m\u001b[39mapi\u001b[39;00m \u001b[39mas\u001b[39;00m \u001b[39mglm\u001b[39;00m\n\u001b[1;32m      7\u001b[0m \u001b[39mimport\u001b[39;00m \u001b[39mdask\u001b[39;00m\n\u001b[1;32m      8\u001b[0m \u001b[39mimport\u001b[39;00m \u001b[39mlogging\u001b[39;00m\n",
            "File \u001b[0;32m/opt/homebrew/lib/python3.10/site-packages/batchglm/api/__init__.py:2\u001b[0m\n\u001b[1;32m      1\u001b[0m \u001b[39mfrom\u001b[39;00m \u001b[39m.\u001b[39;00m \u001b[39mimport\u001b[39;00m data\n\u001b[0;32m----> 2\u001b[0m \u001b[39mfrom\u001b[39;00m \u001b[39m.\u001b[39;00m \u001b[39mimport\u001b[39;00m models\n\u001b[1;32m      3\u001b[0m \u001b[39mfrom\u001b[39;00m \u001b[39m.\u001b[39;00m \u001b[39mimport\u001b[39;00m typing\n\u001b[1;32m      4\u001b[0m \u001b[39mfrom\u001b[39;00m \u001b[39m.\u001b[39;00m \u001b[39mimport\u001b[39;00m utils\n",
            "File \u001b[0;32m/opt/homebrew/lib/python3.10/site-packages/batchglm/api/models/__init__.py:1\u001b[0m\n\u001b[0;32m----> 1\u001b[0m \u001b[39mfrom\u001b[39;00m \u001b[39m.\u001b[39;00m \u001b[39mimport\u001b[39;00m numpy\n\u001b[1;32m      2\u001b[0m \u001b[39mtry\u001b[39;00m:\n\u001b[1;32m      3\u001b[0m     \u001b[39mimport\u001b[39;00m \u001b[39mtensorflow\u001b[39;00m \u001b[39mas\u001b[39;00m \u001b[39mtf\u001b[39;00m\n",
            "File \u001b[0;32m/opt/homebrew/lib/python3.10/site-packages/batchglm/api/models/numpy/__init__.py:1\u001b[0m\n\u001b[0;32m----> 1\u001b[0m \u001b[39mfrom\u001b[39;00m \u001b[39m.\u001b[39;00m \u001b[39mimport\u001b[39;00m glm_nb\n",
            "File \u001b[0;32m/opt/homebrew/lib/python3.10/site-packages/batchglm/api/models/numpy/glm_nb.py:1\u001b[0m\n\u001b[0;32m----> 1\u001b[0m \u001b[39mfrom\u001b[39;00m \u001b[39mbatchglm\u001b[39;00m\u001b[39m.\u001b[39;00m\u001b[39mmodels\u001b[39;00m\u001b[39m.\u001b[39;00m\u001b[39mglm_nb\u001b[39;00m \u001b[39mimport\u001b[39;00m InputDataGLM, Model, Simulator\n\u001b[1;32m      2\u001b[0m \u001b[39mfrom\u001b[39;00m \u001b[39mbatchglm\u001b[39;00m\u001b[39m.\u001b[39;00m\u001b[39mtrain\u001b[39;00m\u001b[39m.\u001b[39;00m\u001b[39mnumpy\u001b[39;00m\u001b[39m.\u001b[39;00m\u001b[39mglm_nb\u001b[39;00m \u001b[39mimport\u001b[39;00m Estimator\n",
            "File \u001b[0;32m/opt/homebrew/lib/python3.10/site-packages/batchglm/models/glm_nb/__init__.py:1\u001b[0m\n\u001b[0;32m----> 1\u001b[0m \u001b[39mfrom\u001b[39;00m \u001b[39m.\u001b[39;00m\u001b[39mmodel\u001b[39;00m \u001b[39mimport\u001b[39;00m Model\n\u001b[1;32m      2\u001b[0m \u001b[39mfrom\u001b[39;00m \u001b[39m.\u001b[39;00m\u001b[39mexternal\u001b[39;00m \u001b[39mimport\u001b[39;00m InputDataGLM, _EstimatorGLM\n\u001b[1;32m      3\u001b[0m \u001b[39mfrom\u001b[39;00m \u001b[39m.\u001b[39;00m\u001b[39msimulator\u001b[39;00m \u001b[39mimport\u001b[39;00m Simulator\n",
            "File \u001b[0;32m/opt/homebrew/lib/python3.10/site-packages/batchglm/models/glm_nb/model.py:8\u001b[0m\n\u001b[1;32m      5\u001b[0m     anndata \u001b[39m=\u001b[39m \u001b[39mNone\u001b[39;00m\n\u001b[1;32m      6\u001b[0m \u001b[39mimport\u001b[39;00m \u001b[39mnumpy\u001b[39;00m \u001b[39mas\u001b[39;00m \u001b[39mnp\u001b[39;00m\n\u001b[0;32m----> 8\u001b[0m \u001b[39mfrom\u001b[39;00m \u001b[39m.\u001b[39;00m\u001b[39mexternal\u001b[39;00m \u001b[39mimport\u001b[39;00m _ModelGLM\n\u001b[1;32m     11\u001b[0m \u001b[39mclass\u001b[39;00m \u001b[39mModel\u001b[39;00m(_ModelGLM, metaclass\u001b[39m=\u001b[39mabc\u001b[39m.\u001b[39mABCMeta):\n\u001b[1;32m     12\u001b[0m     \u001b[39m\"\"\"\u001b[39;00m\n\u001b[1;32m     13\u001b[0m \u001b[39m    Generalized Linear Model (GLM) with negative binomial noise.\u001b[39;00m\n\u001b[1;32m     14\u001b[0m \u001b[39m    \"\"\"\u001b[39;00m\n",
            "File \u001b[0;32m/opt/homebrew/lib/python3.10/site-packages/batchglm/models/glm_nb/external.py:1\u001b[0m\n\u001b[0;32m----> 1\u001b[0m \u001b[39mfrom\u001b[39;00m \u001b[39mbatchglm\u001b[39;00m\u001b[39m.\u001b[39;00m\u001b[39mmodels\u001b[39;00m\u001b[39m.\u001b[39;00m\u001b[39mbase_glm\u001b[39;00m \u001b[39mimport\u001b[39;00m _EstimatorGLM\n\u001b[1;32m      2\u001b[0m \u001b[39mfrom\u001b[39;00m \u001b[39mbatchglm\u001b[39;00m\u001b[39m.\u001b[39;00m\u001b[39mmodels\u001b[39;00m\u001b[39m.\u001b[39;00m\u001b[39mbase_glm\u001b[39;00m \u001b[39mimport\u001b[39;00m InputDataGLM\n\u001b[1;32m      3\u001b[0m \u001b[39mfrom\u001b[39;00m \u001b[39mbatchglm\u001b[39;00m\u001b[39m.\u001b[39;00m\u001b[39mmodels\u001b[39;00m\u001b[39m.\u001b[39;00m\u001b[39mbase_glm\u001b[39;00m \u001b[39mimport\u001b[39;00m _ModelGLM\n",
            "File \u001b[0;32m/opt/homebrew/lib/python3.10/site-packages/batchglm/models/base_glm/__init__.py:1\u001b[0m\n\u001b[0;32m----> 1\u001b[0m \u001b[39mfrom\u001b[39;00m \u001b[39m.\u001b[39;00m\u001b[39mestimator\u001b[39;00m \u001b[39mimport\u001b[39;00m _EstimatorGLM\n\u001b[1;32m      2\u001b[0m \u001b[39mfrom\u001b[39;00m \u001b[39m.\u001b[39;00m\u001b[39minput\u001b[39;00m \u001b[39mimport\u001b[39;00m InputDataGLM\n\u001b[1;32m      3\u001b[0m \u001b[39mfrom\u001b[39;00m \u001b[39m.\u001b[39;00m\u001b[39mmodel\u001b[39;00m \u001b[39mimport\u001b[39;00m _ModelGLM\n",
            "File \u001b[0;32m/opt/homebrew/lib/python3.10/site-packages/batchglm/models/base_glm/estimator.py:10\u001b[0m\n\u001b[1;32m      7\u001b[0m     anndata \u001b[39m=\u001b[39m \u001b[39mNone\u001b[39;00m\n\u001b[1;32m      9\u001b[0m \u001b[39mfrom\u001b[39;00m \u001b[39m.\u001b[39;00m\u001b[39mexternal\u001b[39;00m \u001b[39mimport\u001b[39;00m _EstimatorBase\n\u001b[0;32m---> 10\u001b[0m \u001b[39mfrom\u001b[39;00m \u001b[39m.\u001b[39;00m\u001b[39minput\u001b[39;00m \u001b[39mimport\u001b[39;00m InputDataGLM\n\u001b[1;32m     11\u001b[0m \u001b[39mfrom\u001b[39;00m \u001b[39m.\u001b[39;00m\u001b[39mmodel\u001b[39;00m \u001b[39mimport\u001b[39;00m _ModelGLM\n\u001b[1;32m     14\u001b[0m \u001b[39mclass\u001b[39;00m \u001b[39m_EstimatorGLM\u001b[39;00m(_EstimatorBase, metaclass\u001b[39m=\u001b[39mabc\u001b[39m.\u001b[39mABCMeta):\n",
            "File \u001b[0;32m/opt/homebrew/lib/python3.10/site-packages/batchglm/models/base_glm/input.py:13\u001b[0m\n\u001b[1;32m     10\u001b[0m \u001b[39mimport\u001b[39;00m \u001b[39mscipy\u001b[39;00m\u001b[39m.\u001b[39;00m\u001b[39msparse\u001b[39;00m\n\u001b[1;32m     11\u001b[0m \u001b[39mfrom\u001b[39;00m \u001b[39mtyping\u001b[39;00m \u001b[39mimport\u001b[39;00m Union\n\u001b[0;32m---> 13\u001b[0m \u001b[39mfrom\u001b[39;00m \u001b[39m.\u001b[39;00m\u001b[39mutils\u001b[39;00m \u001b[39mimport\u001b[39;00m parse_constraints, parse_design\n\u001b[1;32m     14\u001b[0m \u001b[39mfrom\u001b[39;00m \u001b[39m.\u001b[39;00m\u001b[39mexternal\u001b[39;00m \u001b[39mimport\u001b[39;00m InputDataBase\n\u001b[1;32m     17\u001b[0m \u001b[39mclass\u001b[39;00m \u001b[39mInputDataGLM\u001b[39;00m(InputDataBase):\n",
            "File \u001b[0;32m/opt/homebrew/lib/python3.10/site-packages/batchglm/models/base_glm/utils.py:54\u001b[0m\n\u001b[1;32m     46\u001b[0m             params \u001b[39m=\u001b[39m param_names\n\u001b[1;32m     48\u001b[0m     \u001b[39mreturn\u001b[39;00m dmat, params\n\u001b[1;32m     51\u001b[0m \u001b[39mdef\u001b[39;00m \u001b[39mparse_constraints\u001b[39m(\n\u001b[1;32m     52\u001b[0m         dmat: np\u001b[39m.\u001b[39mndarray,\n\u001b[1;32m     53\u001b[0m         dmat_par_names: List[\u001b[39mstr\u001b[39m],\n\u001b[0;32m---> 54\u001b[0m         constraints: Union[np\u001b[39m.\u001b[39mndarray, dask\u001b[39m.\u001b[39;49marray\u001b[39m.\u001b[39;49mcore\u001b[39m.\u001b[39mArray] \u001b[39m=\u001b[39m \u001b[39mNone\u001b[39;00m,\n\u001b[1;32m     55\u001b[0m         constraint_par_names: \u001b[39mlist\u001b[39m \u001b[39m=\u001b[39m \u001b[39mNone\u001b[39;00m\n\u001b[1;32m     56\u001b[0m ) \u001b[39m-\u001b[39m\u001b[39m>\u001b[39m Tuple:\n\u001b[1;32m     57\u001b[0m     \u001b[39mr\u001b[39m\u001b[39m\"\"\"\u001b[39;00m\n\u001b[1;32m     58\u001b[0m \u001b[39m    Parser for constraint matrices.\u001b[39;00m\n\u001b[1;32m     59\u001b[0m \n\u001b[0;32m   (...)\u001b[0m\n\u001b[1;32m     63\u001b[0m \u001b[39m    :return: Tuple containing the constraint matrix and the parameter names.\u001b[39;00m\n\u001b[1;32m     64\u001b[0m \u001b[39m    \"\"\"\u001b[39;00m\n\u001b[1;32m     65\u001b[0m     \u001b[39mif\u001b[39;00m constraints \u001b[39mis\u001b[39;00m \u001b[39mNone\u001b[39;00m:\n",
            "\u001b[0;31mAttributeError\u001b[0m: module 'dask.array' has no attribute 'core'"
          ]
        }
      ],
      "source": [
        "import diffxpy.api as de"
      ]
    },
    {
      "cell_type": "code",
      "execution_count": null,
      "metadata": {
        "id": "HzVnPZz_nuZ6"
      },
      "outputs": [],
      "source": [
        "adata = sc.read(\"./dataSaveOriginal/rawDataset5000.h5ad\") # ./dataSaveOriginal/rawDataset5000.h5ad\n",
        "adata.var_names_make_unique()\n"
      ]
    },
    {
      "cell_type": "code",
      "execution_count": null,
      "metadata": {
        "colab": {
          "base_uri": "https://localhost:8080/",
          "height": 540
        },
        "id": "kdaLvrEMr7qL",
        "outputId": "352a1ecc-216d-476f-9d38-d904af0d4941"
      },
      "outputs": [
        {
          "data": {
            "text/html": [
              "<div>\n",
              "<style scoped>\n",
              "    .dataframe tbody tr th:only-of-type {\n",
              "        vertical-align: middle;\n",
              "    }\n",
              "\n",
              "    .dataframe tbody tr th {\n",
              "        vertical-align: top;\n",
              "    }\n",
              "\n",
              "    .dataframe thead th {\n",
              "        text-align: right;\n",
              "    }\n",
              "</style>\n",
              "<table border=\"1\" class=\"dataframe\">\n",
              "  <thead>\n",
              "    <tr style=\"text-align: right;\">\n",
              "      <th></th>\n",
              "      <th>orig.ident</th>\n",
              "      <th>nCount_RNA</th>\n",
              "      <th>nFeature_RNA</th>\n",
              "      <th>condition</th>\n",
              "      <th>sample</th>\n",
              "      <th>percentMito</th>\n",
              "      <th>percent_reads_top50</th>\n",
              "      <th>nCount_SCT</th>\n",
              "      <th>nFeature_SCT</th>\n",
              "      <th>SCT_snn_res.0.8</th>\n",
              "      <th>seurat_clusters</th>\n",
              "      <th>clust_orig</th>\n",
              "      <th>clust_orig_lab</th>\n",
              "      <th>clust_recl</th>\n",
              "      <th>integrated_snn_res.0.8</th>\n",
              "      <th>cluster_type</th>\n",
              "    </tr>\n",
              "  </thead>\n",
              "  <tbody>\n",
              "    <tr>\n",
              "      <th>DS_DSP_GACCTTCCACAGTACT-1</th>\n",
              "      <td>DS</td>\n",
              "      <td>16399.0</td>\n",
              "      <td>5286</td>\n",
              "      <td>DS</td>\n",
              "      <td>DS_DSP</td>\n",
              "      <td>2.957497</td>\n",
              "      <td>18.427953</td>\n",
              "      <td>10567.0</td>\n",
              "      <td>4975</td>\n",
              "      <td>6</td>\n",
              "      <td>1</td>\n",
              "      <td>1</td>\n",
              "      <td>NEU_inh_1</td>\n",
              "      <td>c6</td>\n",
              "      <td>1</td>\n",
              "      <td>NEU_inh</td>\n",
              "    </tr>\n",
              "    <tr>\n",
              "      <th>CON_IMR_GTGATGTGTCAACGCC-1</th>\n",
              "      <td>CON</td>\n",
              "      <td>1271.0</td>\n",
              "      <td>849</td>\n",
              "      <td>CON</td>\n",
              "      <td>CON_IMR</td>\n",
              "      <td>6.372935</td>\n",
              "      <td>25.491739</td>\n",
              "      <td>5685.0</td>\n",
              "      <td>1781</td>\n",
              "      <td>2</td>\n",
              "      <td>15</td>\n",
              "      <td>2</td>\n",
              "      <td>NEU_low_2</td>\n",
              "      <td>c2</td>\n",
              "      <td>15</td>\n",
              "      <td>NEU_low</td>\n",
              "    </tr>\n",
              "    <tr>\n",
              "      <th>DS_DS1_GTCGCGAAGAGTGTTA-1</th>\n",
              "      <td>DS</td>\n",
              "      <td>5905.0</td>\n",
              "      <td>2729</td>\n",
              "      <td>DS</td>\n",
              "      <td>DS_DS1</td>\n",
              "      <td>8.044030</td>\n",
              "      <td>25.808637</td>\n",
              "      <td>7337.0</td>\n",
              "      <td>2728</td>\n",
              "      <td>9</td>\n",
              "      <td>7</td>\n",
              "      <td>8</td>\n",
              "      <td>NPC_GJA1_ID3_8</td>\n",
              "      <td>c9</td>\n",
              "      <td>7</td>\n",
              "      <td>NPC_GJA1_ID3</td>\n",
              "    </tr>\n",
              "    <tr>\n",
              "      <th>CON_DS2U_GCTCAAACAAAGGCGT-1</th>\n",
              "      <td>CON</td>\n",
              "      <td>7464.0</td>\n",
              "      <td>3107</td>\n",
              "      <td>CON</td>\n",
              "      <td>CON_DS2U</td>\n",
              "      <td>9.900857</td>\n",
              "      <td>24.919614</td>\n",
              "      <td>8497.0</td>\n",
              "      <td>3105</td>\n",
              "      <td>7</td>\n",
              "      <td>10</td>\n",
              "      <td>9</td>\n",
              "      <td>NEU_exc_TBR1_SLC1A2_9</td>\n",
              "      <td>c7</td>\n",
              "      <td>10</td>\n",
              "      <td>NEU_exc_TBR1</td>\n",
              "    </tr>\n",
              "    <tr>\n",
              "      <th>DS_2DS3_TAAGCACCACATTCGA-1</th>\n",
              "      <td>DS</td>\n",
              "      <td>13943.0</td>\n",
              "      <td>5018</td>\n",
              "      <td>DS</td>\n",
              "      <td>DS_2DS3</td>\n",
              "      <td>1.527648</td>\n",
              "      <td>16.043893</td>\n",
              "      <td>10556.0</td>\n",
              "      <td>4999</td>\n",
              "      <td>6</td>\n",
              "      <td>1</td>\n",
              "      <td>1</td>\n",
              "      <td>NEU_inh_1</td>\n",
              "      <td>c6</td>\n",
              "      <td>1</td>\n",
              "      <td>NEU_inh</td>\n",
              "    </tr>\n",
              "    <tr>\n",
              "      <th>...</th>\n",
              "      <td>...</td>\n",
              "      <td>...</td>\n",
              "      <td>...</td>\n",
              "      <td>...</td>\n",
              "      <td>...</td>\n",
              "      <td>...</td>\n",
              "      <td>...</td>\n",
              "      <td>...</td>\n",
              "      <td>...</td>\n",
              "      <td>...</td>\n",
              "      <td>...</td>\n",
              "      <td>...</td>\n",
              "      <td>...</td>\n",
              "      <td>...</td>\n",
              "      <td>...</td>\n",
              "      <td>...</td>\n",
              "    </tr>\n",
              "    <tr>\n",
              "      <th>DS_DS1_AGGGTGAGTCCGAAAG-1</th>\n",
              "      <td>DS</td>\n",
              "      <td>57452.0</td>\n",
              "      <td>9447</td>\n",
              "      <td>DS</td>\n",
              "      <td>DS_DS1</td>\n",
              "      <td>9.656757</td>\n",
              "      <td>20.410081</td>\n",
              "      <td>8929.0</td>\n",
              "      <td>3987</td>\n",
              "      <td>24</td>\n",
              "      <td>19</td>\n",
              "      <td>13</td>\n",
              "      <td>NEU_exc_TBR1_SLC1A2_13</td>\n",
              "      <td>c24</td>\n",
              "      <td>19</td>\n",
              "      <td>NEU_exc_TBR1</td>\n",
              "    </tr>\n",
              "    <tr>\n",
              "      <th>CON_IMR_GTGTGGCCAAATTGCC-1</th>\n",
              "      <td>CON</td>\n",
              "      <td>3836.0</td>\n",
              "      <td>2240</td>\n",
              "      <td>CON</td>\n",
              "      <td>CON_IMR</td>\n",
              "      <td>6.803962</td>\n",
              "      <td>23.957247</td>\n",
              "      <td>6151.0</td>\n",
              "      <td>2299</td>\n",
              "      <td>7</td>\n",
              "      <td>10</td>\n",
              "      <td>9</td>\n",
              "      <td>NEU_exc_TBR1_SLC1A2_9</td>\n",
              "      <td>c7</td>\n",
              "      <td>10</td>\n",
              "      <td>NEU_exc_TBR1</td>\n",
              "    </tr>\n",
              "    <tr>\n",
              "      <th>CON_DS2U_CCTCAACAGCGAAACC-1</th>\n",
              "      <td>CON</td>\n",
              "      <td>6881.0</td>\n",
              "      <td>3506</td>\n",
              "      <td>CON</td>\n",
              "      <td>CON_DS2U</td>\n",
              "      <td>6.888534</td>\n",
              "      <td>20.956256</td>\n",
              "      <td>8134.0</td>\n",
              "      <td>3508</td>\n",
              "      <td>15</td>\n",
              "      <td>11</td>\n",
              "      <td>12</td>\n",
              "      <td>NPC_12</td>\n",
              "      <td>c15</td>\n",
              "      <td>11</td>\n",
              "      <td>NPC</td>\n",
              "    </tr>\n",
              "    <tr>\n",
              "      <th>CON_IMR_GTCCTCAAGGTTAAAC-1</th>\n",
              "      <td>CON</td>\n",
              "      <td>4583.0</td>\n",
              "      <td>2577</td>\n",
              "      <td>CON</td>\n",
              "      <td>CON_IMR</td>\n",
              "      <td>0.894611</td>\n",
              "      <td>16.910321</td>\n",
              "      <td>6139.0</td>\n",
              "      <td>2594</td>\n",
              "      <td>15</td>\n",
              "      <td>11</td>\n",
              "      <td>12</td>\n",
              "      <td>NPC_12</td>\n",
              "      <td>c15</td>\n",
              "      <td>11</td>\n",
              "      <td>NPC</td>\n",
              "    </tr>\n",
              "    <tr>\n",
              "      <th>CON_DS2U_GACAGCCTCGTTAGTG-1</th>\n",
              "      <td>CON</td>\n",
              "      <td>7909.0</td>\n",
              "      <td>3597</td>\n",
              "      <td>CON</td>\n",
              "      <td>CON_DS2U</td>\n",
              "      <td>3.780503</td>\n",
              "      <td>20.394487</td>\n",
              "      <td>8521.0</td>\n",
              "      <td>3597</td>\n",
              "      <td>3</td>\n",
              "      <td>9</td>\n",
              "      <td>4</td>\n",
              "      <td>NEU_exc_SLC17A7_NEUROD_4</td>\n",
              "      <td>c3</td>\n",
              "      <td>9</td>\n",
              "      <td>NEU_exc_TBR1</td>\n",
              "    </tr>\n",
              "  </tbody>\n",
              "</table>\n",
              "<p>5000 rows × 16 columns</p>\n",
              "</div>"
            ],
            "text/plain": [
              "                            orig.ident  nCount_RNA  nFeature_RNA condition  \\\n",
              "DS_DSP_GACCTTCCACAGTACT-1           DS     16399.0          5286        DS   \n",
              "CON_IMR_GTGATGTGTCAACGCC-1         CON      1271.0           849       CON   \n",
              "DS_DS1_GTCGCGAAGAGTGTTA-1           DS      5905.0          2729        DS   \n",
              "CON_DS2U_GCTCAAACAAAGGCGT-1        CON      7464.0          3107       CON   \n",
              "DS_2DS3_TAAGCACCACATTCGA-1          DS     13943.0          5018        DS   \n",
              "...                                ...         ...           ...       ...   \n",
              "DS_DS1_AGGGTGAGTCCGAAAG-1           DS     57452.0          9447        DS   \n",
              "CON_IMR_GTGTGGCCAAATTGCC-1         CON      3836.0          2240       CON   \n",
              "CON_DS2U_CCTCAACAGCGAAACC-1        CON      6881.0          3506       CON   \n",
              "CON_IMR_GTCCTCAAGGTTAAAC-1         CON      4583.0          2577       CON   \n",
              "CON_DS2U_GACAGCCTCGTTAGTG-1        CON      7909.0          3597       CON   \n",
              "\n",
              "                               sample  percentMito  percent_reads_top50  \\\n",
              "DS_DSP_GACCTTCCACAGTACT-1      DS_DSP     2.957497            18.427953   \n",
              "CON_IMR_GTGATGTGTCAACGCC-1    CON_IMR     6.372935            25.491739   \n",
              "DS_DS1_GTCGCGAAGAGTGTTA-1      DS_DS1     8.044030            25.808637   \n",
              "CON_DS2U_GCTCAAACAAAGGCGT-1  CON_DS2U     9.900857            24.919614   \n",
              "DS_2DS3_TAAGCACCACATTCGA-1    DS_2DS3     1.527648            16.043893   \n",
              "...                               ...          ...                  ...   \n",
              "DS_DS1_AGGGTGAGTCCGAAAG-1      DS_DS1     9.656757            20.410081   \n",
              "CON_IMR_GTGTGGCCAAATTGCC-1    CON_IMR     6.803962            23.957247   \n",
              "CON_DS2U_CCTCAACAGCGAAACC-1  CON_DS2U     6.888534            20.956256   \n",
              "CON_IMR_GTCCTCAAGGTTAAAC-1    CON_IMR     0.894611            16.910321   \n",
              "CON_DS2U_GACAGCCTCGTTAGTG-1  CON_DS2U     3.780503            20.394487   \n",
              "\n",
              "                             nCount_SCT  nFeature_SCT SCT_snn_res.0.8  \\\n",
              "DS_DSP_GACCTTCCACAGTACT-1       10567.0          4975               6   \n",
              "CON_IMR_GTGATGTGTCAACGCC-1       5685.0          1781               2   \n",
              "DS_DS1_GTCGCGAAGAGTGTTA-1        7337.0          2728               9   \n",
              "CON_DS2U_GCTCAAACAAAGGCGT-1      8497.0          3105               7   \n",
              "DS_2DS3_TAAGCACCACATTCGA-1      10556.0          4999               6   \n",
              "...                                 ...           ...             ...   \n",
              "DS_DS1_AGGGTGAGTCCGAAAG-1        8929.0          3987              24   \n",
              "CON_IMR_GTGTGGCCAAATTGCC-1       6151.0          2299               7   \n",
              "CON_DS2U_CCTCAACAGCGAAACC-1      8134.0          3508              15   \n",
              "CON_IMR_GTCCTCAAGGTTAAAC-1       6139.0          2594              15   \n",
              "CON_DS2U_GACAGCCTCGTTAGTG-1      8521.0          3597               3   \n",
              "\n",
              "                             seurat_clusters clust_orig  \\\n",
              "DS_DSP_GACCTTCCACAGTACT-1                  1          1   \n",
              "CON_IMR_GTGATGTGTCAACGCC-1                15          2   \n",
              "DS_DS1_GTCGCGAAGAGTGTTA-1                  7          8   \n",
              "CON_DS2U_GCTCAAACAAAGGCGT-1               10          9   \n",
              "DS_2DS3_TAAGCACCACATTCGA-1                 1          1   \n",
              "...                                      ...        ...   \n",
              "DS_DS1_AGGGTGAGTCCGAAAG-1                 19         13   \n",
              "CON_IMR_GTGTGGCCAAATTGCC-1                10          9   \n",
              "CON_DS2U_CCTCAACAGCGAAACC-1               11         12   \n",
              "CON_IMR_GTCCTCAAGGTTAAAC-1                11         12   \n",
              "CON_DS2U_GACAGCCTCGTTAGTG-1                9          4   \n",
              "\n",
              "                                       clust_orig_lab clust_recl  \\\n",
              "DS_DSP_GACCTTCCACAGTACT-1                   NEU_inh_1         c6   \n",
              "CON_IMR_GTGATGTGTCAACGCC-1                  NEU_low_2         c2   \n",
              "DS_DS1_GTCGCGAAGAGTGTTA-1              NPC_GJA1_ID3_8         c9   \n",
              "CON_DS2U_GCTCAAACAAAGGCGT-1     NEU_exc_TBR1_SLC1A2_9         c7   \n",
              "DS_2DS3_TAAGCACCACATTCGA-1                  NEU_inh_1         c6   \n",
              "...                                               ...        ...   \n",
              "DS_DS1_AGGGTGAGTCCGAAAG-1      NEU_exc_TBR1_SLC1A2_13        c24   \n",
              "CON_IMR_GTGTGGCCAAATTGCC-1      NEU_exc_TBR1_SLC1A2_9         c7   \n",
              "CON_DS2U_CCTCAACAGCGAAACC-1                    NPC_12        c15   \n",
              "CON_IMR_GTCCTCAAGGTTAAAC-1                     NPC_12        c15   \n",
              "CON_DS2U_GACAGCCTCGTTAGTG-1  NEU_exc_SLC17A7_NEUROD_4         c3   \n",
              "\n",
              "                             integrated_snn_res.0.8  cluster_type  \n",
              "DS_DSP_GACCTTCCACAGTACT-1                         1       NEU_inh  \n",
              "CON_IMR_GTGATGTGTCAACGCC-1                       15       NEU_low  \n",
              "DS_DS1_GTCGCGAAGAGTGTTA-1                         7  NPC_GJA1_ID3  \n",
              "CON_DS2U_GCTCAAACAAAGGCGT-1                      10  NEU_exc_TBR1  \n",
              "DS_2DS3_TAAGCACCACATTCGA-1                        1       NEU_inh  \n",
              "...                                             ...           ...  \n",
              "DS_DS1_AGGGTGAGTCCGAAAG-1                        19  NEU_exc_TBR1  \n",
              "CON_IMR_GTGTGGCCAAATTGCC-1                       10  NEU_exc_TBR1  \n",
              "CON_DS2U_CCTCAACAGCGAAACC-1                      11           NPC  \n",
              "CON_IMR_GTCCTCAAGGTTAAAC-1                       11           NPC  \n",
              "CON_DS2U_GACAGCCTCGTTAGTG-1                       9  NEU_exc_TBR1  \n",
              "\n",
              "[5000 rows x 16 columns]"
            ]
          },
          "execution_count": 9,
          "metadata": {},
          "output_type": "execute_result"
        }
      ],
      "source": [
        "adata.X = csr_matrix(adata.X)\n",
        "\n",
        "adata.X = adata.X.todense()\n",
        "\n",
        "adata.obs\n",
        "adata.obs = adata.obs.rename(columns = {'group':'condition'})\n",
        "adata.obs"
      ]
    },
    {
      "cell_type": "code",
      "execution_count": null,
      "metadata": {
        "colab": {
          "base_uri": "https://localhost:8080/"
        },
        "id": "KLXweBN1tBpz",
        "outputId": "de173e2d-6bcb-4826-adae-14cfbf542db5"
      },
      "outputs": [
        {
          "name": "stderr",
          "output_type": "stream",
          "text": [
            "/var/folders/f2/tr4hpwss57b952qwypb78gb40000gn/T/ipykernel_4904/4238645510.py:1: FutureWarning: X.dtype being converted to np.float32 from float64. In the next version of anndata (0.9) conversion will not be automatic. Pass dtype explicitly to avoid this warning. Pass `AnnData(X, dtype=X.dtype, ...)` to get the future behavour.\n",
            "  data = anndata.AnnData(\n"
          ]
        }
      ],
      "source": [
        "data = anndata.AnnData(\n",
        "  X=adata.X,\n",
        "  var=adata.var,\n",
        "  obs=adata.obs\n",
        ")"
      ]
    },
    {
      "cell_type": "code",
      "execution_count": null,
      "metadata": {
        "id": "0R0hmuUO_GlN"
      },
      "outputs": [],
      "source": [
        "sc.pp.highly_variable_genes(data, n_top_genes=500, subset = True, flavor = \"seurat_v3\", batch_key=\"sample\")"
      ]
    },
    {
      "cell_type": "code",
      "execution_count": null,
      "metadata": {
        "colab": {
          "base_uri": "https://localhost:8080/"
        },
        "id": "xDbPMADU_GlO",
        "outputId": "c9c8a546-f302-4b52-8af4-d6e97a7f19a1"
      },
      "outputs": [
        {
          "data": {
            "text/plain": [
              "AnnData object with n_obs × n_vars = 5000 × 500\n",
              "    obs: 'orig.ident', 'nCount_RNA', 'nFeature_RNA', 'condition', 'sample', 'percentMito', 'percent_reads_top50', 'nCount_SCT', 'nFeature_SCT', 'SCT_snn_res.0.8', 'seurat_clusters', 'clust_orig', 'clust_orig_lab', 'clust_recl', 'integrated_snn_res.0.8', 'cluster_type'\n",
              "    var: 'features', 'highly_variable', 'highly_variable_rank', 'means', 'variances', 'variances_norm', 'highly_variable_nbatches'\n",
              "    uns: 'hvg'"
            ]
          },
          "execution_count": 12,
          "metadata": {},
          "output_type": "execute_result"
        }
      ],
      "source": [
        "data"
      ]
    },
    {
      "cell_type": "code",
      "execution_count": null,
      "metadata": {
        "colab": {
          "base_uri": "https://localhost:8080/"
        },
        "id": "dkeUxkInn8pi",
        "outputId": "f6c6dc0d-13cd-49cd-cd24-e04e1222ef70"
      },
      "outputs": [
        {
          "name": "stdout",
          "output_type": "stream",
          "text": [
            "134217728\n",
            "training location model: False\n",
            "training scale model: True\n",
            "iter   0: ll=2100928.526515\n",
            "iter   1: ll=2100928.526515, converged: 0.00% (loc: 100.00%, scale update: False), in 0.00sec\n",
            "iter   2: ll=2085172.546447, converged: 0.00% (loc: 0.00%, scale update: True), in 4.02sec\n",
            "iter   3: ll=2085172.546447, converged: 0.00% (loc: 100.00%, scale update: False), in 0.00sec\n",
            "iter   4: ll=2085172.546447, converged: 100.00% (loc: 100.00%, scale update: True), in 3.53sec\n",
            "134217728\n",
            "134217728\n"
          ]
        },
        {
          "ename": "ZeroDivisionError",
          "evalue": "float division by zero",
          "output_type": "error",
          "traceback": [
            "\u001b[0;31m---------------------------------------------------------------------------\u001b[0m",
            "\u001b[0;31mZeroDivisionError\u001b[0m                         Traceback (most recent call last)",
            "Cell \u001b[0;32mIn [13], line 1\u001b[0m\n\u001b[0;32m----> 1\u001b[0m test \u001b[39m=\u001b[39m de\u001b[39m.\u001b[39;49mtest\u001b[39m.\u001b[39;49mwald(\n\u001b[1;32m      2\u001b[0m     data\u001b[39m=\u001b[39;49mdata,\n\u001b[1;32m      3\u001b[0m     formula_loc\u001b[39m=\u001b[39;49m\u001b[39m\"\u001b[39;49m\u001b[39m~ 1 + condition\u001b[39;49m\u001b[39m\"\u001b[39;49m,\n\u001b[1;32m      4\u001b[0m     factor_loc_totest\u001b[39m=\u001b[39;49m\u001b[39m\"\u001b[39;49m\u001b[39mcondition\u001b[39;49m\u001b[39m\"\u001b[39;49m,\n\u001b[1;32m      5\u001b[0m )\n",
            "File \u001b[0;32m/opt/homebrew/lib/python3.10/site-packages/diffxpy/testing/tests.py:717\u001b[0m, in \u001b[0;36mwald\u001b[0;34m(data, factor_loc_totest, coef_to_test, formula_loc, formula_scale, as_numeric, init_a, init_b, gene_names, sample_description, dmat_loc, dmat_scale, constraints_loc, constraints_scale, noise_model, size_factors, batch_size, backend, train_args, training_strategy, quick_scale, dtype, **kwargs)\u001b[0m\n\u001b[1;32m    714\u001b[0m col_indices \u001b[39m=\u001b[39m np\u001b[39m.\u001b[39marray([np\u001b[39m.\u001b[39mwhere(constraints_loc_temp[x, :] \u001b[39m==\u001b[39m \u001b[39m1\u001b[39m)[\u001b[39m0\u001b[39m][\u001b[39m0\u001b[39m] \u001b[39mfor\u001b[39;00m x \u001b[39min\u001b[39;00m col_indices])\n\u001b[1;32m    716\u001b[0m \u001b[39m# Fit model.\u001b[39;00m\n\u001b[0;32m--> 717\u001b[0m model \u001b[39m=\u001b[39m _fit(\n\u001b[1;32m    718\u001b[0m     noise_model\u001b[39m=\u001b[39;49mnoise_model,\n\u001b[1;32m    719\u001b[0m     data\u001b[39m=\u001b[39;49mdata,\n\u001b[1;32m    720\u001b[0m     design_loc\u001b[39m=\u001b[39;49mdesign_loc,\n\u001b[1;32m    721\u001b[0m     design_scale\u001b[39m=\u001b[39;49mdesign_scale,\n\u001b[1;32m    722\u001b[0m     design_loc_names\u001b[39m=\u001b[39;49mdesign_loc_names,\n\u001b[1;32m    723\u001b[0m     design_scale_names\u001b[39m=\u001b[39;49mdesign_scale_names,\n\u001b[1;32m    724\u001b[0m     constraints_loc\u001b[39m=\u001b[39;49mconstraints_loc,\n\u001b[1;32m    725\u001b[0m     constraints_scale\u001b[39m=\u001b[39;49mconstraints_scale,\n\u001b[1;32m    726\u001b[0m     init_a\u001b[39m=\u001b[39;49minit_a,\n\u001b[1;32m    727\u001b[0m     init_b\u001b[39m=\u001b[39;49minit_b,\n\u001b[1;32m    728\u001b[0m     gene_names\u001b[39m=\u001b[39;49mgene_names,\n\u001b[1;32m    729\u001b[0m     size_factors\u001b[39m=\u001b[39;49msize_factors,\n\u001b[1;32m    730\u001b[0m     batch_size\u001b[39m=\u001b[39;49mbatch_size,\n\u001b[1;32m    731\u001b[0m     backend\u001b[39m=\u001b[39;49mbackend,\n\u001b[1;32m    732\u001b[0m     train_args\u001b[39m=\u001b[39;49mtrain_args,\n\u001b[1;32m    733\u001b[0m     training_strategy\u001b[39m=\u001b[39;49mtraining_strategy,\n\u001b[1;32m    734\u001b[0m     quick_scale\u001b[39m=\u001b[39;49mquick_scale,\n\u001b[1;32m    735\u001b[0m     dtype\u001b[39m=\u001b[39;49mdtype,\n\u001b[1;32m    736\u001b[0m     \u001b[39m*\u001b[39;49m\u001b[39m*\u001b[39;49mkwargs,\n\u001b[1;32m    737\u001b[0m )\n\u001b[1;32m    739\u001b[0m \u001b[39m# Prepare differential expression test.\u001b[39;00m\n\u001b[1;32m    740\u001b[0m de_test \u001b[39m=\u001b[39m DifferentialExpressionTestWald(\n\u001b[1;32m    741\u001b[0m     model_estim\u001b[39m=\u001b[39mmodel,\n\u001b[1;32m    742\u001b[0m     col_indices\u001b[39m=\u001b[39mcol_indices,\n\u001b[1;32m    743\u001b[0m     noise_model\u001b[39m=\u001b[39mnoise_model,\n\u001b[1;32m    744\u001b[0m     sample_description\u001b[39m=\u001b[39msample_description\n\u001b[1;32m    745\u001b[0m )\n",
            "File \u001b[0;32m/opt/homebrew/lib/python3.10/site-packages/diffxpy/testing/tests.py:248\u001b[0m, in \u001b[0;36m_fit\u001b[0;34m(noise_model, data, design_loc, design_scale, design_loc_names, design_scale_names, constraints_loc, constraints_scale, init_model, init_a, init_b, gene_names, size_factors, batch_size, backend, training_strategy, quick_scale, train_args, close_session, dtype)\u001b[0m\n\u001b[1;32m    242\u001b[0m estim\u001b[39m.\u001b[39mtrain_sequence(\n\u001b[1;32m    243\u001b[0m     training_strategy\u001b[39m=\u001b[39mtraining_strategy,\n\u001b[1;32m    244\u001b[0m     \u001b[39m*\u001b[39m\u001b[39m*\u001b[39mtrain_args\n\u001b[1;32m    245\u001b[0m )\n\u001b[1;32m    247\u001b[0m \u001b[39mif\u001b[39;00m close_session:\n\u001b[0;32m--> 248\u001b[0m     estim\u001b[39m.\u001b[39;49mfinalize()\n\u001b[1;32m    249\u001b[0m \u001b[39mreturn\u001b[39;00m estim\n",
            "File \u001b[0;32m/opt/homebrew/lib/python3.10/site-packages/batchglm/train/numpy/base_glm/estimator.py:544\u001b[0m, in \u001b[0;36mEstimatorGlm.finalize\u001b[0;34m(self)\u001b[0m\n\u001b[1;32m    536\u001b[0m \u001b[39m\"\"\"\u001b[39;00m\n\u001b[1;32m    537\u001b[0m \u001b[39mEvaluate all tensors that need to be exported from session and save these as class attributes\u001b[39;00m\n\u001b[1;32m    538\u001b[0m \u001b[39mand close session.\u001b[39;00m\n\u001b[0;32m   (...)\u001b[0m\n\u001b[1;32m    541\u001b[0m \u001b[39mtransfers relevant attributes.\u001b[39;00m\n\u001b[1;32m    542\u001b[0m \u001b[39m\"\"\"\u001b[39;00m\n\u001b[1;32m    543\u001b[0m \u001b[39m# Read from numpy-IRLS estimator specific model:\u001b[39;00m\n\u001b[0;32m--> 544\u001b[0m \u001b[39mself\u001b[39m\u001b[39m.\u001b[39m_hessian \u001b[39m=\u001b[39m \u001b[39m-\u001b[39m \u001b[39mself\u001b[39;49m\u001b[39m.\u001b[39;49mmodel\u001b[39m.\u001b[39;49mfim\u001b[39m.\u001b[39mcompute()\n\u001b[1;32m    545\u001b[0m fisher_inv \u001b[39m=\u001b[39m np\u001b[39m.\u001b[39mzeros_like(\u001b[39mself\u001b[39m\u001b[39m.\u001b[39m_hessian)\n\u001b[1;32m    546\u001b[0m invertible \u001b[39m=\u001b[39m np\u001b[39m.\u001b[39mwhere(np\u001b[39m.\u001b[39mlinalg\u001b[39m.\u001b[39mcond(\u001b[39mself\u001b[39m\u001b[39m.\u001b[39m_hessian, p\u001b[39m=\u001b[39m\u001b[39mNone\u001b[39;00m) \u001b[39m<\u001b[39m \u001b[39m1\u001b[39m \u001b[39m/\u001b[39m sys\u001b[39m.\u001b[39mfloat_info\u001b[39m.\u001b[39mepsilon)[\u001b[39m0\u001b[39m]\n",
            "File \u001b[0;32m/opt/homebrew/lib/python3.10/site-packages/batchglm/train/numpy/base_glm/model.py:136\u001b[0m, in \u001b[0;36mModelIwls.fim\u001b[0;34m(self)\u001b[0m\n\u001b[1;32m    133\u001b[0m fim_ab \u001b[39m=\u001b[39m \u001b[39mself\u001b[39m\u001b[39m.\u001b[39mfim_ab\n\u001b[1;32m    134\u001b[0m fim_ba \u001b[39m=\u001b[39m np\u001b[39m.\u001b[39mtranspose(fim_ab, axes\u001b[39m=\u001b[39m[\u001b[39m0\u001b[39m, \u001b[39m2\u001b[39m, \u001b[39m1\u001b[39m])\n\u001b[1;32m    135\u001b[0m \u001b[39mreturn\u001b[39;00m \u001b[39m-\u001b[39m np\u001b[39m.\u001b[39mconcatenate([\n\u001b[0;32m--> 136\u001b[0m     np\u001b[39m.\u001b[39;49mconcatenate([fim_aa, fim_ab], axis\u001b[39m=\u001b[39;49m\u001b[39m2\u001b[39;49m),\n\u001b[1;32m    137\u001b[0m     np\u001b[39m.\u001b[39mconcatenate([fim_ba, fim_bb], axis\u001b[39m=\u001b[39m\u001b[39m2\u001b[39m)\n\u001b[1;32m    138\u001b[0m ], axis\u001b[39m=\u001b[39m\u001b[39m1\u001b[39m)\n",
            "File \u001b[0;32m<__array_function__ internals>:180\u001b[0m, in \u001b[0;36mconcatenate\u001b[0;34m(*args, **kwargs)\u001b[0m\n",
            "File \u001b[0;32m/opt/homebrew/lib/python3.10/site-packages/dask/array/core.py:1760\u001b[0m, in \u001b[0;36mArray.__array_function__\u001b[0;34m(self, func, types, args, kwargs)\u001b[0m\n\u001b[1;32m   1757\u001b[0m \u001b[39mif\u001b[39;00m has_keyword(da_func, \u001b[39m\"\u001b[39m\u001b[39mlike\u001b[39m\u001b[39m\"\u001b[39m):\n\u001b[1;32m   1758\u001b[0m     kwargs[\u001b[39m\"\u001b[39m\u001b[39mlike\u001b[39m\u001b[39m\"\u001b[39m] \u001b[39m=\u001b[39m \u001b[39mself\u001b[39m\n\u001b[0;32m-> 1760\u001b[0m \u001b[39mreturn\u001b[39;00m da_func(\u001b[39m*\u001b[39;49margs, \u001b[39m*\u001b[39;49m\u001b[39m*\u001b[39;49mkwargs)\n",
            "File \u001b[0;32m/opt/homebrew/lib/python3.10/site-packages/dask/array/core.py:4202\u001b[0m, in \u001b[0;36mconcatenate\u001b[0;34m(seq, axis, allow_unknown_chunksizes)\u001b[0m\n\u001b[1;32m   4158\u001b[0m \u001b[39m\"\"\"\u001b[39;00m\n\u001b[1;32m   4159\u001b[0m \u001b[39mConcatenate arrays along an existing axis\u001b[39;00m\n\u001b[1;32m   4160\u001b[0m \n\u001b[0;32m   (...)\u001b[0m\n\u001b[1;32m   4198\u001b[0m \u001b[39mstack\u001b[39;00m\n\u001b[1;32m   4199\u001b[0m \u001b[39m\"\"\"\u001b[39;00m\n\u001b[1;32m   4200\u001b[0m \u001b[39mfrom\u001b[39;00m \u001b[39mdask\u001b[39;00m\u001b[39m.\u001b[39;00m\u001b[39marray\u001b[39;00m \u001b[39mimport\u001b[39;00m wrap\n\u001b[0;32m-> 4202\u001b[0m seq \u001b[39m=\u001b[39m [asarray(a, allow_unknown_chunksizes\u001b[39m=\u001b[39mallow_unknown_chunksizes) \u001b[39mfor\u001b[39;00m a \u001b[39min\u001b[39;00m seq]\n\u001b[1;32m   4204\u001b[0m \u001b[39mif\u001b[39;00m \u001b[39mnot\u001b[39;00m seq:\n\u001b[1;32m   4205\u001b[0m     \u001b[39mraise\u001b[39;00m \u001b[39mValueError\u001b[39;00m(\u001b[39m\"\u001b[39m\u001b[39mNeed array(s) to concatenate\u001b[39m\u001b[39m\"\u001b[39m)\n",
            "File \u001b[0;32m/opt/homebrew/lib/python3.10/site-packages/dask/array/core.py:4202\u001b[0m, in \u001b[0;36m<listcomp>\u001b[0;34m(.0)\u001b[0m\n\u001b[1;32m   4158\u001b[0m \u001b[39m\"\"\"\u001b[39;00m\n\u001b[1;32m   4159\u001b[0m \u001b[39mConcatenate arrays along an existing axis\u001b[39;00m\n\u001b[1;32m   4160\u001b[0m \n\u001b[0;32m   (...)\u001b[0m\n\u001b[1;32m   4198\u001b[0m \u001b[39mstack\u001b[39;00m\n\u001b[1;32m   4199\u001b[0m \u001b[39m\"\"\"\u001b[39;00m\n\u001b[1;32m   4200\u001b[0m \u001b[39mfrom\u001b[39;00m \u001b[39mdask\u001b[39;00m\u001b[39m.\u001b[39;00m\u001b[39marray\u001b[39;00m \u001b[39mimport\u001b[39;00m wrap\n\u001b[0;32m-> 4202\u001b[0m seq \u001b[39m=\u001b[39m [asarray(a, allow_unknown_chunksizes\u001b[39m=\u001b[39;49mallow_unknown_chunksizes) \u001b[39mfor\u001b[39;00m a \u001b[39min\u001b[39;00m seq]\n\u001b[1;32m   4204\u001b[0m \u001b[39mif\u001b[39;00m \u001b[39mnot\u001b[39;00m seq:\n\u001b[1;32m   4205\u001b[0m     \u001b[39mraise\u001b[39;00m \u001b[39mValueError\u001b[39;00m(\u001b[39m\"\u001b[39m\u001b[39mNeed array(s) to concatenate\u001b[39m\u001b[39m\"\u001b[39m)\n",
            "File \u001b[0;32m/opt/homebrew/lib/python3.10/site-packages/dask/array/core.py:4550\u001b[0m, in \u001b[0;36masarray\u001b[0;34m(a, allow_unknown_chunksizes, dtype, order, like, **kwargs)\u001b[0m\n\u001b[1;32m   4548\u001b[0m     \u001b[39melse\u001b[39;00m:\n\u001b[1;32m   4549\u001b[0m         a \u001b[39m=\u001b[39m np\u001b[39m.\u001b[39masarray(a, like\u001b[39m=\u001b[39mlike_meta, dtype\u001b[39m=\u001b[39mdtype, order\u001b[39m=\u001b[39morder)\n\u001b[0;32m-> 4550\u001b[0m \u001b[39mreturn\u001b[39;00m from_array(a, getitem\u001b[39m=\u001b[39;49mgetter_inline, \u001b[39m*\u001b[39;49m\u001b[39m*\u001b[39;49mkwargs)\n",
            "File \u001b[0;32m/opt/homebrew/lib/python3.10/site-packages/dask/array/core.py:3460\u001b[0m, in \u001b[0;36mfrom_array\u001b[0;34m(x, chunks, name, lock, asarray, fancy, getitem, meta, inline_array)\u001b[0m\n\u001b[1;32m   3456\u001b[0m     asarray \u001b[39m=\u001b[39m \u001b[39mnot\u001b[39;00m \u001b[39mhasattr\u001b[39m(x, \u001b[39m\"\u001b[39m\u001b[39m__array_function__\u001b[39m\u001b[39m\"\u001b[39m)\n\u001b[1;32m   3458\u001b[0m previous_chunks \u001b[39m=\u001b[39m \u001b[39mgetattr\u001b[39m(x, \u001b[39m\"\u001b[39m\u001b[39mchunks\u001b[39m\u001b[39m\"\u001b[39m, \u001b[39mNone\u001b[39;00m)\n\u001b[0;32m-> 3460\u001b[0m chunks \u001b[39m=\u001b[39m normalize_chunks(\n\u001b[1;32m   3461\u001b[0m     chunks, x\u001b[39m.\u001b[39;49mshape, dtype\u001b[39m=\u001b[39;49mx\u001b[39m.\u001b[39;49mdtype, previous_chunks\u001b[39m=\u001b[39;49mprevious_chunks\n\u001b[1;32m   3462\u001b[0m )\n\u001b[1;32m   3464\u001b[0m \u001b[39mif\u001b[39;00m name \u001b[39min\u001b[39;00m (\u001b[39mNone\u001b[39;00m, \u001b[39mTrue\u001b[39;00m):\n\u001b[1;32m   3465\u001b[0m     token \u001b[39m=\u001b[39m tokenize(x, chunks, lock, asarray, fancy, getitem, inline_array)\n",
            "File \u001b[0;32m/opt/homebrew/lib/python3.10/site-packages/dask/array/core.py:3073\u001b[0m, in \u001b[0;36mnormalize_chunks\u001b[0;34m(chunks, shape, limit, dtype, previous_chunks)\u001b[0m\n\u001b[1;32m   3070\u001b[0m chunks \u001b[39m=\u001b[39m \u001b[39mtuple\u001b[39m(\u001b[39m\"\u001b[39m\u001b[39mauto\u001b[39m\u001b[39m\"\u001b[39m \u001b[39mif\u001b[39;00m \u001b[39misinstance\u001b[39m(c, \u001b[39mstr\u001b[39m) \u001b[39mand\u001b[39;00m c \u001b[39m!=\u001b[39m \u001b[39m\"\u001b[39m\u001b[39mauto\u001b[39m\u001b[39m\"\u001b[39m \u001b[39melse\u001b[39;00m c \u001b[39mfor\u001b[39;00m c \u001b[39min\u001b[39;00m chunks)\n\u001b[1;32m   3072\u001b[0m \u001b[39mif\u001b[39;00m \u001b[39many\u001b[39m(c \u001b[39m==\u001b[39m \u001b[39m\"\u001b[39m\u001b[39mauto\u001b[39m\u001b[39m\"\u001b[39m \u001b[39mfor\u001b[39;00m c \u001b[39min\u001b[39;00m chunks):\n\u001b[0;32m-> 3073\u001b[0m     chunks \u001b[39m=\u001b[39m auto_chunks(chunks, shape, limit, dtype, previous_chunks)\n\u001b[1;32m   3075\u001b[0m \u001b[39mif\u001b[39;00m shape \u001b[39mis\u001b[39;00m \u001b[39mnot\u001b[39;00m \u001b[39mNone\u001b[39;00m:\n\u001b[1;32m   3076\u001b[0m     chunks \u001b[39m=\u001b[39m \u001b[39mtuple\u001b[39m(c \u001b[39mif\u001b[39;00m c \u001b[39mnot\u001b[39;00m \u001b[39min\u001b[39;00m {\u001b[39mNone\u001b[39;00m, \u001b[39m-\u001b[39m\u001b[39m1\u001b[39m} \u001b[39melse\u001b[39;00m s \u001b[39mfor\u001b[39;00m c, s \u001b[39min\u001b[39;00m \u001b[39mzip\u001b[39m(chunks, shape))\n",
            "File \u001b[0;32m/opt/homebrew/lib/python3.10/site-packages/dask/array/core.py:3250\u001b[0m, in \u001b[0;36mauto_chunks\u001b[0;34m(chunks, shape, limit, dtype, previous_chunks)\u001b[0m\n\u001b[1;32m   3248\u001b[0m     \u001b[39mfor\u001b[39;00m i \u001b[39min\u001b[39;00m small:\n\u001b[1;32m   3249\u001b[0m         chunks[i] \u001b[39m=\u001b[39m (shape[i],)\n\u001b[0;32m-> 3250\u001b[0m     \u001b[39mreturn\u001b[39;00m auto_chunks(chunks, shape, limit, dtype)\n\u001b[1;32m   3252\u001b[0m \u001b[39mfor\u001b[39;00m i \u001b[39min\u001b[39;00m autos:\n\u001b[1;32m   3253\u001b[0m     chunks[i] \u001b[39m=\u001b[39m round_to(size, shape[i])\n",
            "File \u001b[0;32m/opt/homebrew/lib/python3.10/site-packages/dask/array/core.py:3245\u001b[0m, in \u001b[0;36mauto_chunks\u001b[0;34m(chunks, shape, limit, dtype, previous_chunks)\u001b[0m\n\u001b[1;32m   3241\u001b[0m     \u001b[39mraise\u001b[39;00m \u001b[39mValueError\u001b[39;00m(\n\u001b[1;32m   3242\u001b[0m         \u001b[39m\"\u001b[39m\u001b[39mauto-chunking with dtype.itemsize == 0 is not supported, please pass in `chunks` explicitly\u001b[39m\u001b[39m\"\u001b[39m\n\u001b[1;32m   3243\u001b[0m     )\n\u001b[1;32m   3244\u001b[0m \u001b[39mprint\u001b[39m(limit)\n\u001b[0;32m-> 3245\u001b[0m size \u001b[39m=\u001b[39m (limit \u001b[39m/\u001b[39;49m dtype\u001b[39m.\u001b[39;49mitemsize \u001b[39m/\u001b[39;49m largest_block) \u001b[39m*\u001b[39m\u001b[39m*\u001b[39m (\u001b[39m1\u001b[39m \u001b[39m/\u001b[39m \u001b[39mlen\u001b[39m(autos))\n\u001b[1;32m   3246\u001b[0m small \u001b[39m=\u001b[39m [i \u001b[39mfor\u001b[39;00m i \u001b[39min\u001b[39;00m autos \u001b[39mif\u001b[39;00m shape[i] \u001b[39m<\u001b[39m size]\n\u001b[1;32m   3247\u001b[0m \u001b[39mif\u001b[39;00m small:\n",
            "\u001b[0;31mZeroDivisionError\u001b[0m: float division by zero"
          ]
        }
      ],
      "source": [
        "test = de.test.wald(\n",
        "    data=data,\n",
        "    formula_loc=\"~ 1 + condition\",\n",
        "    factor_loc_totest=\"condition\",\n",
        ")"
      ]
    },
    {
      "cell_type": "code",
      "execution_count": null,
      "metadata": {
        "colab": {
          "base_uri": "https://localhost:8080/"
        },
        "id": "HYHl6Cdppg56",
        "outputId": "d0f7230c-8073-4e15-994f-fd418fa67d7d"
      },
      "outputs": [
        {
          "ename": "NameError",
          "evalue": "name 'test' is not defined",
          "output_type": "error",
          "traceback": [
            "\u001b[0;31m---------------------------------------------------------------------------\u001b[0m",
            "\u001b[0;31mNameError\u001b[0m                                 Traceback (most recent call last)",
            "Cell \u001b[0;32mIn [14], line 1\u001b[0m\n\u001b[0;32m----> 1\u001b[0m test\u001b[39m.\u001b[39mqval[:\u001b[39m10\u001b[39m]\n",
            "\u001b[0;31mNameError\u001b[0m: name 'test' is not defined"
          ]
        }
      ],
      "source": [
        "test.qval[:10]"
      ]
    },
    {
      "cell_type": "code",
      "execution_count": null,
      "metadata": {
        "id": "VH3odU1_pg9G"
      },
      "outputs": [
        {
          "ename": "NameError",
          "evalue": "name 'test' is not defined",
          "output_type": "error",
          "traceback": [
            "\u001b[0;31m---------------------------------------------------------------------------\u001b[0m",
            "\u001b[0;31mNameError\u001b[0m                                 Traceback (most recent call last)",
            "Cell \u001b[0;32mIn [15], line 1\u001b[0m\n\u001b[0;32m----> 1\u001b[0m summaryTest \u001b[39m=\u001b[39m test\u001b[39m.\u001b[39msummary()\u001b[39m.\u001b[39miloc[:\u001b[39m10\u001b[39m,:]\n",
            "\u001b[0;31mNameError\u001b[0m: name 'test' is not defined"
          ]
        }
      ],
      "source": [
        "summaryTest = test.summary().iloc[:10,:]"
      ]
    },
    {
      "cell_type": "code",
      "execution_count": null,
      "metadata": {
        "colab": {
          "base_uri": "https://localhost:8080/",
          "height": 363
        },
        "id": "h4lmf4Rb_GlP",
        "outputId": "bd41a266-ea37-45fd-96c1-f0551765636a"
      },
      "outputs": [
        {
          "data": {
            "text/html": [
              "\n",
              "  <div id=\"df-f41baf29-ed98-4a20-a4f9-47411c89d3ac\">\n",
              "    <div class=\"colab-df-container\">\n",
              "      <div>\n",
              "<style scoped>\n",
              "    .dataframe tbody tr th:only-of-type {\n",
              "        vertical-align: middle;\n",
              "    }\n",
              "\n",
              "    .dataframe tbody tr th {\n",
              "        vertical-align: top;\n",
              "    }\n",
              "\n",
              "    .dataframe thead th {\n",
              "        text-align: right;\n",
              "    }\n",
              "</style>\n",
              "<table border=\"1\" class=\"dataframe\">\n",
              "  <thead>\n",
              "    <tr style=\"text-align: right;\">\n",
              "      <th></th>\n",
              "      <th>gene</th>\n",
              "      <th>pval</th>\n",
              "      <th>qval</th>\n",
              "      <th>log2fc</th>\n",
              "      <th>mean</th>\n",
              "      <th>zero_mean</th>\n",
              "      <th>grad</th>\n",
              "      <th>coef_mle</th>\n",
              "      <th>coef_sd</th>\n",
              "      <th>ll</th>\n",
              "    </tr>\n",
              "  </thead>\n",
              "  <tbody>\n",
              "    <tr>\n",
              "      <th>4</th>\n",
              "      <td>MMP23B</td>\n",
              "      <td>1.486798e-08</td>\n",
              "      <td>1.228759e-07</td>\n",
              "      <td>1.300056</td>\n",
              "      <td>0.0258</td>\n",
              "      <td>False</td>\n",
              "      <td>8.206184e-10</td>\n",
              "      <td>1.300056</td>\n",
              "      <td>0.229567</td>\n",
              "      <td>-554.936566</td>\n",
              "    </tr>\n",
              "    <tr>\n",
              "      <th>3</th>\n",
              "      <td>MXRA8</td>\n",
              "      <td>1.930873e-07</td>\n",
              "      <td>1.342749e-06</td>\n",
              "      <td>1.443803</td>\n",
              "      <td>0.0186</td>\n",
              "      <td>False</td>\n",
              "      <td>4.517297e-10</td>\n",
              "      <td>1.443803</td>\n",
              "      <td>0.277341</td>\n",
              "      <td>-423.854813</td>\n",
              "    </tr>\n",
              "    <tr>\n",
              "      <th>7</th>\n",
              "      <td>AL139246.5</td>\n",
              "      <td>5.936807e-04</td>\n",
              "      <td>2.120288e-03</td>\n",
              "      <td>-0.335998</td>\n",
              "      <td>0.3716</td>\n",
              "      <td>False</td>\n",
              "      <td>3.363135e-08</td>\n",
              "      <td>-0.335998</td>\n",
              "      <td>0.097831</td>\n",
              "      <td>-3313.976366</td>\n",
              "    </tr>\n",
              "    <tr>\n",
              "      <th>5</th>\n",
              "      <td>GABRD</td>\n",
              "      <td>2.639391e-03</td>\n",
              "      <td>8.171488e-03</td>\n",
              "      <td>1.327730</td>\n",
              "      <td>0.0068</td>\n",
              "      <td>False</td>\n",
              "      <td>1.091034e-09</td>\n",
              "      <td>1.327730</td>\n",
              "      <td>0.441563</td>\n",
              "      <td>-187.438907</td>\n",
              "    </tr>\n",
              "    <tr>\n",
              "      <th>8</th>\n",
              "      <td>PRDM16</td>\n",
              "      <td>1.886702e-02</td>\n",
              "      <td>4.608534e-02</td>\n",
              "      <td>-0.153399</td>\n",
              "      <td>0.5290</td>\n",
              "      <td>False</td>\n",
              "      <td>1.160997e-09</td>\n",
              "      <td>-0.153399</td>\n",
              "      <td>0.065328</td>\n",
              "      <td>-4696.998589</td>\n",
              "    </tr>\n",
              "    <tr>\n",
              "      <th>6</th>\n",
              "      <td>HES5</td>\n",
              "      <td>7.627093e-02</td>\n",
              "      <td>1.462810e-01</td>\n",
              "      <td>0.126113</td>\n",
              "      <td>4.4770</td>\n",
              "      <td>False</td>\n",
              "      <td>1.453810e-07</td>\n",
              "      <td>0.126113</td>\n",
              "      <td>0.071140</td>\n",
              "      <td>-9967.616224</td>\n",
              "    </tr>\n",
              "    <tr>\n",
              "      <th>0</th>\n",
              "      <td>AL645608.2</td>\n",
              "      <td>9.996679e-02</td>\n",
              "      <td>1.819563e-01</td>\n",
              "      <td>0.230569</td>\n",
              "      <td>0.0442</td>\n",
              "      <td>False</td>\n",
              "      <td>3.291202e-10</td>\n",
              "      <td>0.230569</td>\n",
              "      <td>0.140162</td>\n",
              "      <td>-912.909472</td>\n",
              "    </tr>\n",
              "    <tr>\n",
              "      <th>1</th>\n",
              "      <td>HES4</td>\n",
              "      <td>1.390940e-01</td>\n",
              "      <td>2.371193e-01</td>\n",
              "      <td>-0.066930</td>\n",
              "      <td>2.4576</td>\n",
              "      <td>False</td>\n",
              "      <td>9.896278e-09</td>\n",
              "      <td>-0.066930</td>\n",
              "      <td>0.045248</td>\n",
              "      <td>-10024.166222</td>\n",
              "    </tr>\n",
              "    <tr>\n",
              "      <th>9</th>\n",
              "      <td>MEGF6</td>\n",
              "      <td>2.035308e-01</td>\n",
              "      <td>3.174217e-01</td>\n",
              "      <td>0.149075</td>\n",
              "      <td>0.0724</td>\n",
              "      <td>False</td>\n",
              "      <td>6.256595e-10</td>\n",
              "      <td>0.149075</td>\n",
              "      <td>0.117239</td>\n",
              "      <td>-1313.267347</td>\n",
              "    </tr>\n",
              "    <tr>\n",
              "      <th>2</th>\n",
              "      <td>TTLL10</td>\n",
              "      <td>5.042588e-01</td>\n",
              "      <td>6.202446e-01</td>\n",
              "      <td>0.349746</td>\n",
              "      <td>0.0040</td>\n",
              "      <td>False</td>\n",
              "      <td>5.004742e-11</td>\n",
              "      <td>0.349746</td>\n",
              "      <td>0.523726</td>\n",
              "      <td>-121.702134</td>\n",
              "    </tr>\n",
              "  </tbody>\n",
              "</table>\n",
              "</div>\n",
              "      <button class=\"colab-df-convert\" onclick=\"convertToInteractive('df-f41baf29-ed98-4a20-a4f9-47411c89d3ac')\"\n",
              "              title=\"Convert this dataframe to an interactive table.\"\n",
              "              style=\"display:none;\">\n",
              "        \n",
              "  <svg xmlns=\"http://www.w3.org/2000/svg\" height=\"24px\"viewBox=\"0 0 24 24\"\n",
              "       width=\"24px\">\n",
              "    <path d=\"M0 0h24v24H0V0z\" fill=\"none\"/>\n",
              "    <path d=\"M18.56 5.44l.94 2.06.94-2.06 2.06-.94-2.06-.94-.94-2.06-.94 2.06-2.06.94zm-11 1L8.5 8.5l.94-2.06 2.06-.94-2.06-.94L8.5 2.5l-.94 2.06-2.06.94zm10 10l.94 2.06.94-2.06 2.06-.94-2.06-.94-.94-2.06-.94 2.06-2.06.94z\"/><path d=\"M17.41 7.96l-1.37-1.37c-.4-.4-.92-.59-1.43-.59-.52 0-1.04.2-1.43.59L10.3 9.45l-7.72 7.72c-.78.78-.78 2.05 0 2.83L4 21.41c.39.39.9.59 1.41.59.51 0 1.02-.2 1.41-.59l7.78-7.78 2.81-2.81c.8-.78.8-2.07 0-2.86zM5.41 20L4 18.59l7.72-7.72 1.47 1.35L5.41 20z\"/>\n",
              "  </svg>\n",
              "      </button>\n",
              "      \n",
              "  <style>\n",
              "    .colab-df-container {\n",
              "      display:flex;\n",
              "      flex-wrap:wrap;\n",
              "      gap: 12px;\n",
              "    }\n",
              "\n",
              "    .colab-df-convert {\n",
              "      background-color: #E8F0FE;\n",
              "      border: none;\n",
              "      border-radius: 50%;\n",
              "      cursor: pointer;\n",
              "      display: none;\n",
              "      fill: #1967D2;\n",
              "      height: 32px;\n",
              "      padding: 0 0 0 0;\n",
              "      width: 32px;\n",
              "    }\n",
              "\n",
              "    .colab-df-convert:hover {\n",
              "      background-color: #E2EBFA;\n",
              "      box-shadow: 0px 1px 2px rgba(60, 64, 67, 0.3), 0px 1px 3px 1px rgba(60, 64, 67, 0.15);\n",
              "      fill: #174EA6;\n",
              "    }\n",
              "\n",
              "    [theme=dark] .colab-df-convert {\n",
              "      background-color: #3B4455;\n",
              "      fill: #D2E3FC;\n",
              "    }\n",
              "\n",
              "    [theme=dark] .colab-df-convert:hover {\n",
              "      background-color: #434B5C;\n",
              "      box-shadow: 0px 1px 3px 1px rgba(0, 0, 0, 0.15);\n",
              "      filter: drop-shadow(0px 1px 2px rgba(0, 0, 0, 0.3));\n",
              "      fill: #FFFFFF;\n",
              "    }\n",
              "  </style>\n",
              "\n",
              "      <script>\n",
              "        const buttonEl =\n",
              "          document.querySelector('#df-f41baf29-ed98-4a20-a4f9-47411c89d3ac button.colab-df-convert');\n",
              "        buttonEl.style.display =\n",
              "          google.colab.kernel.accessAllowed ? 'block' : 'none';\n",
              "\n",
              "        async function convertToInteractive(key) {\n",
              "          const element = document.querySelector('#df-f41baf29-ed98-4a20-a4f9-47411c89d3ac');\n",
              "          const dataTable =\n",
              "            await google.colab.kernel.invokeFunction('convertToInteractive',\n",
              "                                                     [key], {});\n",
              "          if (!dataTable) return;\n",
              "\n",
              "          const docLinkHtml = 'Like what you see? Visit the ' +\n",
              "            '<a target=\"_blank\" href=https://colab.research.google.com/notebooks/data_table.ipynb>data table notebook</a>'\n",
              "            + ' to learn more about interactive tables.';\n",
              "          element.innerHTML = '';\n",
              "          dataTable['output_type'] = 'display_data';\n",
              "          await google.colab.output.renderOutput(dataTable, element);\n",
              "          const docLink = document.createElement('div');\n",
              "          docLink.innerHTML = docLinkHtml;\n",
              "          element.appendChild(docLink);\n",
              "        }\n",
              "      </script>\n",
              "    </div>\n",
              "  </div>\n",
              "  "
            ],
            "text/plain": [
              "         gene          pval          qval    log2fc    mean  zero_mean  \\\n",
              "4      MMP23B  1.486798e-08  1.228759e-07  1.300056  0.0258      False   \n",
              "3       MXRA8  1.930873e-07  1.342749e-06  1.443803  0.0186      False   \n",
              "7  AL139246.5  5.936807e-04  2.120288e-03 -0.335998  0.3716      False   \n",
              "5       GABRD  2.639391e-03  8.171488e-03  1.327730  0.0068      False   \n",
              "8      PRDM16  1.886702e-02  4.608534e-02 -0.153399  0.5290      False   \n",
              "6        HES5  7.627093e-02  1.462810e-01  0.126113  4.4770      False   \n",
              "0  AL645608.2  9.996679e-02  1.819563e-01  0.230569  0.0442      False   \n",
              "1        HES4  1.390940e-01  2.371193e-01 -0.066930  2.4576      False   \n",
              "9       MEGF6  2.035308e-01  3.174217e-01  0.149075  0.0724      False   \n",
              "2      TTLL10  5.042588e-01  6.202446e-01  0.349746  0.0040      False   \n",
              "\n",
              "           grad  coef_mle   coef_sd            ll  \n",
              "4  8.206184e-10  1.300056  0.229567   -554.936566  \n",
              "3  4.517297e-10  1.443803  0.277341   -423.854813  \n",
              "7  3.363135e-08 -0.335998  0.097831  -3313.976366  \n",
              "5  1.091034e-09  1.327730  0.441563   -187.438907  \n",
              "8  1.160997e-09 -0.153399  0.065328  -4696.998589  \n",
              "6  1.453810e-07  0.126113  0.071140  -9967.616224  \n",
              "0  3.291202e-10  0.230569  0.140162   -912.909472  \n",
              "1  9.896278e-09 -0.066930  0.045248 -10024.166222  \n",
              "9  6.256595e-10  0.149075  0.117239  -1313.267347  \n",
              "2  5.004742e-11  0.349746  0.523726   -121.702134  "
            ]
          },
          "execution_count": 58,
          "metadata": {},
          "output_type": "execute_result"
        }
      ],
      "source": [
        "sumar.sort_values(['pval'], ascending = [True])"
      ]
    },
    {
      "cell_type": "code",
      "execution_count": null,
      "metadata": {
        "colab": {
          "base_uri": "https://localhost:8080/",
          "height": 398
        },
        "id": "4i9L0WNepg_v",
        "outputId": "5e853527-76d1-4234-a25c-c81af695daf4"
      },
      "outputs": [
        {
          "ename": "ImportError",
          "evalue": "ignored",
          "output_type": "error",
          "traceback": [
            "\u001b[0;31m---------------------------------------------------------------------------\u001b[0m",
            "\u001b[0;31mImportError\u001b[0m                               Traceback (most recent call last)",
            "\u001b[0;32m/usr/local/lib/python3.7/dist-packages/IPython/core/formatters.py\u001b[0m in \u001b[0;36m__call__\u001b[0;34m(self, obj)\u001b[0m\n\u001b[1;32m    339\u001b[0m                 \u001b[0;32mpass\u001b[0m\u001b[0;34m\u001b[0m\u001b[0;34m\u001b[0m\u001b[0m\n\u001b[1;32m    340\u001b[0m             \u001b[0;32melse\u001b[0m\u001b[0;34m:\u001b[0m\u001b[0;34m\u001b[0m\u001b[0;34m\u001b[0m\u001b[0m\n\u001b[0;32m--> 341\u001b[0;31m                 \u001b[0;32mreturn\u001b[0m \u001b[0mprinter\u001b[0m\u001b[0;34m(\u001b[0m\u001b[0mobj\u001b[0m\u001b[0;34m)\u001b[0m\u001b[0;34m\u001b[0m\u001b[0;34m\u001b[0m\u001b[0m\n\u001b[0m\u001b[1;32m    342\u001b[0m             \u001b[0;31m# Finally look for special method names\u001b[0m\u001b[0;34m\u001b[0m\u001b[0;34m\u001b[0m\u001b[0;34m\u001b[0m\u001b[0m\n\u001b[1;32m    343\u001b[0m             \u001b[0mmethod\u001b[0m \u001b[0;34m=\u001b[0m \u001b[0mget_real_method\u001b[0m\u001b[0;34m(\u001b[0m\u001b[0mobj\u001b[0m\u001b[0;34m,\u001b[0m \u001b[0mself\u001b[0m\u001b[0;34m.\u001b[0m\u001b[0mprint_method\u001b[0m\u001b[0;34m)\u001b[0m\u001b[0;34m\u001b[0m\u001b[0;34m\u001b[0m\u001b[0m\n",
            "\u001b[0;32m/usr/local/lib/python3.7/dist-packages/IPython/core/pylabtools.py\u001b[0m in \u001b[0;36m<lambda>\u001b[0;34m(fig)\u001b[0m\n\u001b[1;32m    242\u001b[0m \u001b[0;34m\u001b[0m\u001b[0m\n\u001b[1;32m    243\u001b[0m     \u001b[0;32mif\u001b[0m \u001b[0;34m'png'\u001b[0m \u001b[0;32min\u001b[0m \u001b[0mformats\u001b[0m\u001b[0;34m:\u001b[0m\u001b[0;34m\u001b[0m\u001b[0;34m\u001b[0m\u001b[0m\n\u001b[0;32m--> 244\u001b[0;31m         \u001b[0mpng_formatter\u001b[0m\u001b[0;34m.\u001b[0m\u001b[0mfor_type\u001b[0m\u001b[0;34m(\u001b[0m\u001b[0mFigure\u001b[0m\u001b[0;34m,\u001b[0m \u001b[0;32mlambda\u001b[0m \u001b[0mfig\u001b[0m\u001b[0;34m:\u001b[0m \u001b[0mprint_figure\u001b[0m\u001b[0;34m(\u001b[0m\u001b[0mfig\u001b[0m\u001b[0;34m,\u001b[0m \u001b[0;34m'png'\u001b[0m\u001b[0;34m,\u001b[0m \u001b[0;34m**\u001b[0m\u001b[0mkwargs\u001b[0m\u001b[0;34m)\u001b[0m\u001b[0;34m)\u001b[0m\u001b[0;34m\u001b[0m\u001b[0;34m\u001b[0m\u001b[0m\n\u001b[0m\u001b[1;32m    245\u001b[0m     \u001b[0;32mif\u001b[0m \u001b[0;34m'retina'\u001b[0m \u001b[0;32min\u001b[0m \u001b[0mformats\u001b[0m \u001b[0;32mor\u001b[0m \u001b[0;34m'png2x'\u001b[0m \u001b[0;32min\u001b[0m \u001b[0mformats\u001b[0m\u001b[0;34m:\u001b[0m\u001b[0;34m\u001b[0m\u001b[0;34m\u001b[0m\u001b[0m\n\u001b[1;32m    246\u001b[0m         \u001b[0mpng_formatter\u001b[0m\u001b[0;34m.\u001b[0m\u001b[0mfor_type\u001b[0m\u001b[0;34m(\u001b[0m\u001b[0mFigure\u001b[0m\u001b[0;34m,\u001b[0m \u001b[0;32mlambda\u001b[0m \u001b[0mfig\u001b[0m\u001b[0;34m:\u001b[0m \u001b[0mretina_figure\u001b[0m\u001b[0;34m(\u001b[0m\u001b[0mfig\u001b[0m\u001b[0;34m,\u001b[0m \u001b[0;34m**\u001b[0m\u001b[0mkwargs\u001b[0m\u001b[0;34m)\u001b[0m\u001b[0;34m)\u001b[0m\u001b[0;34m\u001b[0m\u001b[0;34m\u001b[0m\u001b[0m\n",
            "\u001b[0;32m/usr/local/lib/python3.7/dist-packages/IPython/core/pylabtools.py\u001b[0m in \u001b[0;36mprint_figure\u001b[0;34m(fig, fmt, bbox_inches, **kwargs)\u001b[0m\n\u001b[1;32m    126\u001b[0m \u001b[0;34m\u001b[0m\u001b[0m\n\u001b[1;32m    127\u001b[0m     \u001b[0mbytes_io\u001b[0m \u001b[0;34m=\u001b[0m \u001b[0mBytesIO\u001b[0m\u001b[0;34m(\u001b[0m\u001b[0;34m)\u001b[0m\u001b[0;34m\u001b[0m\u001b[0;34m\u001b[0m\u001b[0m\n\u001b[0;32m--> 128\u001b[0;31m     \u001b[0mfig\u001b[0m\u001b[0;34m.\u001b[0m\u001b[0mcanvas\u001b[0m\u001b[0;34m.\u001b[0m\u001b[0mprint_figure\u001b[0m\u001b[0;34m(\u001b[0m\u001b[0mbytes_io\u001b[0m\u001b[0;34m,\u001b[0m \u001b[0;34m**\u001b[0m\u001b[0mkw\u001b[0m\u001b[0;34m)\u001b[0m\u001b[0;34m\u001b[0m\u001b[0;34m\u001b[0m\u001b[0m\n\u001b[0m\u001b[1;32m    129\u001b[0m     \u001b[0mdata\u001b[0m \u001b[0;34m=\u001b[0m \u001b[0mbytes_io\u001b[0m\u001b[0;34m.\u001b[0m\u001b[0mgetvalue\u001b[0m\u001b[0;34m(\u001b[0m\u001b[0;34m)\u001b[0m\u001b[0;34m\u001b[0m\u001b[0;34m\u001b[0m\u001b[0m\n\u001b[1;32m    130\u001b[0m     \u001b[0;32mif\u001b[0m \u001b[0mfmt\u001b[0m \u001b[0;34m==\u001b[0m \u001b[0;34m'svg'\u001b[0m\u001b[0;34m:\u001b[0m\u001b[0;34m\u001b[0m\u001b[0;34m\u001b[0m\u001b[0m\n",
            "\u001b[0;32m/usr/local/lib/python3.7/dist-packages/matplotlib/backend_bases.py\u001b[0m in \u001b[0;36mprint_figure\u001b[0;34m(self, filename, dpi, facecolor, edgecolor, orientation, format, bbox_inches, **kwargs)\u001b[0m\n\u001b[1;32m   2092\u001b[0m         \u001b[0mratio\u001b[0m \u001b[0;34m:\u001b[0m \u001b[0mfloat\u001b[0m\u001b[0;34m\u001b[0m\u001b[0;34m\u001b[0m\u001b[0m\n\u001b[1;32m   2093\u001b[0m             \u001b[0mThe\u001b[0m \u001b[0mratio\u001b[0m \u001b[0mof\u001b[0m \u001b[0mlogical\u001b[0m \u001b[0mto\u001b[0m \u001b[0mphysical\u001b[0m \u001b[0mpixels\u001b[0m \u001b[0mused\u001b[0m \u001b[0;32mfor\u001b[0m \u001b[0mthe\u001b[0m \u001b[0mcanvas\u001b[0m\u001b[0;34m.\u001b[0m\u001b[0;34m\u001b[0m\u001b[0;34m\u001b[0m\u001b[0m\n\u001b[0;32m-> 2094\u001b[0;31m \u001b[0;34m\u001b[0m\u001b[0m\n\u001b[0m\u001b[1;32m   2095\u001b[0m         \u001b[0mReturns\u001b[0m\u001b[0;34m\u001b[0m\u001b[0;34m\u001b[0m\u001b[0m\n\u001b[1;32m   2096\u001b[0m         \u001b[0;34m-\u001b[0m\u001b[0;34m-\u001b[0m\u001b[0;34m-\u001b[0m\u001b[0;34m-\u001b[0m\u001b[0;34m-\u001b[0m\u001b[0;34m-\u001b[0m\u001b[0;34m-\u001b[0m\u001b[0;34m\u001b[0m\u001b[0;34m\u001b[0m\u001b[0m\n",
            "\u001b[0;32m/usr/local/lib/python3.7/dist-packages/matplotlib/backend_bases.py\u001b[0m in \u001b[0;36m_get_renderer\u001b[0;34m(figure, print_method)\u001b[0m\n\u001b[1;32m   1558\u001b[0m     \u001b[0mfigure\u001b[0m\u001b[0;34m.\u001b[0m\u001b[0mdraw_without_rendering\u001b[0m\u001b[0;34m(\u001b[0m\u001b[0;34m)\u001b[0m\u001b[0;34m\u001b[0m\u001b[0;34m\u001b[0m\u001b[0m\n\u001b[1;32m   1559\u001b[0m \u001b[0;34m\u001b[0m\u001b[0m\n\u001b[0;32m-> 1560\u001b[0;31m \u001b[0;34m\u001b[0m\u001b[0m\n\u001b[0m\u001b[1;32m   1561\u001b[0m \u001b[0;32mdef\u001b[0m \u001b[0m_is_non_interactive_terminal_ipython\u001b[0m\u001b[0;34m(\u001b[0m\u001b[0mip\u001b[0m\u001b[0;34m)\u001b[0m\u001b[0;34m:\u001b[0m\u001b[0;34m\u001b[0m\u001b[0;34m\u001b[0m\u001b[0m\n\u001b[1;32m   1562\u001b[0m     \"\"\"\n",
            "\u001b[0;32m/usr/local/lib/python3.7/dist-packages/matplotlib/backends/backend_agg.py\u001b[0m in \u001b[0;36mprint_png\u001b[0;34m(self, filename_or_obj, metadata, pil_kwargs, *args, **kwargs)\u001b[0m\n\u001b[1;32m    503\u001b[0m             \u001b[0mMetadata\u001b[0m \u001b[0;32min\u001b[0m \u001b[0mthe\u001b[0m \u001b[0mPNG\u001b[0m \u001b[0mfile\u001b[0m \u001b[0;32mas\u001b[0m \u001b[0mkey\u001b[0m\u001b[0;34m-\u001b[0m\u001b[0mvalue\u001b[0m \u001b[0mpairs\u001b[0m \u001b[0mof\u001b[0m \u001b[0mbytes\u001b[0m \u001b[0;32mor\u001b[0m \u001b[0mlatin\u001b[0m\u001b[0;34m-\u001b[0m\u001b[0;36m1\u001b[0m\u001b[0;34m\u001b[0m\u001b[0;34m\u001b[0m\u001b[0m\n\u001b[1;32m    504\u001b[0m             \u001b[0mencodable\u001b[0m \u001b[0mstrings\u001b[0m\u001b[0;34m.\u001b[0m\u001b[0;34m\u001b[0m\u001b[0;34m\u001b[0m\u001b[0m\n\u001b[0;32m--> 505\u001b[0;31m             \u001b[0mAccording\u001b[0m \u001b[0mto\u001b[0m \u001b[0mthe\u001b[0m \u001b[0mPNG\u001b[0m \u001b[0mspecification\u001b[0m\u001b[0;34m,\u001b[0m \u001b[0mkeys\u001b[0m \u001b[0mmust\u001b[0m \u001b[0mbe\u001b[0m \u001b[0mshorter\u001b[0m \u001b[0mthan\u001b[0m \u001b[0;36m79\u001b[0m\u001b[0;34m\u001b[0m\u001b[0;34m\u001b[0m\u001b[0m\n\u001b[0m\u001b[1;32m    506\u001b[0m             \u001b[0mchars\u001b[0m\u001b[0;34m.\u001b[0m\u001b[0;34m\u001b[0m\u001b[0;34m\u001b[0m\u001b[0m\n\u001b[1;32m    507\u001b[0m \u001b[0;34m\u001b[0m\u001b[0m\n",
            "\u001b[0;31mImportError\u001b[0m: cannot import name '_png' from 'matplotlib' (/usr/local/lib/python3.7/dist-packages/matplotlib/__init__.py)"
          ]
        },
        {
          "data": {
            "text/plain": [
              "<Figure size 432x288 with 1 Axes>"
            ]
          },
          "metadata": {
            "needs_background": "light"
          },
          "output_type": "display_data"
        }
      ],
      "source": [
        "test.plot_volcano(corrected_pval=True, min_fc=1.05, alpha=0.05, size=20)"
      ]
    },
    {
      "cell_type": "code",
      "execution_count": null,
      "metadata": {
        "id": "6ajO-EzNphB6"
      },
      "outputs": [],
      "source": []
    },
    {
      "cell_type": "code",
      "execution_count": null,
      "metadata": {
        "id": "0r47grJUphEZ"
      },
      "outputs": [],
      "source": []
    },
    {
      "cell_type": "code",
      "execution_count": null,
      "metadata": {
        "id": "JMKtlJ5WphGu"
      },
      "outputs": [],
      "source": []
    },
    {
      "cell_type": "code",
      "execution_count": null,
      "metadata": {
        "id": "pTtStawRphJB"
      },
      "outputs": [],
      "source": []
    },
    {
      "cell_type": "code",
      "execution_count": null,
      "metadata": {
        "id": "M1WOAsiIphLd"
      },
      "outputs": [],
      "source": []
    }
  ],
  "metadata": {
    "colab": {
      "collapsed_sections": [],
      "provenance": []
    },
    "kernelspec": {
      "display_name": "Python 3.10.8 64-bit",
      "language": "python",
      "name": "python3"
    },
    "language_info": {
      "codemirror_mode": {
        "name": "ipython",
        "version": 3
      },
      "file_extension": ".py",
      "mimetype": "text/x-python",
      "name": "python",
      "nbconvert_exporter": "python",
      "pygments_lexer": "ipython3",
      "version": "3.10.8"
    },
    "vscode": {
      "interpreter": {
        "hash": "b0fa6594d8f4cbf19f97940f81e996739fb7646882a419484c72d19e05852a7e"
      }
    }
  },
  "nbformat": 4,
  "nbformat_minor": 0
}
