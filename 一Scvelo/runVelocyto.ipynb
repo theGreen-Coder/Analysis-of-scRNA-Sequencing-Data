{
 "cells": [
  {
   "cell_type": "markdown",
   "metadata": {},
   "source": [
    "# Velocyto Analysis"
   ]
  },
  {
   "attachments": {},
   "cell_type": "markdown",
   "metadata": {},
   "source": [
    "```velocyto``` includes a shortcut to run the counting directly on one or more cellranger output folders:\n",
    "- ```outs```\n",
    "- ```outs/analys```\n",
    "- ```outs/filtered_gene_bc_matrices```\n"
   ]
  },
  {
   "attachments": {},
   "cell_type": "markdown",
   "metadata": {},
   "source": [
    "### Sample Command\n",
    "```velocyto run10x -m repeat_msk.gtf mypath/sample01 somepath/refdata-cellranger-mm10-1.2.0/genes/genes.gtf```"
   ]
  },
  {
   "attachments": {},
   "cell_type": "markdown",
   "metadata": {},
   "source": [
    "### Installation"
   ]
  },
  {
   "cell_type": "code",
   "execution_count": null,
   "metadata": {
    "vscode": {
     "languageId": "plaintext"
    }
   },
   "outputs": [],
   "source": [
    "## Installation conda\n",
    "module load anaconda3/personal\n",
    "anaconda-setup\n",
    "conda create -n scv python=3.9\n",
    "source activate scv\n",
    "conda install numpy scipy cython numba matplotlib scikit-learn h5py click\n",
    "conda install -c bioconda samtools\n",
    "pip install velocyto\n",
    "\n",
    "samtools # Check it's installed\n"
   ]
  },
  {
   "cell_type": "code",
   "execution_count": null,
   "metadata": {
    "vscode": {
     "languageId": "plaintext"
    }
   },
   "outputs": [],
   "source": [
    "## Find gene.gtf.gz\n",
    "cp ./pathToGene.gtf .\n",
    "gunzip genes.gtf.gz"
   ]
  },
  {
   "cell_type": "code",
   "execution_count": null,
   "metadata": {
    "vscode": {
     "languageId": "plaintext"
    }
   },
   "outputs": [],
   "source": [
    "## Run velocyto\n",
    "veloctyo run10x /10xOutputFolder/ genes.gtf"
   ]
  },
  {
   "cell_type": "code",
   "execution_count": null,
   "metadata": {
    "vscode": {
     "languageId": "plaintext"
    }
   },
   "outputs": [],
   "source": [
    "pyscenic ctx adjDataset.tsv hg38__refseq-r80__10kb_up_and_down_tss.mc9nr.feather --annotations_fname motifs-v9-nr.hgnc-m0.001-o0.0.tbl --expression_mtx_fname rawDataset_filtered_significant.loom --mode \"dask_multiprocessing\" --output regSignificant.csv --num_workers 20 --mask_dropouts"
   ]
  },
  {
   "cell_type": "code",
   "execution_count": null,
   "metadata": {
    "vscode": {
     "languageId": "plaintext"
    }
   },
   "outputs": [],
   "source": [
    "pyscenic add_cor adjDataset.tsv rawDataset_filtered_significant.loom --output regSignificantAddCor.csv"
   ]
  }
 ],
 "metadata": {
  "language_info": {
   "name": "python"
  },
  "orig_nbformat": 4
 },
 "nbformat": 4,
 "nbformat_minor": 2
}
