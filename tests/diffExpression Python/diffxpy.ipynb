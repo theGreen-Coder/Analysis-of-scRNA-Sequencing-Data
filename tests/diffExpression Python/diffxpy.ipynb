{
  "cells": [
    {
      "cell_type": "code",
      "execution_count": 3,
      "metadata": {
        "id": "5CC9biA3nWj1"
      },
      "outputs": [],
      "source": [
        "import anndata\n",
        "import matplotlib.pyplot as plt\n",
        "import seaborn as sns\n",
        "import logging\n",
        "import numpy as np\n",
        "import pandas as pd\n",
        "import scipy.stats\n",
        "import scanpy as sc\n",
        "from scipy.sparse import csr_matrix"
      ]
    },
    {
      "cell_type": "code",
      "execution_count": 7,
      "metadata": {
        "id": "2f30VIiSna64"
      },
      "outputs": [
        {
          "ename": "ModuleNotFoundError",
          "evalue": "No module named 'diffxpy.api'; 'diffxpy' is not a package",
          "output_type": "error",
          "traceback": [
            "\u001b[0;31m---------------------------------------------------------------------------\u001b[0m",
            "\u001b[0;31mModuleNotFoundError\u001b[0m                       Traceback (most recent call last)",
            "Cell \u001b[0;32mIn [7], line 1\u001b[0m\n\u001b[0;32m----> 1\u001b[0m \u001b[39mimport\u001b[39;00m \u001b[39mdiffxpy\u001b[39;00m\u001b[39m.\u001b[39;00m\u001b[39mapi\u001b[39;00m \u001b[39mas\u001b[39;00m \u001b[39mde\u001b[39;00m\n",
            "File \u001b[0;32m~/Desktop/Analysis-of-scRNA-Sequencing-Data/diffxpy.py:10\u001b[0m\n\u001b[1;32m      8\u001b[0m \u001b[39mimport\u001b[39;00m \u001b[39mscanpy\u001b[39;00m \u001b[39mas\u001b[39;00m \u001b[39msc\u001b[39;00m\n\u001b[1;32m      9\u001b[0m \u001b[39mfrom\u001b[39;00m \u001b[39mscipy\u001b[39;00m\u001b[39m.\u001b[39;00m\u001b[39msparse\u001b[39;00m \u001b[39mimport\u001b[39;00m csr_matrix\n\u001b[0;32m---> 10\u001b[0m \u001b[39mimport\u001b[39;00m \u001b[39mdiffxpy\u001b[39;00m\u001b[39m.\u001b[39;00m\u001b[39mapi\u001b[39;00m \u001b[39mas\u001b[39;00m \u001b[39mde\u001b[39;00m\n\u001b[1;32m     13\u001b[0m adata \u001b[39m=\u001b[39m sc\u001b[39m.\u001b[39mread(\u001b[39m\"\u001b[39m\u001b[39m./dataSaveOriginal/rawDataset.h5ad\u001b[39m\u001b[39m\"\u001b[39m) \u001b[39m# ./dataSaveOriginal/rawDataset5000.h5ad\u001b[39;00m\n\u001b[1;32m     14\u001b[0m realAdata \u001b[39m=\u001b[39m sc\u001b[39m.\u001b[39mread(\u001b[39m\"\u001b[39m\u001b[39m./dataSaveOriginal/rawDataset5000.h5ad\u001b[39m\u001b[39m\"\u001b[39m) \u001b[39m# ./dataSaveOriginal/rawDataset5000.h5ad\u001b[39;00m\n",
            "\u001b[0;31mModuleNotFoundError\u001b[0m: No module named 'diffxpy.api'; 'diffxpy' is not a package"
          ]
        }
      ],
      "source": [
        "import diffxpy.api as de"
      ]
    },
    {
      "cell_type": "code",
      "execution_count": 4,
      "metadata": {
        "colab": {
          "base_uri": "https://localhost:8080/"
        },
        "id": "-RBgO4vbqvBV",
        "outputId": "9c940660-e410-4ab1-9bc4-06d2ff2b5dc0"
      },
      "outputs": [
        {
          "name": "stdout",
          "output_type": "stream",
          "text": [
            "Name: scanpy\n",
            "Version: 1.9.1\n",
            "Summary: Single-Cell Analysis in Python.\n",
            "Home-page: \n",
            "Author: Alex Wolf, Philipp Angerer, Fidel Ramirez, Isaac Virshup, Sergei Rybakov, Gokcen Eraslan, Tom White, Malte Luecken, Davide Cittaro, Tobias Callies, Marius Lange, Andrés R. Muñoz-Rojas\n",
            "Author-email: \n",
            "License: \n",
            "Location: /opt/homebrew/lib/python3.10/site-packages\n",
            "Requires: anndata, h5py, joblib, matplotlib, natsort, networkx, numba, numpy, packaging, pandas, patsy, scikit-learn, scipy, seaborn, session-info, statsmodels, tqdm, umap-learn\n",
            "Required-by: \n"
          ]
        }
      ],
      "source": [
        "!pip3 show scanpy "
      ]
    },
    {
      "cell_type": "code",
      "execution_count": 6,
      "metadata": {
        "id": "HzVnPZz_nuZ6"
      },
      "outputs": [],
      "source": [
        "# from batchglm.api.models.tf1.glm_nb import Simulator\n",
        "\n",
        "# sim = Simulator(num_observations=200, num_features=129)\n",
        "# sim.generate_sample_description(num_batches=0, num_conditions=2)\n",
        "# sim.generate_params(\n",
        "#     rand_fn_loc=lambda shape: np.random.uniform(-0.1, 0.1, shape),\n",
        "#     rand_fn_scale=lambda shape: np.random.uniform(0.1, 2, shape)\n",
        "# )\n",
        "# sim.generate_data()\n",
        "\n",
        "# data = anndata.AnnData(\n",
        "#     X=sim.x,\n",
        "#     var=pd.DataFrame(index=[\"gene\" + str(i) for i in range(sim.x.shape[1])]),\n",
        "#     obs=sim.sample_description\n",
        "# )\n",
        "\n",
        "# print('Original adata shape:',data.shape)\n",
        "# adata_temp=anndata.concat([data,data],axis=1)\n",
        "# adata_temp.var_names_make_unique()\n",
        "# print('Modified adata shape:',adata_temp.shape)\n",
        "\n",
        "adata = sc.read(\"./dataSaveOriginal/rawDataset.h5ad\") # ./dataSaveOriginal/rawDataset5000.h5ad\n",
        "realAdata = sc.read(\"./dataSaveOriginal/rawDataset5000.h5ad\") # ./dataSaveOriginal/rawDataset5000.h5ad\n",
        "adata.var_names_make_unique()\n"
      ]
    },
    {
      "cell_type": "code",
      "execution_count": 5,
      "metadata": {
        "colab": {
          "base_uri": "https://localhost:8080/",
          "height": 540
        },
        "id": "kdaLvrEMr7qL",
        "outputId": "347da771-a541-4b2e-926e-2de842064dcd"
      },
      "outputs": [
        {
          "ename": "NameError",
          "evalue": "name 'adata' is not defined",
          "output_type": "error",
          "traceback": [
            "\u001b[0;31m---------------------------------------------------------------------------\u001b[0m",
            "\u001b[0;31mNameError\u001b[0m                                 Traceback (most recent call last)",
            "Cell \u001b[0;32mIn [5], line 1\u001b[0m\n\u001b[0;32m----> 1\u001b[0m adata\u001b[39m.\u001b[39mX \u001b[39m=\u001b[39m csr_matrix(adata\u001b[39m.\u001b[39mX)\n\u001b[1;32m      3\u001b[0m adata\u001b[39m.\u001b[39mX \u001b[39m=\u001b[39m adata\u001b[39m.\u001b[39mX\u001b[39m.\u001b[39mtodense()\n\u001b[1;32m      5\u001b[0m adata\u001b[39m.\u001b[39mobs\n",
            "\u001b[0;31mNameError\u001b[0m: name 'adata' is not defined"
          ]
        }
      ],
      "source": [
        "adata.X = csr_matrix(adata.X)\n",
        "\n",
        "adata.X = adata.X.todense()\n",
        "\n",
        "adata.obs\n",
        "adata.obs = adata.obs.rename(columns = {'group':'condition'})\n",
        "adata.obs\n",
        "\n",
        "realAdata.X = csr_matrix(realAdata.X)\n",
        "\n",
        "realAdata.X = realAdata.X.todense()\n",
        "\n",
        "realAdata.obs\n",
        "realAdata.obs = realAdata.obs.rename(columns = {'group':'condition'})\n",
        "realAdata.obs"
      ]
    },
    {
      "cell_type": "code",
      "execution_count": null,
      "metadata": {
        "colab": {
          "base_uri": "https://localhost:8080/"
        },
        "id": "KLXweBN1tBpz",
        "outputId": "8da9630b-6eb9-45fe-8ec0-c09b17dac81c"
      },
      "outputs": [
        {
          "name": "stderr",
          "output_type": "stream",
          "text": [
            "/var/folders/f2/tr4hpwss57b952qwypb78gb40000gn/T/ipykernel_10473/246624501.py:1: FutureWarning: X.dtype being converted to np.float32 from float64. In the next version of anndata (0.9) conversion will not be automatic. Pass dtype explicitly to avoid this warning. Pass `AnnData(X, dtype=X.dtype, ...)` to get the future behavour.\n",
            "  data = anndata.AnnData(\n",
            "/var/folders/f2/tr4hpwss57b952qwypb78gb40000gn/T/ipykernel_10473/246624501.py:7: FutureWarning: X.dtype being converted to np.float32 from float64. In the next version of anndata (0.9) conversion will not be automatic. Pass dtype explicitly to avoid this warning. Pass `AnnData(X, dtype=X.dtype, ...)` to get the future behavour.\n",
            "  realData = anndata.AnnData(\n"
          ]
        }
      ],
      "source": [
        "data = anndata.AnnData(\n",
        "  X=adata.X,\n",
        "  var=adata.var,\n",
        "  obs=adata.obs\n",
        ")\n",
        "\n",
        "realData = anndata.AnnData(\n",
        "  X=realAdata.X,\n",
        "  var=realAdata.var,\n",
        "  obs=realAdata.obs\n",
        ")\n"
      ]
    },
    {
      "cell_type": "code",
      "execution_count": null,
      "metadata": {},
      "outputs": [],
      "source": [
        "sc.pp.highly_variable_genes(data, n_top_genes=255, subset = True,\n",
        "                           flavor = \"seurat_v3\", batch_key=\"sample\")"
      ]
    },
    {
      "cell_type": "code",
      "execution_count": null,
      "metadata": {},
      "outputs": [
        {
          "data": {
            "text/plain": [
              "AnnData object with n_obs × n_vars = 5000 × 255\n",
              "    obs: 'orig.ident', 'nCount_RNA', 'nFeature_RNA', 'condition', 'sample', 'percentMito', 'percent_reads_top50', 'nCount_SCT', 'nFeature_SCT', 'SCT_snn_res.0.8', 'seurat_clusters', 'clust_orig', 'clust_orig_lab', 'clust_recl', 'integrated_snn_res.0.8', 'cluster_type'\n",
              "    var: 'features', 'highly_variable', 'highly_variable_rank', 'means', 'variances', 'variances_norm', 'highly_variable_nbatches'\n",
              "    uns: 'hvg'"
            ]
          },
          "execution_count": 82,
          "metadata": {},
          "output_type": "execute_result"
        }
      ],
      "source": [
        "data"
      ]
    },
    {
      "cell_type": "code",
      "execution_count": null,
      "metadata": {
        "colab": {
          "base_uri": "https://localhost:8080/"
        },
        "id": "dkeUxkInn8pi",
        "outputId": "e6629f6d-8f9a-43ea-e3e4-88e7323342b8"
      },
      "outputs": [
        {
          "name": "stdout",
          "output_type": "stream",
          "text": [
            "134217728\n",
            "training location model: False\n",
            "training scale model: True\n",
            "iter   0: ll=1096223.271060\n",
            "iter   1: ll=1096223.271060, converged: 0.00% (loc: 100.00%, scale update: False), in 0.00sec\n",
            "iter   2: ll=1085661.387349, converged: 0.00% (loc: 0.00%, scale update: True), in 1.45sec\n",
            "iter   3: ll=1085661.387349, converged: 0.00% (loc: 100.00%, scale update: False), in 0.00sec\n",
            "iter   4: ll=1085661.387349, converged: 100.00% (loc: 100.00%, scale update: True), in 1.30sec\n",
            "134217728\n",
            "134217728\n"
          ]
        }
      ],
      "source": [
        "test = de.test.wald(\n",
        "    data=data,\n",
        "    formula_loc=\"~ 1 + condition\",\n",
        "    factor_loc_totest=\"condition\",\n",
        ")"
      ]
    },
    {
      "cell_type": "code",
      "execution_count": null,
      "metadata": {
        "id": "HYHl6Cdppg56"
      },
      "outputs": [
        {
          "data": {
            "text/plain": [
              "array([9.77341604e-02, 0.00000000e+00, 1.11813266e-03, 8.68548289e-12,\n",
              "       1.45326409e-08, 3.10905219e-08, 9.53126467e-13, 4.03117472e-02,\n",
              "       6.17196033e-01, 2.87238316e-01])"
            ]
          },
          "execution_count": 33,
          "metadata": {},
          "output_type": "execute_result"
        }
      ],
      "source": [
        "test.qval[:10]"
      ]
    },
    {
      "cell_type": "code",
      "execution_count": null,
      "metadata": {
        "id": "VH3odU1_pg9G"
      },
      "outputs": [],
      "source": [
        "sumar = test.summary().iloc[:10,:]"
      ]
    },
    {
      "cell_type": "code",
      "execution_count": null,
      "metadata": {},
      "outputs": [
        {
          "data": {
            "text/html": [
              "<div>\n",
              "<style scoped>\n",
              "    .dataframe tbody tr th:only-of-type {\n",
              "        vertical-align: middle;\n",
              "    }\n",
              "\n",
              "    .dataframe tbody tr th {\n",
              "        vertical-align: top;\n",
              "    }\n",
              "\n",
              "    .dataframe thead th {\n",
              "        text-align: right;\n",
              "    }\n",
              "</style>\n",
              "<table border=\"1\" class=\"dataframe\">\n",
              "  <thead>\n",
              "    <tr style=\"text-align: right;\">\n",
              "      <th></th>\n",
              "      <th>gene</th>\n",
              "      <th>pval</th>\n",
              "      <th>qval</th>\n",
              "      <th>log2fc</th>\n",
              "      <th>mean</th>\n",
              "      <th>zero_mean</th>\n",
              "      <th>grad</th>\n",
              "      <th>coef_mle</th>\n",
              "      <th>coef_sd</th>\n",
              "      <th>ll</th>\n",
              "    </tr>\n",
              "  </thead>\n",
              "  <tbody>\n",
              "    <tr>\n",
              "      <th>1</th>\n",
              "      <td>ID3</td>\n",
              "      <td>0.000000e+00</td>\n",
              "      <td>0.000000e+00</td>\n",
              "      <td>1.276333</td>\n",
              "      <td>0.7970</td>\n",
              "      <td>False</td>\n",
              "      <td>4.648609e-08</td>\n",
              "      <td>1.276333</td>\n",
              "      <td>0.122041</td>\n",
              "      <td>-3672.492538</td>\n",
              "    </tr>\n",
              "    <tr>\n",
              "      <th>8</th>\n",
              "      <td>AL583808.1</td>\n",
              "      <td>0.000000e+00</td>\n",
              "      <td>0.000000e+00</td>\n",
              "      <td>-1.891461</td>\n",
              "      <td>0.1652</td>\n",
              "      <td>False</td>\n",
              "      <td>6.880198e-09</td>\n",
              "      <td>-1.891461</td>\n",
              "      <td>0.177367</td>\n",
              "      <td>-1536.661564</td>\n",
              "    </tr>\n",
              "    <tr>\n",
              "      <th>6</th>\n",
              "      <td>WLS</td>\n",
              "      <td>1.569855e-13</td>\n",
              "      <td>9.309607e-13</td>\n",
              "      <td>0.598065</td>\n",
              "      <td>1.1078</td>\n",
              "      <td>False</td>\n",
              "      <td>1.911685e-08</td>\n",
              "      <td>0.598065</td>\n",
              "      <td>0.081027</td>\n",
              "      <td>-5750.213114</td>\n",
              "    </tr>\n",
              "    <tr>\n",
              "      <th>3</th>\n",
              "      <td>AC099792.1</td>\n",
              "      <td>1.634914e-12</td>\n",
              "      <td>8.508228e-12</td>\n",
              "      <td>-0.692845</td>\n",
              "      <td>0.3892</td>\n",
              "      <td>False</td>\n",
              "      <td>5.851183e-08</td>\n",
              "      <td>-0.692845</td>\n",
              "      <td>0.098101</td>\n",
              "      <td>-3367.394303</td>\n",
              "    </tr>\n",
              "    <tr>\n",
              "      <th>4</th>\n",
              "      <td>NFIA</td>\n",
              "      <td>4.103334e-09</td>\n",
              "      <td>1.413987e-08</td>\n",
              "      <td>0.434550</td>\n",
              "      <td>3.1698</td>\n",
              "      <td>False</td>\n",
              "      <td>1.181461e-07</td>\n",
              "      <td>0.434550</td>\n",
              "      <td>0.073903</td>\n",
              "      <td>-8818.485585</td>\n",
              "    </tr>\n",
              "    <tr>\n",
              "      <th>5</th>\n",
              "      <td>NFIA-AS2</td>\n",
              "      <td>9.022348e-09</td>\n",
              "      <td>3.027235e-08</td>\n",
              "      <td>-1.130609</td>\n",
              "      <td>0.2454</td>\n",
              "      <td>False</td>\n",
              "      <td>1.482453e-08</td>\n",
              "      <td>-1.130609</td>\n",
              "      <td>0.196691</td>\n",
              "      <td>-1616.292144</td>\n",
              "    </tr>\n",
              "    <tr>\n",
              "      <th>2</th>\n",
              "      <td>CDC20</td>\n",
              "      <td>5.959712e-04</td>\n",
              "      <td>1.101928e-03</td>\n",
              "      <td>-0.518407</td>\n",
              "      <td>0.3492</td>\n",
              "      <td>False</td>\n",
              "      <td>1.299571e-09</td>\n",
              "      <td>-0.518407</td>\n",
              "      <td>0.150988</td>\n",
              "      <td>-2356.602657</td>\n",
              "    </tr>\n",
              "    <tr>\n",
              "      <th>9</th>\n",
              "      <td>LHX8</td>\n",
              "      <td>2.877152e-02</td>\n",
              "      <td>3.987358e-02</td>\n",
              "      <td>-1.225243</td>\n",
              "      <td>0.0208</td>\n",
              "      <td>False</td>\n",
              "      <td>1.025303e-09</td>\n",
              "      <td>-1.225243</td>\n",
              "      <td>0.560341</td>\n",
              "      <td>-240.914699</td>\n",
              "    </tr>\n",
              "    <tr>\n",
              "      <th>0</th>\n",
              "      <td>HES5</td>\n",
              "      <td>7.627097e-02</td>\n",
              "      <td>9.628266e-02</td>\n",
              "      <td>0.126113</td>\n",
              "      <td>4.4770</td>\n",
              "      <td>False</td>\n",
              "      <td>6.415936e-08</td>\n",
              "      <td>0.126113</td>\n",
              "      <td>0.071140</td>\n",
              "      <td>-9967.616224</td>\n",
              "    </tr>\n",
              "    <tr>\n",
              "      <th>7</th>\n",
              "      <td>AL513166.1</td>\n",
              "      <td>3.699237e-01</td>\n",
              "      <td>4.230069e-01</td>\n",
              "      <td>0.068797</td>\n",
              "      <td>0.5434</td>\n",
              "      <td>False</td>\n",
              "      <td>6.332140e-08</td>\n",
              "      <td>0.068797</td>\n",
              "      <td>0.076729</td>\n",
              "      <td>-4462.309160</td>\n",
              "    </tr>\n",
              "  </tbody>\n",
              "</table>\n",
              "</div>"
            ],
            "text/plain": [
              "         gene          pval          qval    log2fc    mean  zero_mean  \\\n",
              "1         ID3  0.000000e+00  0.000000e+00  1.276333  0.7970      False   \n",
              "8  AL583808.1  0.000000e+00  0.000000e+00 -1.891461  0.1652      False   \n",
              "6         WLS  1.569855e-13  9.309607e-13  0.598065  1.1078      False   \n",
              "3  AC099792.1  1.634914e-12  8.508228e-12 -0.692845  0.3892      False   \n",
              "4        NFIA  4.103334e-09  1.413987e-08  0.434550  3.1698      False   \n",
              "5    NFIA-AS2  9.022348e-09  3.027235e-08 -1.130609  0.2454      False   \n",
              "2       CDC20  5.959712e-04  1.101928e-03 -0.518407  0.3492      False   \n",
              "9        LHX8  2.877152e-02  3.987358e-02 -1.225243  0.0208      False   \n",
              "0        HES5  7.627097e-02  9.628266e-02  0.126113  4.4770      False   \n",
              "7  AL513166.1  3.699237e-01  4.230069e-01  0.068797  0.5434      False   \n",
              "\n",
              "           grad  coef_mle   coef_sd           ll  \n",
              "1  4.648609e-08  1.276333  0.122041 -3672.492538  \n",
              "8  6.880198e-09 -1.891461  0.177367 -1536.661564  \n",
              "6  1.911685e-08  0.598065  0.081027 -5750.213114  \n",
              "3  5.851183e-08 -0.692845  0.098101 -3367.394303  \n",
              "4  1.181461e-07  0.434550  0.073903 -8818.485585  \n",
              "5  1.482453e-08 -1.130609  0.196691 -1616.292144  \n",
              "2  1.299571e-09 -0.518407  0.150988 -2356.602657  \n",
              "9  1.025303e-09 -1.225243  0.560341  -240.914699  \n",
              "0  6.415936e-08  0.126113  0.071140 -9967.616224  \n",
              "7  6.332140e-08  0.068797  0.076729 -4462.309160  "
            ]
          },
          "execution_count": 89,
          "metadata": {},
          "output_type": "execute_result"
        }
      ],
      "source": [
        "sumar.sort_values(['pval'], ascending = [True])"
      ]
    },
    {
      "cell_type": "code",
      "execution_count": null,
      "metadata": {
        "id": "4i9L0WNepg_v"
      },
      "outputs": [
        {
          "data": {
            "image/png": "[encoded data removed]",
            "text/plain": [
              "<Figure size 640x480 with 1 Axes>"
            ]
          },
          "metadata": {},
          "output_type": "display_data"
        }
      ],
      "source": [
        "test.plot_volcano(corrected_pval=True, min_fc=1.05, alpha=0.05, size=20)"
      ]
    },
    {
      "cell_type": "code",
      "execution_count": null,
      "metadata": {
        "id": "6ajO-EzNphB6"
      },
      "outputs": [],
      "source": []
    },
    {
      "cell_type": "code",
      "execution_count": null,
      "metadata": {
        "id": "0r47grJUphEZ"
      },
      "outputs": [],
      "source": []
    },
    {
      "cell_type": "code",
      "execution_count": null,
      "metadata": {
        "id": "JMKtlJ5WphGu"
      },
      "outputs": [],
      "source": []
    },
    {
      "cell_type": "code",
      "execution_count": null,
      "metadata": {
        "id": "pTtStawRphJB"
      },
      "outputs": [],
      "source": []
    },
    {
      "cell_type": "code",
      "execution_count": null,
      "metadata": {
        "id": "M1WOAsiIphLd"
      },
      "outputs": [],
      "source": []
    }
  ],
  "metadata": {
    "colab": {
      "collapsed_sections": [],
      "provenance": []
    },
    "kernelspec": {
      "display_name": "Python 3.10.8 64-bit",
      "language": "python",
      "name": "python3"
    },
    "language_info": {
      "codemirror_mode": {
        "name": "ipython",
        "version": 3
      },
      "file_extension": ".py",
      "mimetype": "text/x-python",
      "name": "python",
      "nbconvert_exporter": "python",
      "pygments_lexer": "ipython3",
      "version": "3.10.8"
    },
    "vscode": {
      "interpreter": {
        "hash": "b0fa6594d8f4cbf19f97940f81e996739fb7646882a419484c72d19e05852a7e"
      }
    }
  },
  "nbformat": 4,
  "nbformat_minor": 0
}
