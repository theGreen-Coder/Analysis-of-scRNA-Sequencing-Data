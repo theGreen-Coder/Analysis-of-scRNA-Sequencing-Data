{
 "cells": [
  {
   "cell_type": "code",
   "execution_count": 1,
   "metadata": {},
   "outputs": [],
   "source": [
    "%load_ext autoreload\n",
    "%autoreload 2\n",
    "\n",
    "import anndata\n",
    "import matplotlib.pyplot as plt\n",
    "import seaborn as sns\n",
    "import logging\n",
    "import numpy as np\n",
    "import pandas as pd\n",
    "import scipy.stats"
   ]
  },
  {
   "cell_type": "code",
   "execution_count": 2,
   "metadata": {},
   "outputs": [],
   "source": [
    "import diffxpy.api as de"
   ]
  },
  {
   "cell_type": "markdown",
   "metadata": {},
   "source": [
    "# Introduction"
   ]
  },
  {
   "cell_type": "markdown",
   "metadata": {},
   "source": [
    "Differential expression analysis is a group of statistical tests that are used to establish whether there a exists a significant variation across a set of tested conditions for each gene. In its easiset form, this test can test for the difference between two distinct groups: This scenario can be handled with (Welch's) T-test, rank sum tests or Wald and likelihood ratio tests (LRT). Wald tests and LRT allow for more adaptive assumptions on the noise model and can therefore be more statistically correct. Moreover, they also allow the testing of more complex effect, e.g. for the variation across many groups (a single p-value for: Is there any difference between four conditions?) or across continuous covariates (a single covariate for: Is a gene expression trajectory in time non-constant?). Below, we introduce these and similar scenarios. We dedicated separate tutorials to a selection of scenarios that require a longer introduction."
   ]
  },
  {
   "cell_type": "markdown",
   "metadata": {},
   "source": [
    "# Testing a single coefficient"
   ]
  },
  {
   "cell_type": "markdown",
   "metadata": {},
   "source": [
    "The test of a single coefficient is the easiest differential expression test one can imagine, the comparison of two groups is a sub-scenario of this case."
   ]
  },
  {
   "cell_type": "markdown",
   "metadata": {},
   "source": [
    "## Standard test"
   ]
  },
  {
   "cell_type": "markdown",
   "metadata": {},
   "source": [
    "### Generate data:"
   ]
  },
  {
   "cell_type": "markdown",
   "metadata": {},
   "source": [
    "Here, we use a simulator provided by batchglm and pack the simulated data into an AnnData object. One can also directly supply arrays to diffxpy."
   ]
  },
  {
   "cell_type": "code",
   "execution_count": 5,
   "metadata": {},
   "outputs": [
    {
     "ename": "ImportError",
     "evalue": "Traceback (most recent call last):\n  File \"/opt/homebrew/lib/python3.10/site-packages/tensorflow/python/pywrap_tensorflow.py\", line 58, in <module>\n    from tensorflow.python.pywrap_tensorflow_internal import *\n  File \"/opt/homebrew/lib/python3.10/site-packages/tensorflow/python/pywrap_tensorflow_internal.py\", line 28, in <module>\n    _pywrap_tensorflow_internal = swig_import_helper()\n  File \"/opt/homebrew/lib/python3.10/site-packages/tensorflow/python/pywrap_tensorflow_internal.py\", line 24, in swig_import_helper\n    _mod = imp.load_module('_pywrap_tensorflow_internal', fp, pathname, description)\n  File \"/opt/homebrew/Cellar/python@3.10/3.10.8/Frameworks/Python.framework/Versions/3.10/lib/python3.10/imp.py\", line 243, in load_module\n    return load_dynamic(name, filename, file)\n  File \"/opt/homebrew/Cellar/python@3.10/3.10.8/Frameworks/Python.framework/Versions/3.10/lib/python3.10/imp.py\", line 343, in load_dynamic\n    return _load(spec)\nImportError: dlopen(/opt/homebrew/lib/python3.10/site-packages/tensorflow/python/_pywrap_tensorflow_internal.so, 0x0006): tried: '/opt/homebrew/lib/python3.10/site-packages/tensorflow/python/_pywrap_tensorflow_internal.so' (mach-o file, but is an incompatible architecture (have 'x86_64', need 'arm64e')), '/usr/local/lib/_pywrap_tensorflow_internal.so' (no such file), '/usr/lib/_pywrap_tensorflow_internal.so' (no such file)\n\n\nFailed to load the native TensorFlow runtime.\n\nSee https://www.tensorflow.org/install/errors\n\nfor some common reasons and solutions.  Include the entire stack trace\nabove this error message when asking for help.",
     "output_type": "error",
     "traceback": [
      "\u001b[0;31m---------------------------------------------------------------------------\u001b[0m",
      "\u001b[0;31mImportError\u001b[0m                               Traceback (most recent call last)",
      "File \u001b[0;32m/opt/homebrew/lib/python3.10/site-packages/tensorflow/python/pywrap_tensorflow.py:58\u001b[0m\n\u001b[1;32m     56\u001b[0m   sys\u001b[39m.\u001b[39msetdlopenflags(_default_dlopen_flags \u001b[39m|\u001b[39m ctypes\u001b[39m.\u001b[39mRTLD_LOCAL)\n\u001b[0;32m---> 58\u001b[0m \u001b[39mfrom\u001b[39;00m \u001b[39mtensorflow\u001b[39;00m\u001b[39m.\u001b[39;00m\u001b[39mpython\u001b[39;00m\u001b[39m.\u001b[39;00m\u001b[39mpywrap_tensorflow_internal\u001b[39;00m \u001b[39mimport\u001b[39;00m \u001b[39m*\u001b[39m\n\u001b[1;32m     59\u001b[0m \u001b[39mfrom\u001b[39;00m \u001b[39mtensorflow\u001b[39;00m\u001b[39m.\u001b[39;00m\u001b[39mpython\u001b[39;00m\u001b[39m.\u001b[39;00m\u001b[39mpywrap_tensorflow_internal\u001b[39;00m \u001b[39mimport\u001b[39;00m __version__\n",
      "File \u001b[0;32m/opt/homebrew/lib/python3.10/site-packages/tensorflow/python/pywrap_tensorflow_internal.py:28\u001b[0m\n\u001b[1;32m     27\u001b[0m         \u001b[39mreturn\u001b[39;00m _mod\n\u001b[0;32m---> 28\u001b[0m _pywrap_tensorflow_internal \u001b[39m=\u001b[39m swig_import_helper()\n\u001b[1;32m     29\u001b[0m \u001b[39mdel\u001b[39;00m swig_import_helper\n",
      "File \u001b[0;32m/opt/homebrew/lib/python3.10/site-packages/tensorflow/python/pywrap_tensorflow_internal.py:24\u001b[0m, in \u001b[0;36mswig_import_helper\u001b[0;34m()\u001b[0m\n\u001b[1;32m     23\u001b[0m \u001b[39mtry\u001b[39;00m:\n\u001b[0;32m---> 24\u001b[0m     _mod \u001b[39m=\u001b[39m imp\u001b[39m.\u001b[39;49mload_module(\u001b[39m'\u001b[39;49m\u001b[39m_pywrap_tensorflow_internal\u001b[39;49m\u001b[39m'\u001b[39;49m, fp, pathname, description)\n\u001b[1;32m     25\u001b[0m \u001b[39mfinally\u001b[39;00m:\n",
      "File \u001b[0;32m/opt/homebrew/Cellar/python@3.10/3.10.8/Frameworks/Python.framework/Versions/3.10/lib/python3.10/imp.py:243\u001b[0m, in \u001b[0;36mload_module\u001b[0;34m(name, file, filename, details)\u001b[0m\n\u001b[1;32m    242\u001b[0m     \u001b[39melse\u001b[39;00m:\n\u001b[0;32m--> 243\u001b[0m         \u001b[39mreturn\u001b[39;00m load_dynamic(name, filename, file)\n\u001b[1;32m    244\u001b[0m \u001b[39melif\u001b[39;00m type_ \u001b[39m==\u001b[39m PKG_DIRECTORY:\n",
      "File \u001b[0;32m/opt/homebrew/Cellar/python@3.10/3.10.8/Frameworks/Python.framework/Versions/3.10/lib/python3.10/imp.py:343\u001b[0m, in \u001b[0;36mload_dynamic\u001b[0;34m(name, path, file)\u001b[0m\n\u001b[1;32m    341\u001b[0m spec \u001b[39m=\u001b[39m importlib\u001b[39m.\u001b[39mmachinery\u001b[39m.\u001b[39mModuleSpec(\n\u001b[1;32m    342\u001b[0m     name\u001b[39m=\u001b[39mname, loader\u001b[39m=\u001b[39mloader, origin\u001b[39m=\u001b[39mpath)\n\u001b[0;32m--> 343\u001b[0m \u001b[39mreturn\u001b[39;00m _load(spec)\n",
      "\u001b[0;31mImportError\u001b[0m: dlopen(/opt/homebrew/lib/python3.10/site-packages/tensorflow/python/_pywrap_tensorflow_internal.so, 0x0006): tried: '/opt/homebrew/lib/python3.10/site-packages/tensorflow/python/_pywrap_tensorflow_internal.so' (mach-o file, but is an incompatible architecture (have 'x86_64', need 'arm64e')), '/usr/local/lib/_pywrap_tensorflow_internal.so' (no such file), '/usr/lib/_pywrap_tensorflow_internal.so' (no such file)",
      "\nDuring handling of the above exception, another exception occurred:\n",
      "\u001b[0;31mImportError\u001b[0m                               Traceback (most recent call last)",
      "Cell \u001b[0;32mIn [5], line 1\u001b[0m\n\u001b[0;32m----> 1\u001b[0m \u001b[39mimport\u001b[39;00m \u001b[39mtensorflow\u001b[39;00m \u001b[39mas\u001b[39;00m \u001b[39mtf\u001b[39;00m\n\u001b[1;32m      2\u001b[0m tf\u001b[39m.\u001b[39mversion\u001b[39m.\u001b[39mVERSION\n",
      "File \u001b[0;32m/opt/homebrew/lib/python3.10/site-packages/tensorflow/__init__.py:24\u001b[0m\n\u001b[1;32m     21\u001b[0m \u001b[39mimport\u001b[39;00m \u001b[39mos\u001b[39;00m \u001b[39mas\u001b[39;00m \u001b[39m_os\u001b[39;00m\n\u001b[1;32m     23\u001b[0m \u001b[39m# pylint: disable=g-bad-import-order\u001b[39;00m\n\u001b[0;32m---> 24\u001b[0m \u001b[39mfrom\u001b[39;00m \u001b[39mtensorflow\u001b[39;00m\u001b[39m.\u001b[39;00m\u001b[39mpython\u001b[39;00m \u001b[39mimport\u001b[39;00m pywrap_tensorflow  \u001b[39m# pylint: disable=unused-import\u001b[39;00m\n\u001b[1;32m     26\u001b[0m \u001b[39mtry\u001b[39;00m:\n\u001b[1;32m     27\u001b[0m   \u001b[39m# Add `estimator` attribute to allow access to estimator APIs via\u001b[39;00m\n\u001b[1;32m     28\u001b[0m   \u001b[39m# \"tf.estimator...\"\u001b[39;00m\n\u001b[1;32m     29\u001b[0m   \u001b[39mfrom\u001b[39;00m \u001b[39mtensorflow\u001b[39;00m\u001b[39m.\u001b[39;00m\u001b[39mpython\u001b[39;00m\u001b[39m.\u001b[39;00m\u001b[39mestimator\u001b[39;00m\u001b[39m.\u001b[39;00m\u001b[39mapi\u001b[39;00m \u001b[39mimport\u001b[39;00m estimator  \u001b[39m# pylint: disable=g-import-not-at-top\u001b[39;00m\n",
      "File \u001b[0;32m/opt/homebrew/lib/python3.10/site-packages/tensorflow/python/__init__.py:49\u001b[0m\n\u001b[1;32m     32\u001b[0m \u001b[39m# TODO(drpng): write up instructions for editing this file in a doc and point to\u001b[39;00m\n\u001b[1;32m     33\u001b[0m \u001b[39m# the doc instead.\u001b[39;00m\n\u001b[1;32m     34\u001b[0m \u001b[39m# If you want to edit this file to expose modules in public tensorflow API, you\u001b[39;00m\n\u001b[0;32m   (...)\u001b[0m\n\u001b[1;32m     44\u001b[0m \u001b[39m# go/tf-wildcard-import\u001b[39;00m\n\u001b[1;32m     45\u001b[0m \u001b[39m# pylint: disable=wildcard-import,g-bad-import-order,g-import-not-at-top\u001b[39;00m\n\u001b[1;32m     47\u001b[0m \u001b[39mimport\u001b[39;00m \u001b[39mnumpy\u001b[39;00m \u001b[39mas\u001b[39;00m \u001b[39mnp\u001b[39;00m\n\u001b[0;32m---> 49\u001b[0m \u001b[39mfrom\u001b[39;00m \u001b[39mtensorflow\u001b[39;00m\u001b[39m.\u001b[39;00m\u001b[39mpython\u001b[39;00m \u001b[39mimport\u001b[39;00m pywrap_tensorflow\n\u001b[1;32m     51\u001b[0m \u001b[39mfrom\u001b[39;00m \u001b[39mtensorflow\u001b[39;00m\u001b[39m.\u001b[39;00m\u001b[39mpython\u001b[39;00m\u001b[39m.\u001b[39;00m\u001b[39mtools\u001b[39;00m \u001b[39mimport\u001b[39;00m component_api_helper\n\u001b[1;32m     52\u001b[0m component_api_helper\u001b[39m.\u001b[39mpackage_hook(\n\u001b[1;32m     53\u001b[0m     parent_package_str\u001b[39m=\u001b[39m\u001b[39m'\u001b[39m\u001b[39mtensorflow.python\u001b[39m\u001b[39m'\u001b[39m,\n\u001b[1;32m     54\u001b[0m     child_package_str\u001b[39m=\u001b[39m(\n\u001b[1;32m     55\u001b[0m         \u001b[39m'\u001b[39m\u001b[39mtensorflow_estimator.python.estimator\u001b[39m\u001b[39m'\u001b[39m))\n",
      "File \u001b[0;32m/opt/homebrew/lib/python3.10/site-packages/tensorflow/python/pywrap_tensorflow.py:74\u001b[0m\n\u001b[1;32m     69\u001b[0m \u001b[39mexcept\u001b[39;00m \u001b[39mImportError\u001b[39;00m:\n\u001b[1;32m     70\u001b[0m   msg \u001b[39m=\u001b[39m \u001b[39m\"\"\"\u001b[39m\u001b[39m%s\u001b[39;00m\u001b[39m\\n\u001b[39;00m\u001b[39m\\n\u001b[39;00m\u001b[39mFailed to load the native TensorFlow runtime.\u001b[39m\u001b[39m\\n\u001b[39;00m\n\u001b[1;32m     71\u001b[0m \u001b[39mSee https://www.tensorflow.org/install/errors\u001b[39m\u001b[39m\\n\u001b[39;00m\n\u001b[1;32m     72\u001b[0m \u001b[39mfor some common reasons and solutions.  Include the entire stack trace\u001b[39m\n\u001b[1;32m     73\u001b[0m \u001b[39mabove this error message when asking for help.\u001b[39m\u001b[39m\"\"\"\u001b[39m \u001b[39m%\u001b[39m traceback\u001b[39m.\u001b[39mformat_exc()\n\u001b[0;32m---> 74\u001b[0m   \u001b[39mraise\u001b[39;00m \u001b[39mImportError\u001b[39;00m(msg)\n",
      "\u001b[0;31mImportError\u001b[0m: Traceback (most recent call last):\n  File \"/opt/homebrew/lib/python3.10/site-packages/tensorflow/python/pywrap_tensorflow.py\", line 58, in <module>\n    from tensorflow.python.pywrap_tensorflow_internal import *\n  File \"/opt/homebrew/lib/python3.10/site-packages/tensorflow/python/pywrap_tensorflow_internal.py\", line 28, in <module>\n    _pywrap_tensorflow_internal = swig_import_helper()\n  File \"/opt/homebrew/lib/python3.10/site-packages/tensorflow/python/pywrap_tensorflow_internal.py\", line 24, in swig_import_helper\n    _mod = imp.load_module('_pywrap_tensorflow_internal', fp, pathname, description)\n  File \"/opt/homebrew/Cellar/python@3.10/3.10.8/Frameworks/Python.framework/Versions/3.10/lib/python3.10/imp.py\", line 243, in load_module\n    return load_dynamic(name, filename, file)\n  File \"/opt/homebrew/Cellar/python@3.10/3.10.8/Frameworks/Python.framework/Versions/3.10/lib/python3.10/imp.py\", line 343, in load_dynamic\n    return _load(spec)\nImportError: dlopen(/opt/homebrew/lib/python3.10/site-packages/tensorflow/python/_pywrap_tensorflow_internal.so, 0x0006): tried: '/opt/homebrew/lib/python3.10/site-packages/tensorflow/python/_pywrap_tensorflow_internal.so' (mach-o file, but is an incompatible architecture (have 'x86_64', need 'arm64e')), '/usr/local/lib/_pywrap_tensorflow_internal.so' (no such file), '/usr/lib/_pywrap_tensorflow_internal.so' (no such file)\n\n\nFailed to load the native TensorFlow runtime.\n\nSee https://www.tensorflow.org/install/errors\n\nfor some common reasons and solutions.  Include the entire stack trace\nabove this error message when asking for help."
     ]
    }
   ],
   "source": [
    "import tensorflow as tf\n",
    "tf.version.VERSION"
   ]
  },
  {
   "cell_type": "code",
   "execution_count": 6,
   "metadata": {},
   "outputs": [
    {
     "ename": "ImportError",
     "evalue": "Traceback (most recent call last):\n  File \"/opt/homebrew/lib/python3.10/site-packages/tensorflow/python/pywrap_tensorflow.py\", line 58, in <module>\n    from tensorflow.python.pywrap_tensorflow_internal import *\n  File \"/opt/homebrew/lib/python3.10/site-packages/tensorflow/python/pywrap_tensorflow_internal.py\", line 28, in <module>\n    _pywrap_tensorflow_internal = swig_import_helper()\n  File \"/opt/homebrew/lib/python3.10/site-packages/tensorflow/python/pywrap_tensorflow_internal.py\", line 24, in swig_import_helper\n    _mod = imp.load_module('_pywrap_tensorflow_internal', fp, pathname, description)\n  File \"/opt/homebrew/Cellar/python@3.10/3.10.8/Frameworks/Python.framework/Versions/3.10/lib/python3.10/imp.py\", line 243, in load_module\n    return load_dynamic(name, filename, file)\n  File \"/opt/homebrew/Cellar/python@3.10/3.10.8/Frameworks/Python.framework/Versions/3.10/lib/python3.10/imp.py\", line 343, in load_dynamic\n    return _load(spec)\nImportError: dlopen(/opt/homebrew/lib/python3.10/site-packages/tensorflow/python/_pywrap_tensorflow_internal.so, 0x0006): tried: '/opt/homebrew/lib/python3.10/site-packages/tensorflow/python/_pywrap_tensorflow_internal.so' (mach-o file, but is an incompatible architecture (have 'x86_64', need 'arm64e')), '/usr/local/lib/_pywrap_tensorflow_internal.so' (no such file), '/usr/lib/_pywrap_tensorflow_internal.so' (no such file)\n\n\nFailed to load the native TensorFlow runtime.\n\nSee https://www.tensorflow.org/install/errors\n\nfor some common reasons and solutions.  Include the entire stack trace\nabove this error message when asking for help.",
     "output_type": "error",
     "traceback": [
      "\u001b[0;31m---------------------------------------------------------------------------\u001b[0m",
      "\u001b[0;31mImportError\u001b[0m                               Traceback (most recent call last)",
      "File \u001b[0;32m/opt/homebrew/lib/python3.10/site-packages/tensorflow/python/pywrap_tensorflow.py:58\u001b[0m\n\u001b[1;32m     56\u001b[0m   sys\u001b[39m.\u001b[39msetdlopenflags(_default_dlopen_flags \u001b[39m|\u001b[39m ctypes\u001b[39m.\u001b[39mRTLD_LOCAL)\n\u001b[0;32m---> 58\u001b[0m \u001b[39mfrom\u001b[39;00m \u001b[39mtensorflow\u001b[39;00m\u001b[39m.\u001b[39;00m\u001b[39mpython\u001b[39;00m\u001b[39m.\u001b[39;00m\u001b[39mpywrap_tensorflow_internal\u001b[39;00m \u001b[39mimport\u001b[39;00m \u001b[39m*\u001b[39m\n\u001b[1;32m     59\u001b[0m \u001b[39mfrom\u001b[39;00m \u001b[39mtensorflow\u001b[39;00m\u001b[39m.\u001b[39;00m\u001b[39mpython\u001b[39;00m\u001b[39m.\u001b[39;00m\u001b[39mpywrap_tensorflow_internal\u001b[39;00m \u001b[39mimport\u001b[39;00m __version__\n",
      "File \u001b[0;32m/opt/homebrew/lib/python3.10/site-packages/tensorflow/python/pywrap_tensorflow_internal.py:28\u001b[0m\n\u001b[1;32m     27\u001b[0m         \u001b[39mreturn\u001b[39;00m _mod\n\u001b[0;32m---> 28\u001b[0m _pywrap_tensorflow_internal \u001b[39m=\u001b[39m swig_import_helper()\n\u001b[1;32m     29\u001b[0m \u001b[39mdel\u001b[39;00m swig_import_helper\n",
      "File \u001b[0;32m/opt/homebrew/lib/python3.10/site-packages/tensorflow/python/pywrap_tensorflow_internal.py:24\u001b[0m, in \u001b[0;36mswig_import_helper\u001b[0;34m()\u001b[0m\n\u001b[1;32m     23\u001b[0m \u001b[39mtry\u001b[39;00m:\n\u001b[0;32m---> 24\u001b[0m     _mod \u001b[39m=\u001b[39m imp\u001b[39m.\u001b[39;49mload_module(\u001b[39m'\u001b[39;49m\u001b[39m_pywrap_tensorflow_internal\u001b[39;49m\u001b[39m'\u001b[39;49m, fp, pathname, description)\n\u001b[1;32m     25\u001b[0m \u001b[39mfinally\u001b[39;00m:\n",
      "File \u001b[0;32m/opt/homebrew/Cellar/python@3.10/3.10.8/Frameworks/Python.framework/Versions/3.10/lib/python3.10/imp.py:243\u001b[0m, in \u001b[0;36mload_module\u001b[0;34m(name, file, filename, details)\u001b[0m\n\u001b[1;32m    242\u001b[0m     \u001b[39melse\u001b[39;00m:\n\u001b[0;32m--> 243\u001b[0m         \u001b[39mreturn\u001b[39;00m load_dynamic(name, filename, file)\n\u001b[1;32m    244\u001b[0m \u001b[39melif\u001b[39;00m type_ \u001b[39m==\u001b[39m PKG_DIRECTORY:\n",
      "File \u001b[0;32m/opt/homebrew/Cellar/python@3.10/3.10.8/Frameworks/Python.framework/Versions/3.10/lib/python3.10/imp.py:343\u001b[0m, in \u001b[0;36mload_dynamic\u001b[0;34m(name, path, file)\u001b[0m\n\u001b[1;32m    341\u001b[0m spec \u001b[39m=\u001b[39m importlib\u001b[39m.\u001b[39mmachinery\u001b[39m.\u001b[39mModuleSpec(\n\u001b[1;32m    342\u001b[0m     name\u001b[39m=\u001b[39mname, loader\u001b[39m=\u001b[39mloader, origin\u001b[39m=\u001b[39mpath)\n\u001b[0;32m--> 343\u001b[0m \u001b[39mreturn\u001b[39;00m _load(spec)\n",
      "\u001b[0;31mImportError\u001b[0m: dlopen(/opt/homebrew/lib/python3.10/site-packages/tensorflow/python/_pywrap_tensorflow_internal.so, 0x0006): tried: '/opt/homebrew/lib/python3.10/site-packages/tensorflow/python/_pywrap_tensorflow_internal.so' (mach-o file, but is an incompatible architecture (have 'x86_64', need 'arm64e')), '/usr/local/lib/_pywrap_tensorflow_internal.so' (no such file), '/usr/lib/_pywrap_tensorflow_internal.so' (no such file)",
      "\nDuring handling of the above exception, another exception occurred:\n",
      "\u001b[0;31mImportError\u001b[0m                               Traceback (most recent call last)",
      "Cell \u001b[0;32mIn [6], line 1\u001b[0m\n\u001b[0;32m----> 1\u001b[0m \u001b[39mfrom\u001b[39;00m \u001b[39mbatchglm\u001b[39;00m\u001b[39m.\u001b[39;00m\u001b[39mapi\u001b[39;00m\u001b[39m.\u001b[39;00m\u001b[39mmodels\u001b[39;00m\u001b[39m.\u001b[39;00m\u001b[39mtf1\u001b[39;00m\u001b[39m.\u001b[39;00m\u001b[39mglm_nb\u001b[39;00m \u001b[39mimport\u001b[39;00m Simulator\n\u001b[1;32m      3\u001b[0m sim \u001b[39m=\u001b[39m Simulator(num_observations\u001b[39m=\u001b[39m\u001b[39m200\u001b[39m, num_features\u001b[39m=\u001b[39m\u001b[39m100\u001b[39m)\n\u001b[1;32m      4\u001b[0m sim\u001b[39m.\u001b[39mgenerate_sample_description(num_batches\u001b[39m=\u001b[39m\u001b[39m0\u001b[39m, num_conditions\u001b[39m=\u001b[39m\u001b[39m2\u001b[39m)\n",
      "File \u001b[0;32m/opt/homebrew/lib/python3.10/site-packages/batchglm/api/models/tf1/__init__.py:1\u001b[0m\n\u001b[0;32m----> 1\u001b[0m \u001b[39mfrom\u001b[39;00m \u001b[39m.\u001b[39;00m \u001b[39mimport\u001b[39;00m glm_beta\n\u001b[1;32m      2\u001b[0m \u001b[39mfrom\u001b[39;00m \u001b[39m.\u001b[39;00m \u001b[39mimport\u001b[39;00m glm_nb\n\u001b[1;32m      3\u001b[0m \u001b[39mfrom\u001b[39;00m \u001b[39m.\u001b[39;00m \u001b[39mimport\u001b[39;00m glm_norm\n",
      "File \u001b[0;32m/opt/homebrew/lib/python3.10/site-packages/batchglm/api/models/tf1/glm_beta.py:2\u001b[0m\n\u001b[1;32m      1\u001b[0m \u001b[39mfrom\u001b[39;00m \u001b[39mbatchglm\u001b[39;00m\u001b[39m.\u001b[39;00m\u001b[39mmodels\u001b[39;00m\u001b[39m.\u001b[39;00m\u001b[39mglm_beta\u001b[39;00m \u001b[39mimport\u001b[39;00m InputDataGLM, Model, Simulator\n\u001b[0;32m----> 2\u001b[0m \u001b[39mfrom\u001b[39;00m \u001b[39mbatchglm\u001b[39;00m\u001b[39m.\u001b[39;00m\u001b[39mtrain\u001b[39;00m\u001b[39m.\u001b[39;00m\u001b[39mtf1\u001b[39;00m\u001b[39m.\u001b[39;00m\u001b[39mglm_beta\u001b[39;00m \u001b[39mimport\u001b[39;00m Estimator\n",
      "File \u001b[0;32m/opt/homebrew/lib/python3.10/site-packages/batchglm/train/tf1/glm_beta/__init__.py:1\u001b[0m\n\u001b[0;32m----> 1\u001b[0m \u001b[39mfrom\u001b[39;00m \u001b[39m.\u001b[39;00m\u001b[39mestimator\u001b[39;00m \u001b[39mimport\u001b[39;00m Estimator\n\u001b[1;32m      2\u001b[0m \u001b[39mfrom\u001b[39;00m \u001b[39m.\u001b[39;00m\u001b[39mestimator_graph\u001b[39;00m \u001b[39mimport\u001b[39;00m EstimatorGraph\n\u001b[1;32m      3\u001b[0m \u001b[39mfrom\u001b[39;00m \u001b[39m.\u001b[39;00m\u001b[39mmodel\u001b[39;00m \u001b[39mimport\u001b[39;00m BasicModelGraph, ModelVars, ProcessModel\n",
      "File \u001b[0;32m/opt/homebrew/lib/python3.10/site-packages/batchglm/train/tf1/glm_beta/estimator.py:5\u001b[0m\n\u001b[1;32m      2\u001b[0m \u001b[39mfrom\u001b[39;00m \u001b[39mtyping\u001b[39;00m \u001b[39mimport\u001b[39;00m Union\n\u001b[1;32m      4\u001b[0m \u001b[39mimport\u001b[39;00m \u001b[39mnumpy\u001b[39;00m \u001b[39mas\u001b[39;00m \u001b[39mnp\u001b[39;00m\n\u001b[0;32m----> 5\u001b[0m \u001b[39mimport\u001b[39;00m \u001b[39mtensorflow\u001b[39;00m \u001b[39mas\u001b[39;00m \u001b[39mtf\u001b[39;00m\n\u001b[1;32m      7\u001b[0m \u001b[39mfrom\u001b[39;00m \u001b[39m.\u001b[39;00m\u001b[39mexternal\u001b[39;00m \u001b[39mimport\u001b[39;00m TFEstimatorGLM, InputDataGLM, Model\n\u001b[1;32m      8\u001b[0m \u001b[39mfrom\u001b[39;00m \u001b[39m.\u001b[39;00m\u001b[39mexternal\u001b[39;00m \u001b[39mimport\u001b[39;00m closedform_beta_glm_logitmean, closedform_beta_glm_logsamplesize\n",
      "File \u001b[0;32m/opt/homebrew/lib/python3.10/site-packages/tensorflow/__init__.py:24\u001b[0m\n\u001b[1;32m     21\u001b[0m \u001b[39mimport\u001b[39;00m \u001b[39mos\u001b[39;00m \u001b[39mas\u001b[39;00m \u001b[39m_os\u001b[39;00m\n\u001b[1;32m     23\u001b[0m \u001b[39m# pylint: disable=g-bad-import-order\u001b[39;00m\n\u001b[0;32m---> 24\u001b[0m \u001b[39mfrom\u001b[39;00m \u001b[39mtensorflow\u001b[39;00m\u001b[39m.\u001b[39;00m\u001b[39mpython\u001b[39;00m \u001b[39mimport\u001b[39;00m pywrap_tensorflow  \u001b[39m# pylint: disable=unused-import\u001b[39;00m\n\u001b[1;32m     26\u001b[0m \u001b[39mtry\u001b[39;00m:\n\u001b[1;32m     27\u001b[0m   \u001b[39m# Add `estimator` attribute to allow access to estimator APIs via\u001b[39;00m\n\u001b[1;32m     28\u001b[0m   \u001b[39m# \"tf.estimator...\"\u001b[39;00m\n\u001b[1;32m     29\u001b[0m   \u001b[39mfrom\u001b[39;00m \u001b[39mtensorflow\u001b[39;00m\u001b[39m.\u001b[39;00m\u001b[39mpython\u001b[39;00m\u001b[39m.\u001b[39;00m\u001b[39mestimator\u001b[39;00m\u001b[39m.\u001b[39;00m\u001b[39mapi\u001b[39;00m \u001b[39mimport\u001b[39;00m estimator  \u001b[39m# pylint: disable=g-import-not-at-top\u001b[39;00m\n",
      "File \u001b[0;32m/opt/homebrew/lib/python3.10/site-packages/tensorflow/python/__init__.py:49\u001b[0m\n\u001b[1;32m     32\u001b[0m \u001b[39m# TODO(drpng): write up instructions for editing this file in a doc and point to\u001b[39;00m\n\u001b[1;32m     33\u001b[0m \u001b[39m# the doc instead.\u001b[39;00m\n\u001b[1;32m     34\u001b[0m \u001b[39m# If you want to edit this file to expose modules in public tensorflow API, you\u001b[39;00m\n\u001b[0;32m   (...)\u001b[0m\n\u001b[1;32m     44\u001b[0m \u001b[39m# go/tf-wildcard-import\u001b[39;00m\n\u001b[1;32m     45\u001b[0m \u001b[39m# pylint: disable=wildcard-import,g-bad-import-order,g-import-not-at-top\u001b[39;00m\n\u001b[1;32m     47\u001b[0m \u001b[39mimport\u001b[39;00m \u001b[39mnumpy\u001b[39;00m \u001b[39mas\u001b[39;00m \u001b[39mnp\u001b[39;00m\n\u001b[0;32m---> 49\u001b[0m \u001b[39mfrom\u001b[39;00m \u001b[39mtensorflow\u001b[39;00m\u001b[39m.\u001b[39;00m\u001b[39mpython\u001b[39;00m \u001b[39mimport\u001b[39;00m pywrap_tensorflow\n\u001b[1;32m     51\u001b[0m \u001b[39mfrom\u001b[39;00m \u001b[39mtensorflow\u001b[39;00m\u001b[39m.\u001b[39;00m\u001b[39mpython\u001b[39;00m\u001b[39m.\u001b[39;00m\u001b[39mtools\u001b[39;00m \u001b[39mimport\u001b[39;00m component_api_helper\n\u001b[1;32m     52\u001b[0m component_api_helper\u001b[39m.\u001b[39mpackage_hook(\n\u001b[1;32m     53\u001b[0m     parent_package_str\u001b[39m=\u001b[39m\u001b[39m'\u001b[39m\u001b[39mtensorflow.python\u001b[39m\u001b[39m'\u001b[39m,\n\u001b[1;32m     54\u001b[0m     child_package_str\u001b[39m=\u001b[39m(\n\u001b[1;32m     55\u001b[0m         \u001b[39m'\u001b[39m\u001b[39mtensorflow_estimator.python.estimator\u001b[39m\u001b[39m'\u001b[39m))\n",
      "File \u001b[0;32m/opt/homebrew/lib/python3.10/site-packages/tensorflow/python/pywrap_tensorflow.py:74\u001b[0m\n\u001b[1;32m     69\u001b[0m \u001b[39mexcept\u001b[39;00m \u001b[39mImportError\u001b[39;00m:\n\u001b[1;32m     70\u001b[0m   msg \u001b[39m=\u001b[39m \u001b[39m\"\"\"\u001b[39m\u001b[39m%s\u001b[39;00m\u001b[39m\\n\u001b[39;00m\u001b[39m\\n\u001b[39;00m\u001b[39mFailed to load the native TensorFlow runtime.\u001b[39m\u001b[39m\\n\u001b[39;00m\n\u001b[1;32m     71\u001b[0m \u001b[39mSee https://www.tensorflow.org/install/errors\u001b[39m\u001b[39m\\n\u001b[39;00m\n\u001b[1;32m     72\u001b[0m \u001b[39mfor some common reasons and solutions.  Include the entire stack trace\u001b[39m\n\u001b[1;32m     73\u001b[0m \u001b[39mabove this error message when asking for help.\u001b[39m\u001b[39m\"\"\"\u001b[39m \u001b[39m%\u001b[39m traceback\u001b[39m.\u001b[39mformat_exc()\n\u001b[0;32m---> 74\u001b[0m   \u001b[39mraise\u001b[39;00m \u001b[39mImportError\u001b[39;00m(msg)\n",
      "\u001b[0;31mImportError\u001b[0m: Traceback (most recent call last):\n  File \"/opt/homebrew/lib/python3.10/site-packages/tensorflow/python/pywrap_tensorflow.py\", line 58, in <module>\n    from tensorflow.python.pywrap_tensorflow_internal import *\n  File \"/opt/homebrew/lib/python3.10/site-packages/tensorflow/python/pywrap_tensorflow_internal.py\", line 28, in <module>\n    _pywrap_tensorflow_internal = swig_import_helper()\n  File \"/opt/homebrew/lib/python3.10/site-packages/tensorflow/python/pywrap_tensorflow_internal.py\", line 24, in swig_import_helper\n    _mod = imp.load_module('_pywrap_tensorflow_internal', fp, pathname, description)\n  File \"/opt/homebrew/Cellar/python@3.10/3.10.8/Frameworks/Python.framework/Versions/3.10/lib/python3.10/imp.py\", line 243, in load_module\n    return load_dynamic(name, filename, file)\n  File \"/opt/homebrew/Cellar/python@3.10/3.10.8/Frameworks/Python.framework/Versions/3.10/lib/python3.10/imp.py\", line 343, in load_dynamic\n    return _load(spec)\nImportError: dlopen(/opt/homebrew/lib/python3.10/site-packages/tensorflow/python/_pywrap_tensorflow_internal.so, 0x0006): tried: '/opt/homebrew/lib/python3.10/site-packages/tensorflow/python/_pywrap_tensorflow_internal.so' (mach-o file, but is an incompatible architecture (have 'x86_64', need 'arm64e')), '/usr/local/lib/_pywrap_tensorflow_internal.so' (no such file), '/usr/lib/_pywrap_tensorflow_internal.so' (no such file)\n\n\nFailed to load the native TensorFlow runtime.\n\nSee https://www.tensorflow.org/install/errors\n\nfor some common reasons and solutions.  Include the entire stack trace\nabove this error message when asking for help."
     ]
    }
   ],
   "source": [
    "from batchglm.api.models.tf1.glm_nb import Simulator\n",
    "\n",
    "sim = Simulator(num_observations=200, num_features=100)\n",
    "sim.generate_sample_description(num_batches=0, num_conditions=2)\n",
    "sim.generate_params(\n",
    "    rand_fn_loc=lambda shape: np.random.uniform(-0.1, 0.1, shape),\n",
    "    rand_fn_scale=lambda shape: np.random.uniform(0.1, 2, shape)\n",
    ")\n",
    "sim.generate_data()\n",
    "\n",
    "data = anndata.AnnData(\n",
    "    X=sim.x,\n",
    "    var=pd.DataFrame(index=[\"gene\" + str(i) for i in range(sim.x.shape[1])]),\n",
    "    obs=sim.sample_description\n",
    ")"
   ]
  },
  {
   "cell_type": "markdown",
   "metadata": {},
   "source": [
    "### Run differential expression test"
   ]
  },
  {
   "cell_type": "markdown",
   "metadata": {},
   "source": [
    "We first tackle this scenario with a Wald test.\n",
    "\n",
    "\n",
    "The wald test checks if a certain coefficient introduces a significant difference in the expression of a gene.\n",
    "\n",
    "It needs a formula which describes the setup of the model and the factor of the formula `factor_loc_totest` which should be tested.\n",
    "\n",
    "Usually, this factor divides the samples into two groups, e.g. `condition 0` and `condition 1`.\n",
    "In this case, diffxpy will automatically choose the coefficient to test.\n",
    "If there are more than two groups specified by the factor, the coefficient which should be tested has to be set manually by specifying `coef_totest`. This coefficient should refer to one of the groups specified by `factor_loc_totest`, e.g. `condition 1`.\n"
   ]
  },
  {
   "cell_type": "code",
   "execution_count": 1,
   "metadata": {
    "scrolled": false
   },
   "outputs": [
    {
     "ename": "NameError",
     "evalue": "name 'de' is not defined",
     "output_type": "error",
     "traceback": [
      "\u001b[0;31m---------------------------------------------------------------------------\u001b[0m",
      "\u001b[0;31mNameError\u001b[0m                                 Traceback (most recent call last)",
      "Cell \u001b[0;32mIn [1], line 1\u001b[0m\n\u001b[0;32m----> 1\u001b[0m test \u001b[39m=\u001b[39m de\u001b[39m.\u001b[39mtest\u001b[39m.\u001b[39mwald(\n\u001b[1;32m      2\u001b[0m     data\u001b[39m=\u001b[39mdata,\n\u001b[1;32m      3\u001b[0m     formula_loc\u001b[39m=\u001b[39m\u001b[39m\"\u001b[39m\u001b[39m~ 1 + condition\u001b[39m\u001b[39m\"\u001b[39m,\n\u001b[1;32m      4\u001b[0m     factor_loc_totest\u001b[39m=\u001b[39m\u001b[39m\"\u001b[39m\u001b[39mcondition\u001b[39m\u001b[39m\"\u001b[39m\n\u001b[1;32m      5\u001b[0m )\n",
      "\u001b[0;31mNameError\u001b[0m: name 'de' is not defined"
     ]
    }
   ],
   "source": [
    "test = de.test.wald(\n",
    "    data=data,\n",
    "    formula_loc=\"~ 1 + condition\",\n",
    "    factor_loc_totest=\"condition\"\n",
    ")"
   ]
  },
  {
   "cell_type": "markdown",
   "metadata": {},
   "source": [
    "### Obtain the results"
   ]
  },
  {
   "cell_type": "markdown",
   "metadata": {},
   "source": [
    "The p-/q-values can be obtained by calling test.pval / test.qval:"
   ]
  },
  {
   "cell_type": "code",
   "execution_count": 5,
   "metadata": {},
   "outputs": [
    {
     "data": {
      "text/plain": [
       "array([0.60139521, 0.22027086, 0.57619872, 0.93807501, 0.65553144,\n",
       "       0.88983104, 0.49675858, 0.08771343, 0.07318849, 0.22164236])"
      ]
     },
     "execution_count": 5,
     "metadata": {},
     "output_type": "execute_result"
    }
   ],
   "source": [
    "test.pval[:10]"
   ]
  },
  {
   "cell_type": "code",
   "execution_count": 6,
   "metadata": {},
   "outputs": [
    {
     "data": {
      "text/plain": [
       "array([0.84703551, 0.53478002, 0.84703551, 0.99868475, 0.86406426,\n",
       "       0.98870116, 0.82114705, 0.31758301, 0.31758301, 0.53478002])"
      ]
     },
     "execution_count": 6,
     "metadata": {},
     "output_type": "execute_result"
    }
   ],
   "source": [
    "test.qval[:10]"
   ]
  },
  {
   "cell_type": "markdown",
   "metadata": {},
   "source": [
    "test.summary() returns a pandas DataFrame with a quick overview of the test results:"
   ]
  },
  {
   "cell_type": "code",
   "execution_count": 7,
   "metadata": {},
   "outputs": [
    {
     "data": {
      "text/html": [
       "<div>\n",
       "<style scoped>\n",
       "    .dataframe tbody tr th:only-of-type {\n",
       "        vertical-align: middle;\n",
       "    }\n",
       "\n",
       "    .dataframe tbody tr th {\n",
       "        vertical-align: top;\n",
       "    }\n",
       "\n",
       "    .dataframe thead th {\n",
       "        text-align: right;\n",
       "    }\n",
       "</style>\n",
       "<table border=\"1\" class=\"dataframe\">\n",
       "  <thead>\n",
       "    <tr style=\"text-align: right;\">\n",
       "      <th></th>\n",
       "      <th>gene</th>\n",
       "      <th>pval</th>\n",
       "      <th>qval</th>\n",
       "      <th>log2fc</th>\n",
       "      <th>mean</th>\n",
       "      <th>zero_mean</th>\n",
       "      <th>grad</th>\n",
       "      <th>coef_mle</th>\n",
       "      <th>coef_sd</th>\n",
       "      <th>ll</th>\n",
       "    </tr>\n",
       "  </thead>\n",
       "  <tbody>\n",
       "    <tr>\n",
       "      <th>0</th>\n",
       "      <td>gene0</td>\n",
       "      <td>0.601395</td>\n",
       "      <td>0.847036</td>\n",
       "      <td>-0.060085</td>\n",
       "      <td>435.015015</td>\n",
       "      <td>False</td>\n",
       "      <td>0.007131</td>\n",
       "      <td>-0.060085</td>\n",
       "      <td>0.115018</td>\n",
       "      <td>-1405.466779</td>\n",
       "    </tr>\n",
       "    <tr>\n",
       "      <th>1</th>\n",
       "      <td>gene1</td>\n",
       "      <td>0.220271</td>\n",
       "      <td>0.534780</td>\n",
       "      <td>0.116396</td>\n",
       "      <td>514.085022</td>\n",
       "      <td>False</td>\n",
       "      <td>0.019504</td>\n",
       "      <td>0.116396</td>\n",
       "      <td>0.094955</td>\n",
       "      <td>-1421.041301</td>\n",
       "    </tr>\n",
       "    <tr>\n",
       "      <th>2</th>\n",
       "      <td>gene2</td>\n",
       "      <td>0.576199</td>\n",
       "      <td>0.847036</td>\n",
       "      <td>-0.043876</td>\n",
       "      <td>602.700012</td>\n",
       "      <td>False</td>\n",
       "      <td>0.046234</td>\n",
       "      <td>-0.043876</td>\n",
       "      <td>0.078498</td>\n",
       "      <td>-1430.723576</td>\n",
       "    </tr>\n",
       "    <tr>\n",
       "      <th>3</th>\n",
       "      <td>gene3</td>\n",
       "      <td>0.938075</td>\n",
       "      <td>0.998685</td>\n",
       "      <td>0.004080</td>\n",
       "      <td>446.040009</td>\n",
       "      <td>False</td>\n",
       "      <td>0.044234</td>\n",
       "      <td>0.004080</td>\n",
       "      <td>0.052521</td>\n",
       "      <td>-1288.610775</td>\n",
       "    </tr>\n",
       "    <tr>\n",
       "      <th>4</th>\n",
       "      <td>gene4</td>\n",
       "      <td>0.655531</td>\n",
       "      <td>0.864064</td>\n",
       "      <td>0.019108</td>\n",
       "      <td>504.510010</td>\n",
       "      <td>False</td>\n",
       "      <td>0.062664</td>\n",
       "      <td>0.019108</td>\n",
       "      <td>0.042835</td>\n",
       "      <td>-1295.435961</td>\n",
       "    </tr>\n",
       "    <tr>\n",
       "      <th>5</th>\n",
       "      <td>gene5</td>\n",
       "      <td>0.889831</td>\n",
       "      <td>0.988701</td>\n",
       "      <td>-0.008318</td>\n",
       "      <td>483.299988</td>\n",
       "      <td>False</td>\n",
       "      <td>0.037404</td>\n",
       "      <td>-0.008318</td>\n",
       "      <td>0.060049</td>\n",
       "      <td>-1342.506068</td>\n",
       "    </tr>\n",
       "    <tr>\n",
       "      <th>6</th>\n",
       "      <td>gene6</td>\n",
       "      <td>0.496759</td>\n",
       "      <td>0.821147</td>\n",
       "      <td>-0.052436</td>\n",
       "      <td>480.125000</td>\n",
       "      <td>False</td>\n",
       "      <td>0.029464</td>\n",
       "      <td>-0.052436</td>\n",
       "      <td>0.077157</td>\n",
       "      <td>-1371.953554</td>\n",
       "    </tr>\n",
       "    <tr>\n",
       "      <th>7</th>\n",
       "      <td>gene7</td>\n",
       "      <td>0.087713</td>\n",
       "      <td>0.317583</td>\n",
       "      <td>-0.109675</td>\n",
       "      <td>492.584991</td>\n",
       "      <td>False</td>\n",
       "      <td>0.007987</td>\n",
       "      <td>-0.109675</td>\n",
       "      <td>0.064228</td>\n",
       "      <td>-1350.015749</td>\n",
       "    </tr>\n",
       "    <tr>\n",
       "      <th>8</th>\n",
       "      <td>gene8</td>\n",
       "      <td>0.073188</td>\n",
       "      <td>0.317583</td>\n",
       "      <td>-0.125621</td>\n",
       "      <td>533.655029</td>\n",
       "      <td>False</td>\n",
       "      <td>0.006187</td>\n",
       "      <td>-0.125621</td>\n",
       "      <td>0.070114</td>\n",
       "      <td>-1380.828275</td>\n",
       "    </tr>\n",
       "    <tr>\n",
       "      <th>9</th>\n",
       "      <td>gene9</td>\n",
       "      <td>0.221642</td>\n",
       "      <td>0.534780</td>\n",
       "      <td>-0.099408</td>\n",
       "      <td>493.225006</td>\n",
       "      <td>False</td>\n",
       "      <td>0.002494</td>\n",
       "      <td>-0.099408</td>\n",
       "      <td>0.081337</td>\n",
       "      <td>-1389.021227</td>\n",
       "    </tr>\n",
       "  </tbody>\n",
       "</table>\n",
       "</div>"
      ],
      "text/plain": [
       "    gene      pval      qval    log2fc        mean  zero_mean      grad  \\\n",
       "0  gene0  0.601395  0.847036 -0.060085  435.015015      False  0.007131   \n",
       "1  gene1  0.220271  0.534780  0.116396  514.085022      False  0.019504   \n",
       "2  gene2  0.576199  0.847036 -0.043876  602.700012      False  0.046234   \n",
       "3  gene3  0.938075  0.998685  0.004080  446.040009      False  0.044234   \n",
       "4  gene4  0.655531  0.864064  0.019108  504.510010      False  0.062664   \n",
       "5  gene5  0.889831  0.988701 -0.008318  483.299988      False  0.037404   \n",
       "6  gene6  0.496759  0.821147 -0.052436  480.125000      False  0.029464   \n",
       "7  gene7  0.087713  0.317583 -0.109675  492.584991      False  0.007987   \n",
       "8  gene8  0.073188  0.317583 -0.125621  533.655029      False  0.006187   \n",
       "9  gene9  0.221642  0.534780 -0.099408  493.225006      False  0.002494   \n",
       "\n",
       "   coef_mle   coef_sd           ll  \n",
       "0 -0.060085  0.115018 -1405.466779  \n",
       "1  0.116396  0.094955 -1421.041301  \n",
       "2 -0.043876  0.078498 -1430.723576  \n",
       "3  0.004080  0.052521 -1288.610775  \n",
       "4  0.019108  0.042835 -1295.435961  \n",
       "5 -0.008318  0.060049 -1342.506068  \n",
       "6 -0.052436  0.077157 -1371.953554  \n",
       "7 -0.109675  0.064228 -1350.015749  \n",
       "8 -0.125621  0.070114 -1380.828275  \n",
       "9 -0.099408  0.081337 -1389.021227  "
      ]
     },
     "execution_count": 7,
     "metadata": {},
     "output_type": "execute_result"
    }
   ],
   "source": [
    "test.summary().iloc[:10,:]"
   ]
  },
  {
   "cell_type": "markdown",
   "metadata": {},
   "source": [
    "- `gene`: gene name / identifier\n",
    "- `pval`: p-value of the gene\n",
    "- `qval`: multiple testing - corrected p-value of the gene\n",
    "- `log2fc`: log_2 fold change between `no coefficient` and `coefficient`\n",
    "- `grad`: the gradient of the gene's log-likelihood\n",
    "- `coef_mle` the maximum-likelihood estimate of the coefficient in liker-space\n",
    "- `coef_sd` the standard deviation of the coefficient in liker-space\n",
    "- `ll`: the log-likelihood of the estimation"
   ]
  },
  {
   "cell_type": "markdown",
   "metadata": {},
   "source": [
    "`test.plot_volcano()` creates a volcano plot of p-values vs. fold-change:"
   ]
  },
  {
   "cell_type": "code",
   "execution_count": 8,
   "metadata": {
    "scrolled": false
   },
   "outputs": [
    {
     "data": {
      "image/png": "[encoded data removed]",
      "text/plain": [
       "<Figure size 432x288 with 1 Axes>"
      ]
     },
     "metadata": {
      "needs_background": "light"
     },
     "output_type": "display_data"
    }
   ],
   "source": [
    "test.plot_volcano(corrected_pval=True, min_fc=1.05, alpha=0.05, size=20)\n"
   ]
  },
  {
   "cell_type": "markdown",
   "metadata": {},
   "source": [
    "`plot_vs_ttest()` shows the correlation between t-test p-values and the wald test p-values"
   ]
  },
  {
   "cell_type": "code",
   "execution_count": 9,
   "metadata": {
    "scrolled": false
   },
   "outputs": [
    {
     "data": {
      "image/png": "[encoded data removed]",
      "text/plain": [
       "<Figure size 432x288 with 1 Axes>"
      ]
     },
     "metadata": {
      "needs_background": "light"
     },
     "output_type": "display_data"
    }
   ],
   "source": [
    "test.plot_vs_ttest()"
   ]
  },
  {
   "cell_type": "markdown",
   "metadata": {},
   "source": [
    "## Vary the test"
   ]
  },
  {
   "cell_type": "markdown",
   "metadata": {},
   "source": [
    "Diffxpy supports Welch's t-tests, rank sum tests, Wald tests (as above) and likelihood ratio tests."
   ]
  },
  {
   "cell_type": "markdown",
   "metadata": {},
   "source": [
    "### Welch's t-test"
   ]
  },
  {
   "cell_type": "markdown",
   "metadata": {},
   "source": [
    "For t-tests and rank sum tests, the `grouping` argument indicates the the name of the column in sample description or adata.obs which contains two groups, ie. entries which come from a unique set of length two."
   ]
  },
  {
   "cell_type": "code",
   "execution_count": 10,
   "metadata": {},
   "outputs": [],
   "source": [
    "test_tt = de.test.t_test(\n",
    "    data=data,\n",
    "    grouping=\"condition\"\n",
    ")"
   ]
  },
  {
   "cell_type": "code",
   "execution_count": 11,
   "metadata": {},
   "outputs": [
    {
     "data": {
      "text/plain": [
       "<matplotlib.axes._subplots.AxesSubplot at 0x13cb2db70>"
      ]
     },
     "execution_count": 11,
     "metadata": {},
     "output_type": "execute_result"
    },
    {
     "data": {
      "image/png": "[encoded data removed]",
      "text/plain": [
       "<Figure size 432x288 with 1 Axes>"
      ]
     },
     "metadata": {
      "needs_background": "light"
     },
     "output_type": "display_data"
    }
   ],
   "source": [
    "sns.scatterplot(\n",
    "    x=test.log10_pval_clean(),\n",
    "    y=test_tt.log10_pval_clean()\n",
    ")"
   ]
  },
  {
   "cell_type": "markdown",
   "metadata": {},
   "source": [
    "### Rank sum test"
   ]
  },
  {
   "cell_type": "code",
   "execution_count": 12,
   "metadata": {},
   "outputs": [],
   "source": [
    "test_rank = de.test.rank_test(\n",
    "    data=data,\n",
    "    grouping=\"condition\"\n",
    ")"
   ]
  },
  {
   "cell_type": "code",
   "execution_count": 13,
   "metadata": {},
   "outputs": [
    {
     "data": {
      "text/plain": [
       "<matplotlib.axes._subplots.AxesSubplot at 0x118c2d940>"
      ]
     },
     "execution_count": 13,
     "metadata": {},
     "output_type": "execute_result"
    },
    {
     "data": {
      "image/png": "[encoded data removed]",
      "text/plain": [
       "<Figure size 432x288 with 1 Axes>"
      ]
     },
     "metadata": {
      "needs_background": "light"
     },
     "output_type": "display_data"
    }
   ],
   "source": [
    "sns.scatterplot(\n",
    "    x=test.log10_pval_clean(),\n",
    "    y=test_rank.log10_pval_clean()\n",
    ")"
   ]
  },
  {
   "cell_type": "markdown",
   "metadata": {},
   "source": [
    "### Likelihood ratio test"
   ]
  },
  {
   "cell_type": "markdown",
   "metadata": {},
   "source": [
    "In a likelihood ratio test (LRT), one specifies a null (reduced) and an alternative (full) model. The difference set of coefficients of both models is tested. The LRT requires 2 models to be fit rather than one in the Wald test and therefore tends to be slightly slower."
   ]
  },
  {
   "cell_type": "code",
   "execution_count": 36,
   "metadata": {},
   "outputs": [],
   "source": [
    "#test_lrt = de.test.lrt(\n",
    "#    data=data, \n",
    "#    full_formula_loc=\"1+condition\",\n",
    "#    reduced_formula_loc=\"1\"\n",
    "#)"
   ]
  },
  {
   "cell_type": "code",
   "execution_count": 37,
   "metadata": {},
   "outputs": [],
   "source": [
    "#sns.scatterplot(\n",
    "#    x=test.log10_pval_clean(),\n",
    "#    y=test_lrt.log10_pval_clean()\n",
    "#)"
   ]
  },
  {
   "cell_type": "markdown",
   "metadata": {},
   "source": [
    "### Two-sample wrapper"
   ]
  },
  {
   "cell_type": "markdown",
   "metadata": {},
   "source": [
    "For the special case of two group comparisons, one can also easily toggle between tests using the `two_sample wrapper`."
   ]
  },
  {
   "cell_type": "code",
   "execution_count": 15,
   "metadata": {
    "scrolled": true
   },
   "outputs": [],
   "source": [
    "test_2s = de.test.two_sample(\n",
    "    data=data, \n",
    "    grouping=\"condition\",\n",
    "    test=\"t_test\"\n",
    ")"
   ]
  },
  {
   "cell_type": "markdown",
   "metadata": {},
   "source": [
    "This yields exactly the same as calling t-test twice:"
   ]
  },
  {
   "cell_type": "code",
   "execution_count": 16,
   "metadata": {},
   "outputs": [
    {
     "data": {
      "text/plain": [
       "<matplotlib.axes._subplots.AxesSubplot at 0x13bfec940>"
      ]
     },
     "execution_count": 16,
     "metadata": {},
     "output_type": "execute_result"
    },
    {
     "data": {
      "image/png": "[encoded data removed]",
      "text/plain": [
       "<Figure size 432x288 with 1 Axes>"
      ]
     },
     "metadata": {
      "needs_background": "light"
     },
     "output_type": "display_data"
    }
   ],
   "source": [
    "sns.scatterplot(\n",
    "    x=test_tt.log10_pval_clean(),\n",
    "    y=test_2s.log10_pval_clean()\n",
    ")"
   ]
  },
  {
   "cell_type": "markdown",
   "metadata": {},
   "source": [
    "## Inclusion of size factors"
   ]
  },
  {
   "cell_type": "markdown",
   "metadata": {},
   "source": [
    "One can also use pre-computed size factors in diffxpy by supplying them to the test function."
   ]
  },
  {
   "cell_type": "code",
   "execution_count": 17,
   "metadata": {},
   "outputs": [],
   "source": [
    "size_factors = np.random.uniform(0.5, 1.5, (sim.x.shape[0]))"
   ]
  },
  {
   "cell_type": "code",
   "execution_count": 18,
   "metadata": {},
   "outputs": [
    {
     "name": "stderr",
     "output_type": "stream",
     "text": [
      "I1101 08:29:55.117454 4648003008 estimator.py:51] training strategy:\n",
      "{'max_steps': 1000, 'update_b_freq': 5}\n"
     ]
    }
   ],
   "source": [
    "test_sf = de.test.wald(\n",
    "    data=data,\n",
    "    formula_loc=\"~ 1 + condition\",\n",
    "    factor_loc_totest=\"condition\",\n",
    "    size_factors=size_factors\n",
    ")"
   ]
  },
  {
   "cell_type": "markdown",
   "metadata": {},
   "source": [
    "And results can be retrieved as beford. Note that the results differ now as we imposed size factors without changing the data:"
   ]
  },
  {
   "cell_type": "code",
   "execution_count": 19,
   "metadata": {},
   "outputs": [
    {
     "data": {
      "text/plain": [
       "<matplotlib.axes._subplots.AxesSubplot at 0x13cd8cf60>"
      ]
     },
     "execution_count": 19,
     "metadata": {},
     "output_type": "execute_result"
    },
    {
     "data": {
      "image/png": "[encoded data removed]",
      "text/plain": [
       "<Figure size 432x288 with 1 Axes>"
      ]
     },
     "metadata": {
      "needs_background": "light"
     },
     "output_type": "display_data"
    }
   ],
   "source": [
    "sns.scatterplot(\n",
    "    x=test.log10_pval_clean(),\n",
    "    y=test_sf.log10_pval_clean()\n",
    ")"
   ]
  },
  {
   "cell_type": "markdown",
   "metadata": {},
   "source": [
    "## Inclusion of continuous effects"
   ]
  },
  {
   "cell_type": "markdown",
   "metadata": {},
   "source": [
    "One can also regress out size factors. Alternatively one can account for other continuous effects such as time, space or concentration. "
   ]
  },
  {
   "cell_type": "markdown",
   "metadata": {},
   "source": [
    "We also provide a separate tutorial for continuous covariate modelling in the notebook \"modelling_continuous_covariates\". Please consider this section here a short introduction and refer to the dedicated tutorial for further information."
   ]
  },
  {
   "cell_type": "markdown",
   "metadata": {},
   "source": [
    "### Numeric covariates"
   ]
  },
  {
   "cell_type": "markdown",
   "metadata": {},
   "source": [
    "Firstly, you have to indicate that you are supplying a continuous effect if you want to do so. We will otherwise turn it into a catgeorical effect and this will not produce the desired results. We do this so that we can make sure that there are no errors arising from numeric and catgeorical columns in pandas DataFrames. Here, we add the size factor into the anndata object to make it accessible to the model:"
   ]
  },
  {
   "cell_type": "code",
   "execution_count": 20,
   "metadata": {},
   "outputs": [],
   "source": [
    "data.obs[\"size_factors\"] = size_factors"
   ]
  },
  {
   "cell_type": "code",
   "execution_count": 21,
   "metadata": {},
   "outputs": [
    {
     "name": "stderr",
     "output_type": "stream",
     "text": [
      "I1101 08:29:58.174185 4648003008 estimator.py:51] training strategy:\n",
      "{'max_steps': 1000, 'update_b_freq': 5}\n"
     ]
    }
   ],
   "source": [
    "test_regressed_sf = de.test.wald(\n",
    "    data=data,\n",
    "    formula_loc=\"~ 1 + condition + size_factors\",\n",
    "    factor_loc_totest=\"condition\",\n",
    "    as_numeric=[\"size_factors\"]\n",
    ")"
   ]
  },
  {
   "cell_type": "markdown",
   "metadata": {},
   "source": [
    "Again, this gives different results to using size factors to scale to model only:"
   ]
  },
  {
   "cell_type": "code",
   "execution_count": 22,
   "metadata": {},
   "outputs": [
    {
     "data": {
      "text/plain": [
       "<matplotlib.axes._subplots.AxesSubplot at 0x13cddb208>"
      ]
     },
     "execution_count": 22,
     "metadata": {},
     "output_type": "execute_result"
    },
    {
     "data": {
      "image/png": "[encoded data removed]",
      "text/plain": [
       "<Figure size 432x288 with 1 Axes>"
      ]
     },
     "metadata": {
      "needs_background": "light"
     },
     "output_type": "display_data"
    }
   ],
   "source": [
    "sns.scatterplot(\n",
    "    x=test_sf.log10_pval_clean(),\n",
    "    y=test_regressed_sf.log10_pval_clean()\n",
    ")"
   ]
  },
  {
   "cell_type": "markdown",
   "metadata": {},
   "source": [
    "### Spline basis transformation"
   ]
  },
  {
   "cell_type": "markdown",
   "metadata": {},
   "source": [
    "It may be desirable to not fit a linear trend to a continuous covariate but to allow smooth trends in this covariate, such as smooth trends of total counts, time, space or concentration. This can be solved by using a spline basis space representation of the continuous covariate. Diffxpy does this automatically in a separate wrapper `continuous_1d()`:"
   ]
  },
  {
   "cell_type": "code",
   "execution_count": 23,
   "metadata": {
    "scrolled": true
   },
   "outputs": [
    {
     "name": "stderr",
     "output_type": "stream",
     "text": [
      "I1101 08:30:00.283493 4648003008 estimator.py:51] training strategy:\n",
      "{'max_steps': 1000, 'update_b_freq': 5}\n"
     ]
    }
   ],
   "source": [
    "test_spline_sf = de.test.continuous_1d(\n",
    "    data=data,\n",
    "    formula_loc=\"~ 1 + condition + size_factors\",\n",
    "    formula_scale=\"~ 1\",\n",
    "    factor_loc_totest=\"condition\",\n",
    "    continuous=\"size_factors\",\n",
    "    df=4,\n",
    "    quick_scale=False\n",
    ")"
   ]
  },
  {
   "cell_type": "markdown",
   "metadata": {},
   "source": [
    "The spline model has more degrees of freedom (df=4 means 4 degrees of freedom) to fit the expression trend of each gene as a function of the size facotr than the simple linear model (1 degree of freedom) had. Accordingly, the p-values change again:"
   ]
  },
  {
   "cell_type": "code",
   "execution_count": 24,
   "metadata": {},
   "outputs": [
    {
     "data": {
      "text/plain": [
       "<matplotlib.axes._subplots.AxesSubplot at 0x13cfc13c8>"
      ]
     },
     "execution_count": 24,
     "metadata": {},
     "output_type": "execute_result"
    },
    {
     "data": {
      "image/png": "[encoded data removed]",
      "text/plain": [
       "<Figure size 432x288 with 1 Axes>"
      ]
     },
     "metadata": {
      "needs_background": "light"
     },
     "output_type": "display_data"
    }
   ],
   "source": [
    "sns.scatterplot(\n",
    "    x=test_regressed_sf.log10_pval_clean(),\n",
    "    y=test_spline_sf.log10_pval_clean()\n",
    ")"
   ]
  },
  {
   "cell_type": "markdown",
   "metadata": {},
   "source": [
    "# Testing a multiple coefficients with a Wald test"
   ]
  },
  {
   "cell_type": "markdown",
   "metadata": {},
   "source": [
    "We know turn to tests that cannot be performed with T-tests or rank sum tests because they involve more than two groups (or more general: multiple coefficients)."
   ]
  },
  {
   "cell_type": "markdown",
   "metadata": {},
   "source": [
    "## Generate data:"
   ]
  },
  {
   "cell_type": "markdown",
   "metadata": {},
   "source": [
    "We now simulate not only two conditions but four conditions, which results in 3 coefficients to be tested: Note that the first group is absorbed into the intercept as is standard in generalized linear models."
   ]
  },
  {
   "cell_type": "code",
   "execution_count": 26,
   "metadata": {},
   "outputs": [
    {
     "name": "stderr",
     "output_type": "stream",
     "text": [
      "Transforming to str index.\n"
     ]
    }
   ],
   "source": [
    "from batchglm.api.models.tf1.glm_nb import Simulator\n",
    "\n",
    "sim = Simulator(num_observations=200, num_features=100)\n",
    "sim.generate_sample_description(num_batches=0, num_conditions=4)\n",
    "sim.generate_params(\n",
    "    rand_fn_loc=lambda shape: np.random.uniform(-0.1, 0.1, shape),\n",
    "    rand_fn_scale=lambda shape: np.random.uniform(0.1, 2, shape)\n",
    ")\n",
    "sim.generate_data()\n",
    "\n",
    "data = anndata.AnnData(\n",
    "    X=sim.x,\n",
    "    var=pd.DataFrame(index=[\"gene\" + str(i) for i in range(sim.x.shape[1])]),\n",
    "    obs=sim.sample_description\n",
    ")"
   ]
  },
  {
   "cell_type": "markdown",
   "metadata": {},
   "source": [
    "## Run differential expression test"
   ]
  },
  {
   "cell_type": "markdown",
   "metadata": {},
   "source": [
    "We can now choose whether we want to collectively test all coefficients of the condition factor or whether we test the significance of a selected set of coefficients."
   ]
  },
  {
   "cell_type": "markdown",
   "metadata": {},
   "source": [
    "### Test a whole factor"
   ]
  },
  {
   "cell_type": "code",
   "execution_count": 27,
   "metadata": {
    "scrolled": true
   },
   "outputs": [
    {
     "name": "stderr",
     "output_type": "stream",
     "text": [
      "I1101 08:30:21.557281 4648003008 estimator.py:51] training strategy:\n",
      "{'max_steps': 1000, 'update_b_freq': 5}\n"
     ]
    }
   ],
   "source": [
    "test_fac = de.test.wald(\n",
    "    data=data,\n",
    "    formula_loc=\"~ 1 + condition\",\n",
    "    factor_loc_totest=\"condition\"\n",
    ")"
   ]
  },
  {
   "cell_type": "markdown",
   "metadata": {},
   "source": [
    "Again, we can look at results like before:"
   ]
  },
  {
   "cell_type": "code",
   "execution_count": 28,
   "metadata": {},
   "outputs": [
    {
     "data": {
      "text/html": [
       "<div>\n",
       "<style scoped>\n",
       "    .dataframe tbody tr th:only-of-type {\n",
       "        vertical-align: middle;\n",
       "    }\n",
       "\n",
       "    .dataframe tbody tr th {\n",
       "        vertical-align: top;\n",
       "    }\n",
       "\n",
       "    .dataframe thead th {\n",
       "        text-align: right;\n",
       "    }\n",
       "</style>\n",
       "<table border=\"1\" class=\"dataframe\">\n",
       "  <thead>\n",
       "    <tr style=\"text-align: right;\">\n",
       "      <th></th>\n",
       "      <th>gene</th>\n",
       "      <th>pval</th>\n",
       "      <th>qval</th>\n",
       "      <th>log2fc</th>\n",
       "      <th>mean</th>\n",
       "      <th>zero_mean</th>\n",
       "      <th>grad</th>\n",
       "      <th>ll</th>\n",
       "    </tr>\n",
       "  </thead>\n",
       "  <tbody>\n",
       "    <tr>\n",
       "      <th>0</th>\n",
       "      <td>gene0</td>\n",
       "      <td>0.277851</td>\n",
       "      <td>0.492273</td>\n",
       "      <td>0.147647</td>\n",
       "      <td>421.869995</td>\n",
       "      <td>False</td>\n",
       "      <td>0.027561</td>\n",
       "      <td>-1312.509915</td>\n",
       "    </tr>\n",
       "    <tr>\n",
       "      <th>1</th>\n",
       "      <td>gene1</td>\n",
       "      <td>0.491807</td>\n",
       "      <td>0.656583</td>\n",
       "      <td>0.047191</td>\n",
       "      <td>520.349976</td>\n",
       "      <td>False</td>\n",
       "      <td>0.030544</td>\n",
       "      <td>-1280.711568</td>\n",
       "    </tr>\n",
       "    <tr>\n",
       "      <th>2</th>\n",
       "      <td>gene2</td>\n",
       "      <td>0.359895</td>\n",
       "      <td>0.580475</td>\n",
       "      <td>-0.087734</td>\n",
       "      <td>484.940002</td>\n",
       "      <td>False</td>\n",
       "      <td>0.043177</td>\n",
       "      <td>-1334.831021</td>\n",
       "    </tr>\n",
       "    <tr>\n",
       "      <th>3</th>\n",
       "      <td>gene3</td>\n",
       "      <td>0.450769</td>\n",
       "      <td>0.645822</td>\n",
       "      <td>-0.149193</td>\n",
       "      <td>467.864990</td>\n",
       "      <td>False</td>\n",
       "      <td>0.035538</td>\n",
       "      <td>-1371.121205</td>\n",
       "    </tr>\n",
       "    <tr>\n",
       "      <th>4</th>\n",
       "      <td>gene4</td>\n",
       "      <td>0.898119</td>\n",
       "      <td>0.935540</td>\n",
       "      <td>-0.057238</td>\n",
       "      <td>536.635010</td>\n",
       "      <td>False</td>\n",
       "      <td>0.053513</td>\n",
       "      <td>-1358.993988</td>\n",
       "    </tr>\n",
       "    <tr>\n",
       "      <th>5</th>\n",
       "      <td>gene5</td>\n",
       "      <td>0.399238</td>\n",
       "      <td>0.604905</td>\n",
       "      <td>-0.168357</td>\n",
       "      <td>438.980011</td>\n",
       "      <td>False</td>\n",
       "      <td>0.004615</td>\n",
       "      <td>-1362.527003</td>\n",
       "    </tr>\n",
       "    <tr>\n",
       "      <th>6</th>\n",
       "      <td>gene6</td>\n",
       "      <td>0.185840</td>\n",
       "      <td>0.379265</td>\n",
       "      <td>-0.194161</td>\n",
       "      <td>539.265015</td>\n",
       "      <td>False</td>\n",
       "      <td>0.074427</td>\n",
       "      <td>-1384.323391</td>\n",
       "    </tr>\n",
       "    <tr>\n",
       "      <th>7</th>\n",
       "      <td>gene7</td>\n",
       "      <td>0.640233</td>\n",
       "      <td>0.768172</td>\n",
       "      <td>0.123167</td>\n",
       "      <td>473.200012</td>\n",
       "      <td>False</td>\n",
       "      <td>0.069339</td>\n",
       "      <td>-1369.790906</td>\n",
       "    </tr>\n",
       "    <tr>\n",
       "      <th>8</th>\n",
       "      <td>gene8</td>\n",
       "      <td>0.044763</td>\n",
       "      <td>0.223817</td>\n",
       "      <td>-0.131154</td>\n",
       "      <td>504.015015</td>\n",
       "      <td>False</td>\n",
       "      <td>0.045032</td>\n",
       "      <td>-1370.312173</td>\n",
       "    </tr>\n",
       "    <tr>\n",
       "      <th>9</th>\n",
       "      <td>gene9</td>\n",
       "      <td>0.048412</td>\n",
       "      <td>0.230011</td>\n",
       "      <td>-0.276199</td>\n",
       "      <td>508.024994</td>\n",
       "      <td>False</td>\n",
       "      <td>0.066663</td>\n",
       "      <td>-1368.800212</td>\n",
       "    </tr>\n",
       "  </tbody>\n",
       "</table>\n",
       "</div>"
      ],
      "text/plain": [
       "    gene      pval      qval    log2fc        mean  zero_mean      grad  \\\n",
       "0  gene0  0.277851  0.492273  0.147647  421.869995      False  0.027561   \n",
       "1  gene1  0.491807  0.656583  0.047191  520.349976      False  0.030544   \n",
       "2  gene2  0.359895  0.580475 -0.087734  484.940002      False  0.043177   \n",
       "3  gene3  0.450769  0.645822 -0.149193  467.864990      False  0.035538   \n",
       "4  gene4  0.898119  0.935540 -0.057238  536.635010      False  0.053513   \n",
       "5  gene5  0.399238  0.604905 -0.168357  438.980011      False  0.004615   \n",
       "6  gene6  0.185840  0.379265 -0.194161  539.265015      False  0.074427   \n",
       "7  gene7  0.640233  0.768172  0.123167  473.200012      False  0.069339   \n",
       "8  gene8  0.044763  0.223817 -0.131154  504.015015      False  0.045032   \n",
       "9  gene9  0.048412  0.230011 -0.276199  508.024994      False  0.066663   \n",
       "\n",
       "            ll  \n",
       "0 -1312.509915  \n",
       "1 -1280.711568  \n",
       "2 -1334.831021  \n",
       "3 -1371.121205  \n",
       "4 -1358.993988  \n",
       "5 -1362.527003  \n",
       "6 -1384.323391  \n",
       "7 -1369.790906  \n",
       "8 -1370.312173  \n",
       "9 -1368.800212  "
      ]
     },
     "execution_count": 28,
     "metadata": {},
     "output_type": "execute_result"
    }
   ],
   "source": [
    "test_fac.summary().iloc[:10, :]"
   ]
  },
  {
   "cell_type": "markdown",
   "metadata": {},
   "source": [
    "### Test selected coefficients"
   ]
  },
  {
   "cell_type": "markdown",
   "metadata": {},
   "source": [
    "In this artificial example, we test all coefficients necessary to test the entire factor. First, we preview the coefficient names and then yield the desired list to diffxpy."
   ]
  },
  {
   "cell_type": "code",
   "execution_count": 29,
   "metadata": {},
   "outputs": [
    {
     "data": {
      "text/plain": [
       "['Intercept', 'condition[T.1]', 'condition[T.2]', 'condition[T.3]']"
      ]
     },
     "execution_count": 29,
     "metadata": {},
     "output_type": "execute_result"
    }
   ],
   "source": [
    "de.utils.preview_coef_names(\n",
    "    sample_description=data.obs,\n",
    "    formula=\"~ 1 + condition\"\n",
    ")"
   ]
  },
  {
   "cell_type": "code",
   "execution_count": 30,
   "metadata": {},
   "outputs": [
    {
     "name": "stderr",
     "output_type": "stream",
     "text": [
      "I1101 08:30:23.589154 4648003008 estimator.py:51] training strategy:\n",
      "{'max_steps': 1000, 'update_b_freq': 5}\n"
     ]
    }
   ],
   "source": [
    "test_coef = de.test.wald(\n",
    "    data=data,\n",
    "    formula_loc=\"~ 1 + condition\",\n",
    "    coef_to_test=['condition[T.1]', 'condition[T.2]', 'condition[T.3]']\n",
    ")"
   ]
  },
  {
   "cell_type": "markdown",
   "metadata": {},
   "source": [
    "Finally, we perform a sanity check that the factor and coefficient test yielded the same p-values:"
   ]
  },
  {
   "cell_type": "code",
   "execution_count": 31,
   "metadata": {},
   "outputs": [
    {
     "data": {
      "text/plain": [
       "<matplotlib.axes._subplots.AxesSubplot at 0x13d178160>"
      ]
     },
     "execution_count": 31,
     "metadata": {},
     "output_type": "execute_result"
    },
    {
     "data": {
      "image/png": "[encoded data removed]",
      "text/plain": [
       "<Figure size 432x288 with 1 Axes>"
      ]
     },
     "metadata": {
      "needs_background": "light"
     },
     "output_type": "display_data"
    }
   ],
   "source": [
    "sns.scatterplot(\n",
    "    x=test_fac.log10_pval_clean(),\n",
    "    y=test_coef.log10_pval_clean()\n",
    ")"
   ]
  },
  {
   "cell_type": "markdown",
   "metadata": {},
   "source": [
    "# Running a test across multiple partitions of a data set"
   ]
  },
  {
   "cell_type": "markdown",
   "metadata": {},
   "source": [
    "In some scenarios, one wants to perform a test in multiple partitions of a data set. This can be testing the condition effect separately at each observed time point or in each cell type cluster for example."
   ]
  },
  {
   "cell_type": "markdown",
   "metadata": {},
   "source": [
    "WATCH OUT: The use of expression-derived cell type cluster information is confounded with the tested expression."
   ]
  },
  {
   "cell_type": "markdown",
   "metadata": {},
   "source": [
    "Similar to what we describe here, one can also run a Welch's t-test, a rank sum test or a likelihood-ratio test on partitions of a data set."
   ]
  },
  {
   "cell_type": "markdown",
   "metadata": {},
   "source": [
    "## Generate data:"
   ]
  },
  {
   "cell_type": "markdown",
   "metadata": {},
   "source": [
    "We now simulate conditions across cell types."
   ]
  },
  {
   "cell_type": "code",
   "execution_count": 32,
   "metadata": {},
   "outputs": [
    {
     "name": "stderr",
     "output_type": "stream",
     "text": [
      "Transforming to str index.\n"
     ]
    }
   ],
   "source": [
    "from batchglm.api.models.tf1.glm_nb import Simulator\n",
    "\n",
    "sim = Simulator(num_observations=200, num_features=100)\n",
    "sim.generate_sample_description(num_batches=0, num_conditions=4)\n",
    "sim.generate_params(\n",
    "    rand_fn_loc=lambda shape: np.random.uniform(-0.1, 0.1, shape),\n",
    "    rand_fn_scale=lambda shape: np.random.uniform(0.1, 2, shape)\n",
    ")\n",
    "sim.generate_data()\n",
    "sample_description = sim.sample_description\n",
    "sample_description[\"cell_type\"] = np.repeat(\n",
    "    np.array([\"c1\", \"c2\", \"c3\", \"c4\"]), \n",
    "    int(sim.input_data.num_observations / 4)\n",
    ")\n",
    "\n",
    "data_part = anndata.AnnData(\n",
    "    X=sim.x,\n",
    "    var=pd.DataFrame(index=[\"gene\" + str(i) for i in range(sim.x.shape[1])]),\n",
    "    obs=sample_description\n",
    ")"
   ]
  },
  {
   "cell_type": "markdown",
   "metadata": {},
   "source": [
    "## Run differential expression test"
   ]
  },
  {
   "cell_type": "markdown",
   "metadata": {},
   "source": [
    "We can now partition the data set by cell type and conduct a test across conditions in each cell type."
   ]
  },
  {
   "cell_type": "code",
   "execution_count": 33,
   "metadata": {
    "scrolled": false
   },
   "outputs": [
    {
     "name": "stderr",
     "output_type": "stream",
     "text": [
      "I1101 08:30:25.862147 4648003008 estimator.py:51] training strategy:\n",
      "{'max_steps': 1000, 'update_b_freq': 5}\n",
      "I1101 08:30:27.281496 4648003008 estimator.py:51] training strategy:\n",
      "{'max_steps': 1000, 'update_b_freq': 5}\n",
      "I1101 08:30:28.577277 4648003008 estimator.py:51] training strategy:\n",
      "{'max_steps': 1000, 'update_b_freq': 5}\n",
      "I1101 08:30:30.068945 4648003008 estimator.py:51] training strategy:\n",
      "{'max_steps': 1000, 'update_b_freq': 5}\n"
     ]
    }
   ],
   "source": [
    "part = de.test.partition(\n",
    "    data=data_part,\n",
    "    parts=\"cell_type\"\n",
    ")\n",
    "test_part = part.wald(\n",
    "    formula_loc=\"~ 1 + condition\",\n",
    "    factor_loc_totest=\"condition\"\n",
    ")"
   ]
  },
  {
   "cell_type": "markdown",
   "metadata": {},
   "source": [
    "Note that there is one test and p-value for each partition for each gene now. We can summarize test statistics across partitions using summary:"
   ]
  },
  {
   "cell_type": "code",
   "execution_count": 34,
   "metadata": {},
   "outputs": [
    {
     "data": {
      "text/html": [
       "<div>\n",
       "<style scoped>\n",
       "    .dataframe tbody tr th:only-of-type {\n",
       "        vertical-align: middle;\n",
       "    }\n",
       "\n",
       "    .dataframe tbody tr th {\n",
       "        vertical-align: top;\n",
       "    }\n",
       "\n",
       "    .dataframe thead th {\n",
       "        text-align: right;\n",
       "    }\n",
       "</style>\n",
       "<table border=\"1\" class=\"dataframe\">\n",
       "  <thead>\n",
       "    <tr style=\"text-align: right;\">\n",
       "      <th></th>\n",
       "      <th>gene</th>\n",
       "      <th>pval</th>\n",
       "      <th>qval</th>\n",
       "      <th>log2fc</th>\n",
       "      <th>mean</th>\n",
       "    </tr>\n",
       "  </thead>\n",
       "  <tbody>\n",
       "    <tr>\n",
       "      <th>0</th>\n",
       "      <td>gene0</td>\n",
       "      <td>0.007775</td>\n",
       "      <td>0.207674</td>\n",
       "      <td>0.821535</td>\n",
       "      <td>499.535004</td>\n",
       "    </tr>\n",
       "    <tr>\n",
       "      <th>1</th>\n",
       "      <td>gene1</td>\n",
       "      <td>0.000003</td>\n",
       "      <td>0.000260</td>\n",
       "      <td>1.617482</td>\n",
       "      <td>447.505005</td>\n",
       "    </tr>\n",
       "    <tr>\n",
       "      <th>2</th>\n",
       "      <td>gene2</td>\n",
       "      <td>0.326601</td>\n",
       "      <td>0.859476</td>\n",
       "      <td>0.342792</td>\n",
       "      <td>476.575012</td>\n",
       "    </tr>\n",
       "    <tr>\n",
       "      <th>3</th>\n",
       "      <td>gene3</td>\n",
       "      <td>0.227182</td>\n",
       "      <td>0.646721</td>\n",
       "      <td>0.359799</td>\n",
       "      <td>543.405029</td>\n",
       "    </tr>\n",
       "    <tr>\n",
       "      <th>4</th>\n",
       "      <td>gene4</td>\n",
       "      <td>0.569666</td>\n",
       "      <td>0.837744</td>\n",
       "      <td>0.239041</td>\n",
       "      <td>448.140015</td>\n",
       "    </tr>\n",
       "    <tr>\n",
       "      <th>5</th>\n",
       "      <td>gene5</td>\n",
       "      <td>0.041472</td>\n",
       "      <td>0.425347</td>\n",
       "      <td>0.768011</td>\n",
       "      <td>553.570007</td>\n",
       "    </tr>\n",
       "    <tr>\n",
       "      <th>6</th>\n",
       "      <td>gene6</td>\n",
       "      <td>0.044566</td>\n",
       "      <td>0.368951</td>\n",
       "      <td>0.522767</td>\n",
       "      <td>520.119995</td>\n",
       "    </tr>\n",
       "    <tr>\n",
       "      <th>7</th>\n",
       "      <td>gene7</td>\n",
       "      <td>0.023625</td>\n",
       "      <td>0.207674</td>\n",
       "      <td>0.464294</td>\n",
       "      <td>485.609985</td>\n",
       "    </tr>\n",
       "    <tr>\n",
       "      <th>8</th>\n",
       "      <td>gene8</td>\n",
       "      <td>0.000009</td>\n",
       "      <td>0.000889</td>\n",
       "      <td>0.268387</td>\n",
       "      <td>521.169983</td>\n",
       "    </tr>\n",
       "    <tr>\n",
       "      <th>9</th>\n",
       "      <td>gene9</td>\n",
       "      <td>0.056168</td>\n",
       "      <td>0.468501</td>\n",
       "      <td>0.525614</td>\n",
       "      <td>451.494995</td>\n",
       "    </tr>\n",
       "  </tbody>\n",
       "</table>\n",
       "</div>"
      ],
      "text/plain": [
       "    gene      pval      qval    log2fc        mean\n",
       "0  gene0  0.007775  0.207674  0.821535  499.535004\n",
       "1  gene1  0.000003  0.000260  1.617482  447.505005\n",
       "2  gene2  0.326601  0.859476  0.342792  476.575012\n",
       "3  gene3  0.227182  0.646721  0.359799  543.405029\n",
       "4  gene4  0.569666  0.837744  0.239041  448.140015\n",
       "5  gene5  0.041472  0.425347  0.768011  553.570007\n",
       "6  gene6  0.044566  0.368951  0.522767  520.119995\n",
       "7  gene7  0.023625  0.207674  0.464294  485.609985\n",
       "8  gene8  0.000009  0.000889  0.268387  521.169983\n",
       "9  gene9  0.056168  0.468501  0.525614  451.494995"
      ]
     },
     "execution_count": 34,
     "metadata": {},
     "output_type": "execute_result"
    }
   ],
   "source": [
    "test_part.summary().iloc[:10, :]"
   ]
  },
  {
   "cell_type": "markdown",
   "metadata": {},
   "source": [
    "Or look the results of a single partition:"
   ]
  },
  {
   "cell_type": "code",
   "execution_count": 35,
   "metadata": {
    "scrolled": true
   },
   "outputs": [
    {
     "data": {
      "text/html": [
       "<div>\n",
       "<style scoped>\n",
       "    .dataframe tbody tr th:only-of-type {\n",
       "        vertical-align: middle;\n",
       "    }\n",
       "\n",
       "    .dataframe tbody tr th {\n",
       "        vertical-align: top;\n",
       "    }\n",
       "\n",
       "    .dataframe thead th {\n",
       "        text-align: right;\n",
       "    }\n",
       "</style>\n",
       "<table border=\"1\" class=\"dataframe\">\n",
       "  <thead>\n",
       "    <tr style=\"text-align: right;\">\n",
       "      <th></th>\n",
       "      <th>gene</th>\n",
       "      <th>pval</th>\n",
       "      <th>qval</th>\n",
       "      <th>log2fc</th>\n",
       "      <th>mean</th>\n",
       "      <th>zero_mean</th>\n",
       "      <th>grad</th>\n",
       "      <th>ll</th>\n",
       "    </tr>\n",
       "  </thead>\n",
       "  <tbody>\n",
       "    <tr>\n",
       "      <th>0</th>\n",
       "      <td>gene0</td>\n",
       "      <td>0.236630</td>\n",
       "      <td>0.850233</td>\n",
       "      <td>0.378361</td>\n",
       "      <td>474.540009</td>\n",
       "      <td>False</td>\n",
       "      <td>0.149255</td>\n",
       "      <td>-349.672424</td>\n",
       "    </tr>\n",
       "    <tr>\n",
       "      <th>1</th>\n",
       "      <td>gene1</td>\n",
       "      <td>0.388072</td>\n",
       "      <td>0.887907</td>\n",
       "      <td>0.372109</td>\n",
       "      <td>432.959991</td>\n",
       "      <td>False</td>\n",
       "      <td>0.028610</td>\n",
       "      <td>-342.420953</td>\n",
       "    </tr>\n",
       "    <tr>\n",
       "      <th>2</th>\n",
       "      <td>gene2</td>\n",
       "      <td>0.915428</td>\n",
       "      <td>0.998093</td>\n",
       "      <td>-0.132995</td>\n",
       "      <td>459.140015</td>\n",
       "      <td>False</td>\n",
       "      <td>0.021319</td>\n",
       "      <td>-336.802719</td>\n",
       "    </tr>\n",
       "    <tr>\n",
       "      <th>3</th>\n",
       "      <td>gene3</td>\n",
       "      <td>0.331338</td>\n",
       "      <td>0.887907</td>\n",
       "      <td>-0.129664</td>\n",
       "      <td>575.559998</td>\n",
       "      <td>False</td>\n",
       "      <td>0.051677</td>\n",
       "      <td>-326.841868</td>\n",
       "    </tr>\n",
       "    <tr>\n",
       "      <th>4</th>\n",
       "      <td>gene4</td>\n",
       "      <td>0.649671</td>\n",
       "      <td>0.997315</td>\n",
       "      <td>0.165691</td>\n",
       "      <td>429.859985</td>\n",
       "      <td>False</td>\n",
       "      <td>0.022056</td>\n",
       "      <td>-322.434363</td>\n",
       "    </tr>\n",
       "    <tr>\n",
       "      <th>5</th>\n",
       "      <td>gene5</td>\n",
       "      <td>0.146981</td>\n",
       "      <td>0.746963</td>\n",
       "      <td>0.481870</td>\n",
       "      <td>543.159973</td>\n",
       "      <td>False</td>\n",
       "      <td>0.008542</td>\n",
       "      <td>-354.784068</td>\n",
       "    </tr>\n",
       "    <tr>\n",
       "      <th>6</th>\n",
       "      <td>gene6</td>\n",
       "      <td>0.085076</td>\n",
       "      <td>0.654431</td>\n",
       "      <td>0.362354</td>\n",
       "      <td>502.820007</td>\n",
       "      <td>False</td>\n",
       "      <td>0.020550</td>\n",
       "      <td>-327.777691</td>\n",
       "    </tr>\n",
       "    <tr>\n",
       "      <th>7</th>\n",
       "      <td>gene7</td>\n",
       "      <td>0.527121</td>\n",
       "      <td>0.896196</td>\n",
       "      <td>0.321824</td>\n",
       "      <td>478.440002</td>\n",
       "      <td>False</td>\n",
       "      <td>0.036779</td>\n",
       "      <td>-345.983630</td>\n",
       "    </tr>\n",
       "    <tr>\n",
       "      <th>8</th>\n",
       "      <td>gene8</td>\n",
       "      <td>0.001942</td>\n",
       "      <td>0.097125</td>\n",
       "      <td>-0.835358</td>\n",
       "      <td>485.220001</td>\n",
       "      <td>False</td>\n",
       "      <td>0.065138</td>\n",
       "      <td>-343.036688</td>\n",
       "    </tr>\n",
       "    <tr>\n",
       "      <th>9</th>\n",
       "      <td>gene9</td>\n",
       "      <td>0.056168</td>\n",
       "      <td>0.561681</td>\n",
       "      <td>0.364328</td>\n",
       "      <td>391.779999</td>\n",
       "      <td>False</td>\n",
       "      <td>0.016551</td>\n",
       "      <td>-311.557848</td>\n",
       "    </tr>\n",
       "  </tbody>\n",
       "</table>\n",
       "</div>"
      ],
      "text/plain": [
       "    gene      pval      qval    log2fc        mean  zero_mean      grad  \\\n",
       "0  gene0  0.236630  0.850233  0.378361  474.540009      False  0.149255   \n",
       "1  gene1  0.388072  0.887907  0.372109  432.959991      False  0.028610   \n",
       "2  gene2  0.915428  0.998093 -0.132995  459.140015      False  0.021319   \n",
       "3  gene3  0.331338  0.887907 -0.129664  575.559998      False  0.051677   \n",
       "4  gene4  0.649671  0.997315  0.165691  429.859985      False  0.022056   \n",
       "5  gene5  0.146981  0.746963  0.481870  543.159973      False  0.008542   \n",
       "6  gene6  0.085076  0.654431  0.362354  502.820007      False  0.020550   \n",
       "7  gene7  0.527121  0.896196  0.321824  478.440002      False  0.036779   \n",
       "8  gene8  0.001942  0.097125 -0.835358  485.220001      False  0.065138   \n",
       "9  gene9  0.056168  0.561681  0.364328  391.779999      False  0.016551   \n",
       "\n",
       "           ll  \n",
       "0 -349.672424  \n",
       "1 -342.420953  \n",
       "2 -336.802719  \n",
       "3 -326.841868  \n",
       "4 -322.434363  \n",
       "5 -354.784068  \n",
       "6 -327.777691  \n",
       "7 -345.983630  \n",
       "8 -343.036688  \n",
       "9 -311.557848  "
      ]
     },
     "execution_count": 35,
     "metadata": {},
     "output_type": "execute_result"
    }
   ],
   "source": [
    "test_part.tests[test_part.partitions.index(\"c1\")].summary().iloc[:10, :]"
   ]
  },
  {
   "cell_type": "markdown",
   "metadata": {},
   "source": [
    "# Further reading"
   ]
  },
  {
   "cell_type": "markdown",
   "metadata": {},
   "source": [
    "Was your scenario not captured by any of these classes of tests? diffxpy wraps a number of further advanced tests to which we dedicated separate tutorials. These are:\n",
    "    \n",
    "- pairwise tests between groups (\"multiple_tests_per_gene\")\n",
    "- grouwise tests versus all other groups (\"multiple_tests_per_gene\")\n",
    "- modelling continuous covariates such as as total counts, time, pseudotime, space, concentration (\"modelling_continuous_covariates\")\n",
    "- modelling equality constraints, relevant for scenarios with perfect confounding (\"modelling_constraints\")"
   ]
  },
  {
   "cell_type": "markdown",
   "metadata": {},
   "source": [
    "Still not covered? Post an issue on the [diffxpy](https://github.com/theislab/diffxpy) GitHub repository!"
   ]
  }
 ],
 "metadata": {
  "kernelspec": {
   "display_name": "Python 3.10.8 64-bit",
   "language": "python",
   "name": "python3"
  },
  "language_info": {
   "codemirror_mode": {
    "name": "ipython",
    "version": 3
   },
   "file_extension": ".py",
   "mimetype": "text/x-python",
   "name": "python",
   "nbconvert_exporter": "python",
   "pygments_lexer": "ipython3",
   "version": "3.10.8"
  },
  "toc": {
   "base_numbering": 1,
   "nav_menu": {},
   "number_sections": false,
   "sideBar": true,
   "skip_h1_title": false,
   "title_cell": "Table of Contents",
   "title_sidebar": "Contents",
   "toc_cell": false,
   "toc_position": {
    "height": "calc(100% - 180px)",
    "left": "10px",
    "top": "150px",
    "width": "212px"
   },
   "toc_section_display": true,
   "toc_window_display": true
  },
  "vscode": {
   "interpreter": {
    "hash": "b0fa6594d8f4cbf19f97940f81e996739fb7646882a419484c72d19e05852a7e"
   }
  }
 },
 "nbformat": 4,
 "nbformat_minor": 1
}
