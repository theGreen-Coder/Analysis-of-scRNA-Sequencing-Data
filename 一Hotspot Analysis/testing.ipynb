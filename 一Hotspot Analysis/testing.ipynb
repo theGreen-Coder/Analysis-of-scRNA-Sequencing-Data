{
 "cells": [
  {
   "cell_type": "code",
   "execution_count": 8,
   "metadata": {},
   "outputs": [],
   "source": [
    "my_file = open(\"./TFs.txt\", \"r\")\n",
    "\n",
    "data = my_file.read()\n",
    "\n",
    "TFsList = data.split(\"\\n\")"
   ]
  },
  {
   "cell_type": "code",
   "execution_count": 10,
   "metadata": {},
   "outputs": [],
   "source": [
    "import pandas as pd\n",
    "significantGenes = list(pd.read_csv(\"./significantGenes.csv\")[\"genes\"])"
   ]
  },
  {
   "cell_type": "code",
   "execution_count": 11,
   "metadata": {},
   "outputs": [],
   "source": [
    "HSA21genesDataframe = pd.read_csv(\"./HSA21_genes_biomaRt_conversion.csv\")\n",
    "HSA21genes = [x for x in HSA21genesDataframe[\"hgnc_symbol\"] if str(x) != 'nan']"
   ]
  },
  {
   "cell_type": "code",
   "execution_count": 12,
   "metadata": {},
   "outputs": [
    {
     "name": "stdout",
     "output_type": "stream",
     "text": [
      "57\n"
     ]
    },
    {
     "data": {
      "text/plain": [
       "['PKNOX1',\n",
       " 'KMT2A',\n",
       " 'PLAGL1',\n",
       " 'NR2F1',\n",
       " 'SP3',\n",
       " 'NRF1',\n",
       " 'ZBTB20',\n",
       " 'KLF7',\n",
       " 'ZNF704',\n",
       " 'FOXN3',\n",
       " 'BCL11A',\n",
       " 'BACH1',\n",
       " 'HLCS',\n",
       " 'ZNF532',\n",
       " 'ZNF16',\n",
       " 'THRA',\n",
       " 'CELF5',\n",
       " 'DPF1',\n",
       " 'SOX4',\n",
       " 'SOX11',\n",
       " 'ESRRG',\n",
       " 'RPP25',\n",
       " 'DLX6',\n",
       " 'SP9',\n",
       " 'POU2F2',\n",
       " 'SRRM3',\n",
       " 'SCRT1',\n",
       " 'INSM1',\n",
       " 'EOMES',\n",
       " 'ZBTB16',\n",
       " 'E2F5',\n",
       " 'RARA',\n",
       " 'MEX3C',\n",
       " 'GTPBP6',\n",
       " 'HMGA1',\n",
       " 'RORB',\n",
       " 'SOX5',\n",
       " 'TCF4',\n",
       " 'LHX2',\n",
       " 'EMX2',\n",
       " 'DMRTA2',\n",
       " 'FEZF2',\n",
       " 'NEUROG2',\n",
       " 'HMGN3',\n",
       " 'HES1',\n",
       " 'LEF1',\n",
       " 'DMRT3',\n",
       " 'PROX1',\n",
       " 'ZNF558',\n",
       " 'LMO2',\n",
       " 'NCALD',\n",
       " 'RBMS1',\n",
       " 'ZNF423',\n",
       " 'ZMAT4',\n",
       " 'ID4',\n",
       " 'LHX1',\n",
       " 'LHX5']"
      ]
     },
     "execution_count": 12,
     "metadata": {},
     "output_type": "execute_result"
    }
   ],
   "source": [
    "tfsInSignificant = 0\n",
    "significantTFsgenes = []\n",
    "\n",
    "for gene in significantGenes:\n",
    "    if gene in TFsList:\n",
    "        tfsInSignificant +=1\n",
    "        significantTFsgenes.append(gene)\n",
    "\n",
    "print(tfsInSignificant)\n",
    "significantTFsgenes"
   ]
  }
 ],
 "metadata": {
  "kernelspec": {
   "display_name": "Python 3",
   "language": "python",
   "name": "python3"
  },
  "language_info": {
   "codemirror_mode": {
    "name": "ipython",
    "version": 3
   },
   "file_extension": ".py",
   "mimetype": "text/x-python",
   "name": "python",
   "nbconvert_exporter": "python",
   "pygments_lexer": "ipython3",
   "version": "3.10.8"
  },
  "orig_nbformat": 4,
  "vscode": {
   "interpreter": {
    "hash": "b0fa6594d8f4cbf19f97940f81e996739fb7646882a419484c72d19e05852a7e"
   }
  }
 },
 "nbformat": 4,
 "nbformat_minor": 2
}
