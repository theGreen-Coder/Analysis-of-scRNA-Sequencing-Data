{
 "cells": [
  {
   "cell_type": "code",
   "execution_count": 1,
   "metadata": {},
   "outputs": [
    {
     "name": "stderr",
     "output_type": "stream",
     "text": [
      "/var/folders/ts/m7c_798d70q3whk59gstkgz00000gn/T/ipykernel_30511/137862686.py:27: FutureWarning: X.dtype being converted to np.float32 from float64. In the next version of anndata (0.9) conversion will not be automatic. Pass dtype explicitly to avoid this warning. Pass `AnnData(X, dtype=X.dtype, ...)` to get the future behavour.\n",
      "  sc.pp.regress_out(adata, ['total_counts', 'pct_counts_mt'])\n"
     ]
    }
   ],
   "source": [
    "import hotspot\n",
    "from itertools import groupby\n",
    "from json import load\n",
    "import pandas as pd\n",
    "import scanpy as sc\n",
    "import numpy as np\n",
    "import sys\n",
    "import modules.classifyClusters.classifyClusters as classify\n",
    "import os\n",
    "from matplotlib import pyplot as plt\n",
    "from matplotlib.backends.backend_pdf import PdfPages\n",
    "import seaborn as sns\n",
    "\n",
    "adata = sc.read(\"./output/savedDataClustersFinal.h5ad\")\n",
    "adata.var_names_make_unique()\n",
    "adata.X = adata.X.astype('float64')\n",
    "\n",
    "sc.pp.filter_genes(adata, min_counts=3)\n",
    "\n",
    "sc.pp.normalize_total(adata, target_sum=10000)\n",
    "sc.pp.log1p(adata)\n",
    "sc.pp.highly_variable_genes(adata, min_mean=0.0125, max_mean=3, min_disp=0.5)\n",
    "\n",
    "adata.raw = adata\n",
    "adata = adata[:, adata.var.highly_variable]\n",
    "\n",
    "sc.pp.regress_out(adata, ['total_counts', 'pct_counts_mt'])\n",
    "sc.pp.scale(adata, max_value=10)\n",
    "sc.tl.pca(adata, svd_solver='arpack')\n",
    "sc.pp.neighbors(adata, n_neighbors=15, n_pcs=40) # n_neighbors=15 is default\n",
    "sc.tl.umap(adata)\n",
    "sc.tl.leiden(adata, resolution=0.3)"
   ]
  },
  {
   "cell_type": "code",
   "execution_count": 2,
   "metadata": {},
   "outputs": [
    {
     "name": "stdout",
     "output_type": "stream",
     "text": [
      "AnnData object with n_obs × n_vars = 34626 × 36601\n",
      "    obs: 'orig.ident', 'nCount_RNA', 'nFeature_RNA', 'group', 'sample', 'batch', 'n_genes_by_counts', 'total_counts', 'total_counts_mt', 'pct_counts_mt', 'total_counts_ribo', 'pct_counts_ribo', 'n_genes', 'leiden'\n",
      "    var: 'features', 'mt', 'ribo', 'n_cells_by_counts', 'mean_counts', 'pct_dropout_by_counts', 'total_counts'\n",
      "    obsm: 'X_pca'\n",
      "AnnData object with n_obs × n_vars = 34626 × 23606\n",
      "    obs: 'orig.ident', 'nCount_RNA', 'nFeature_RNA', 'group', 'sample', 'batch', 'n_genes_by_counts', 'total_counts', 'total_counts_mt', 'pct_counts_mt', 'total_counts_ribo', 'pct_counts_ribo', 'n_genes', 'leiden'\n",
      "    var: 'features', 'mt', 'ribo', 'n_cells_by_counts', 'mean_counts', 'pct_dropout_by_counts', 'total_counts', 'n_counts'\n",
      "    obsm: 'X_pca'\n"
     ]
    }
   ],
   "source": [
    "adataHotspot = sc.read(\"./output/savedDataClustersFinal.h5ad\")\n",
    "adataHotspot.var_names_make_unique()\n",
    "adataHotspot.X = adataHotspot.X.astype('float64')\n",
    "adataHotspot.obsm[\"X_pca\"] = adata.obsm[\"X_pca\"]\n",
    "print(adataHotspot)\n",
    "sc.pp.filter_genes(adataHotspot, min_counts=50)\n",
    "print(adataHotspot)"
   ]
  },
  {
   "cell_type": "code",
   "execution_count": 3,
   "metadata": {},
   "outputs": [
    {
     "name": "stderr",
     "output_type": "stream",
     "text": [
      "/Users/greencode/Library/Python/3.9/lib/python/site-packages/hotspot/hotspot.py:98: UserWarning: Hotspot will work faster when counts are a csc sparse matrix.\n",
      "  warnings.warn(\n"
     ]
    },
    {
     "name": "stdout",
     "output_type": "stream",
     "text": [
      "Stored 'hs' (Hotspot)\n"
     ]
    }
   ],
   "source": [
    "hs = hotspot.Hotspot(\n",
    "    adataHotspot,\n",
    "    model='danb',\n",
    "    latent_obsm_key=\"X_pca\",\n",
    ")\n",
    "%store hs"
   ]
  },
  {
   "cell_type": "code",
   "execution_count": 4,
   "metadata": {},
   "outputs": [
    {
     "name": "stdout",
     "output_type": "stream",
     "text": [
      "Stored 'hs' (Hotspot)\n"
     ]
    }
   ],
   "source": [
    "hs.create_knn_graph(weighted_graph=False, n_neighbors=30)\n",
    "%store hs"
   ]
  },
  {
   "cell_type": "code",
   "execution_count": 5,
   "metadata": {},
   "outputs": [
    {
     "name": "stderr",
     "output_type": "stream",
     "text": [
      "100%|██████████| 23606/23606 [50:15<00:00,  7.83it/s] \n"
     ]
    },
    {
     "name": "stdout",
     "output_type": "stream",
     "text": [
      "Stored 'hs_results' (DataFrame)\n"
     ]
    }
   ],
   "source": [
    "hs_results = hs.compute_autocorrelations()\n",
    "%store hs_results"
   ]
  },
  {
   "cell_type": "code",
   "execution_count": 6,
   "metadata": {},
   "outputs": [
    {
     "data": {
      "text/html": [
       "<div>\n",
       "<style scoped>\n",
       "    .dataframe tbody tr th:only-of-type {\n",
       "        vertical-align: middle;\n",
       "    }\n",
       "\n",
       "    .dataframe tbody tr th {\n",
       "        vertical-align: top;\n",
       "    }\n",
       "\n",
       "    .dataframe thead th {\n",
       "        text-align: right;\n",
       "    }\n",
       "</style>\n",
       "<table border=\"1\" class=\"dataframe\">\n",
       "  <thead>\n",
       "    <tr style=\"text-align: right;\">\n",
       "      <th></th>\n",
       "      <th>C</th>\n",
       "      <th>Z</th>\n",
       "      <th>Pval</th>\n",
       "      <th>FDR</th>\n",
       "    </tr>\n",
       "    <tr>\n",
       "      <th>Gene</th>\n",
       "      <th></th>\n",
       "      <th></th>\n",
       "      <th></th>\n",
       "      <th></th>\n",
       "    </tr>\n",
       "  </thead>\n",
       "  <tbody>\n",
       "    <tr>\n",
       "      <th>TEX14</th>\n",
       "      <td>0.515330</td>\n",
       "      <td>2594.070025</td>\n",
       "      <td>0.000000</td>\n",
       "      <td>0.000000</td>\n",
       "    </tr>\n",
       "    <tr>\n",
       "      <th>KCNMB2-AS1</th>\n",
       "      <td>0.492181</td>\n",
       "      <td>949.023499</td>\n",
       "      <td>0.000000</td>\n",
       "      <td>0.000000</td>\n",
       "    </tr>\n",
       "    <tr>\n",
       "      <th>MIR99AHG</th>\n",
       "      <td>0.725571</td>\n",
       "      <td>869.714643</td>\n",
       "      <td>0.000000</td>\n",
       "      <td>0.000000</td>\n",
       "    </tr>\n",
       "    <tr>\n",
       "      <th>TENM2</th>\n",
       "      <td>0.519401</td>\n",
       "      <td>847.999303</td>\n",
       "      <td>0.000000</td>\n",
       "      <td>0.000000</td>\n",
       "    </tr>\n",
       "    <tr>\n",
       "      <th>HSPA1B</th>\n",
       "      <td>0.426130</td>\n",
       "      <td>825.877416</td>\n",
       "      <td>0.000000</td>\n",
       "      <td>0.000000</td>\n",
       "    </tr>\n",
       "    <tr>\n",
       "      <th>...</th>\n",
       "      <td>...</td>\n",
       "      <td>...</td>\n",
       "      <td>...</td>\n",
       "      <td>...</td>\n",
       "    </tr>\n",
       "    <tr>\n",
       "      <th>AL118558.4</th>\n",
       "      <td>-0.002060</td>\n",
       "      <td>-1.871002</td>\n",
       "      <td>0.969328</td>\n",
       "      <td>0.969492</td>\n",
       "    </tr>\n",
       "    <tr>\n",
       "      <th>AC080013.3</th>\n",
       "      <td>-0.002133</td>\n",
       "      <td>-1.880602</td>\n",
       "      <td>0.969987</td>\n",
       "      <td>0.970110</td>\n",
       "    </tr>\n",
       "    <tr>\n",
       "      <th>AC141586.3</th>\n",
       "      <td>-0.001933</td>\n",
       "      <td>-2.036560</td>\n",
       "      <td>0.979153</td>\n",
       "      <td>0.979236</td>\n",
       "    </tr>\n",
       "    <tr>\n",
       "      <th>AC016866.1</th>\n",
       "      <td>-0.002329</td>\n",
       "      <td>-2.079601</td>\n",
       "      <td>0.981219</td>\n",
       "      <td>0.981260</td>\n",
       "    </tr>\n",
       "    <tr>\n",
       "      <th>LINC00852</th>\n",
       "      <td>-0.002641</td>\n",
       "      <td>-2.229307</td>\n",
       "      <td>0.987103</td>\n",
       "      <td>0.987103</td>\n",
       "    </tr>\n",
       "  </tbody>\n",
       "</table>\n",
       "<p>23606 rows × 4 columns</p>\n",
       "</div>"
      ],
      "text/plain": [
       "                   C            Z      Pval       FDR\n",
       "Gene                                                 \n",
       "TEX14       0.515330  2594.070025  0.000000  0.000000\n",
       "KCNMB2-AS1  0.492181   949.023499  0.000000  0.000000\n",
       "MIR99AHG    0.725571   869.714643  0.000000  0.000000\n",
       "TENM2       0.519401   847.999303  0.000000  0.000000\n",
       "HSPA1B      0.426130   825.877416  0.000000  0.000000\n",
       "...              ...          ...       ...       ...\n",
       "AL118558.4 -0.002060    -1.871002  0.969328  0.969492\n",
       "AC080013.3 -0.002133    -1.880602  0.969987  0.970110\n",
       "AC141586.3 -0.001933    -2.036560  0.979153  0.979236\n",
       "AC016866.1 -0.002329    -2.079601  0.981219  0.981260\n",
       "LINC00852  -0.002641    -2.229307  0.987103  0.987103\n",
       "\n",
       "[23606 rows x 4 columns]"
      ]
     },
     "execution_count": 6,
     "metadata": {},
     "output_type": "execute_result"
    }
   ],
   "source": [
    "hs.results"
   ]
  },
  {
   "cell_type": "code",
   "execution_count": 7,
   "metadata": {},
   "outputs": [],
   "source": [
    "hs.results.to_csv(\"HsResults.csv\")"
   ]
  },
  {
   "cell_type": "code",
   "execution_count": 8,
   "metadata": {},
   "outputs": [
    {
     "name": "stdout",
     "output_type": "stream",
     "text": [
      "Stored 'hs_genes' (Index)\n",
      "Computing pair-wise local correlation on 21182 features...\n"
     ]
    },
    {
     "name": "stderr",
     "output_type": "stream",
     "text": [
      "100%|██████████| 21182/21182 [01:11<00:00, 294.55it/s]\n",
      "  0%|          | 98148/224327971 [21:02<800:55:13, 77.77it/s] \n"
     ]
    },
    {
     "ename": "KeyboardInterrupt",
     "evalue": "",
     "output_type": "error",
     "traceback": [
      "\u001b[0;31m---------------------------------------------------------------------------\u001b[0m",
      "\u001b[0;31mKeyboardInterrupt\u001b[0m                         Traceback (most recent call last)",
      "Cell \u001b[0;32mIn[8], line 3\u001b[0m\n\u001b[1;32m      1\u001b[0m hs_genes \u001b[39m=\u001b[39m hs_results\u001b[39m.\u001b[39mloc[hs_results\u001b[39m.\u001b[39mFDR \u001b[39m<\u001b[39m \u001b[39m0.05\u001b[39m]\u001b[39m.\u001b[39mindex \u001b[39m# Select genes\u001b[39;00m\n\u001b[1;32m      2\u001b[0m get_ipython()\u001b[39m.\u001b[39mrun_line_magic(\u001b[39m'\u001b[39m\u001b[39mstore\u001b[39m\u001b[39m'\u001b[39m, \u001b[39m'\u001b[39m\u001b[39mhs_genes\u001b[39m\u001b[39m'\u001b[39m)\n\u001b[0;32m----> 3\u001b[0m local_correlations \u001b[39m=\u001b[39m hs\u001b[39m.\u001b[39;49mcompute_local_correlations(hs_genes, jobs\u001b[39m=\u001b[39;49m\u001b[39m1\u001b[39;49m) \u001b[39m# jobs\u001b[39;00m\n\u001b[1;32m      4\u001b[0m get_ipython()\u001b[39m.\u001b[39mrun_line_magic(\u001b[39m'\u001b[39m\u001b[39mstore\u001b[39m\u001b[39m'\u001b[39m, \u001b[39m'\u001b[39m\u001b[39mlocal_correlations\u001b[39m\u001b[39m'\u001b[39m)\n",
      "File \u001b[0;32m~/Library/Python/3.9/lib/python/site-packages/hotspot/hotspot.py:469\u001b[0m, in \u001b[0;36mHotspot.compute_local_correlations\u001b[0;34m(self, genes, jobs)\u001b[0m\n\u001b[1;32m    459\u001b[0m \u001b[39mprint\u001b[39m(\n\u001b[1;32m    460\u001b[0m     \u001b[39m\"\u001b[39m\u001b[39mComputing pair-wise local correlation on \u001b[39m\u001b[39m{}\u001b[39;00m\u001b[39m features...\u001b[39m\u001b[39m\"\u001b[39m\u001b[39m.\u001b[39mformat(\u001b[39mlen\u001b[39m(genes))\n\u001b[1;32m    461\u001b[0m )\n\u001b[1;32m    462\u001b[0m counts_dense \u001b[39m=\u001b[39m \u001b[39mself\u001b[39m\u001b[39m.\u001b[39m_counts_from_anndata(\n\u001b[1;32m    463\u001b[0m     \u001b[39mself\u001b[39m\u001b[39m.\u001b[39madata[:, genes],\n\u001b[1;32m    464\u001b[0m     \u001b[39mself\u001b[39m\u001b[39m.\u001b[39mlayer_key,\n\u001b[1;32m    465\u001b[0m     dense\u001b[39m=\u001b[39m\u001b[39mTrue\u001b[39;00m,\n\u001b[1;32m    466\u001b[0m     pandas\u001b[39m=\u001b[39m\u001b[39mTrue\u001b[39;00m,\n\u001b[1;32m    467\u001b[0m )\n\u001b[0;32m--> 469\u001b[0m lc, lcz \u001b[39m=\u001b[39m compute_hs_pairs_centered_cond(\n\u001b[1;32m    470\u001b[0m     counts_dense,\n\u001b[1;32m    471\u001b[0m     \u001b[39mself\u001b[39;49m\u001b[39m.\u001b[39;49mneighbors,\n\u001b[1;32m    472\u001b[0m     \u001b[39mself\u001b[39;49m\u001b[39m.\u001b[39;49mweights,\n\u001b[1;32m    473\u001b[0m     \u001b[39mself\u001b[39;49m\u001b[39m.\u001b[39;49mumi_counts,\n\u001b[1;32m    474\u001b[0m     \u001b[39mself\u001b[39;49m\u001b[39m.\u001b[39;49mmodel,\n\u001b[1;32m    475\u001b[0m     jobs\u001b[39m=\u001b[39;49mjobs,\n\u001b[1;32m    476\u001b[0m )\n\u001b[1;32m    478\u001b[0m \u001b[39mself\u001b[39m\u001b[39m.\u001b[39mlocal_correlation_c \u001b[39m=\u001b[39m lc\n\u001b[1;32m    479\u001b[0m \u001b[39mself\u001b[39m\u001b[39m.\u001b[39mlocal_correlation_z \u001b[39m=\u001b[39m lcz\n",
      "File \u001b[0;32m~/Library/Python/3.9/lib/python/site-packages/hotspot/local_stats_pairs.py:776\u001b[0m, in \u001b[0;36mcompute_hs_pairs_centered_cond\u001b[0;34m(counts, neighbors, weights, num_umi, model, jobs)\u001b[0m\n\u001b[1;32m    773\u001b[0m     \u001b[39mdef\u001b[39;00m \u001b[39m_map_fun\u001b[39m(rowpair):\n\u001b[1;32m    774\u001b[0m         \u001b[39mreturn\u001b[39;00m _compute_hs_pairs_inner_centered_cond_sym(\n\u001b[1;32m    775\u001b[0m             rowpair, counts, neighbors, weights, eg2s)\n\u001b[0;32m--> 776\u001b[0m     results \u001b[39m=\u001b[39m \u001b[39mlist\u001b[39;49m(\n\u001b[1;32m    777\u001b[0m         tqdm(\n\u001b[1;32m    778\u001b[0m             \u001b[39mmap\u001b[39;49m(_map_fun, pairs),\n\u001b[1;32m    779\u001b[0m             total\u001b[39m=\u001b[39;49m\u001b[39mlen\u001b[39;49m(pairs)\n\u001b[1;32m    780\u001b[0m         )\n\u001b[1;32m    781\u001b[0m     )\n\u001b[1;32m    783\u001b[0m N \u001b[39m=\u001b[39m counts\u001b[39m.\u001b[39mshape[\u001b[39m0\u001b[39m]\n\u001b[1;32m    784\u001b[0m pairs \u001b[39m=\u001b[39m np\u001b[39m.\u001b[39marray(pairs)\n",
      "File \u001b[0;32m~/Library/Python/3.9/lib/python/site-packages/tqdm/std.py:1195\u001b[0m, in \u001b[0;36mtqdm.__iter__\u001b[0;34m(self)\u001b[0m\n\u001b[1;32m   1192\u001b[0m time \u001b[39m=\u001b[39m \u001b[39mself\u001b[39m\u001b[39m.\u001b[39m_time\n\u001b[1;32m   1194\u001b[0m \u001b[39mtry\u001b[39;00m:\n\u001b[0;32m-> 1195\u001b[0m     \u001b[39mfor\u001b[39;00m obj \u001b[39min\u001b[39;00m iterable:\n\u001b[1;32m   1196\u001b[0m         \u001b[39myield\u001b[39;00m obj\n\u001b[1;32m   1197\u001b[0m         \u001b[39m# Update and possibly print the progressbar.\u001b[39;00m\n\u001b[1;32m   1198\u001b[0m         \u001b[39m# Note: does not call self.update(1) for speed optimisation.\u001b[39;00m\n",
      "File \u001b[0;32m~/Library/Python/3.9/lib/python/site-packages/hotspot/local_stats_pairs.py:774\u001b[0m, in \u001b[0;36mcompute_hs_pairs_centered_cond.<locals>._map_fun\u001b[0;34m(rowpair)\u001b[0m\n\u001b[1;32m    773\u001b[0m \u001b[39mdef\u001b[39;00m \u001b[39m_map_fun\u001b[39m(rowpair):\n\u001b[0;32m--> 774\u001b[0m     \u001b[39mreturn\u001b[39;00m _compute_hs_pairs_inner_centered_cond_sym(\n\u001b[1;32m    775\u001b[0m         rowpair, counts, neighbors, weights, eg2s)\n",
      "\u001b[0;31mKeyboardInterrupt\u001b[0m: "
     ]
    }
   ],
   "source": [
    "hs_genes = hs_results.loc[hs_results.FDR < 0.05].index # Select genes\n",
    "%store hs_genes\n",
    "local_correlations = hs.compute_local_correlations(hs_genes, jobs=1) # jobs\n",
    "%store local_correlations"
   ]
  },
  {
   "cell_type": "code",
   "execution_count": null,
   "metadata": {},
   "outputs": [],
   "source": [
    "hs_genes"
   ]
  },
  {
   "cell_type": "code",
   "execution_count": null,
   "metadata": {},
   "outputs": [],
   "source": [
    "local_correlations"
   ]
  },
  {
   "cell_type": "code",
   "execution_count": null,
   "metadata": {},
   "outputs": [],
   "source": [
    "modules = hs.create_modules(\n",
    "    min_gene_threshold=30, core_only=True, fdr_threshold=0.05\n",
    ")\n",
    "%store modules"
   ]
  },
  {
   "cell_type": "code",
   "execution_count": null,
   "metadata": {},
   "outputs": [],
   "source": [
    "hs.plot_local_correlations()"
   ]
  }
 ],
 "metadata": {
  "kernelspec": {
   "display_name": "Python 3.9.6 64-bit",
   "language": "python",
   "name": "python3"
  },
  "language_info": {
   "codemirror_mode": {
    "name": "ipython",
    "version": 3
   },
   "file_extension": ".py",
   "mimetype": "text/x-python",
   "name": "python",
   "nbconvert_exporter": "python",
   "pygments_lexer": "ipython3",
   "version": "3.9.6 (default, Sep 26 2022, 11:37:49) \n[Clang 14.0.0 (clang-1400.0.29.202)]"
  },
  "orig_nbformat": 4,
  "vscode": {
   "interpreter": {
    "hash": "31f2aee4e71d21fbe5cf8b01ff0e069b9275f58929596ceb00d14d90e3e16cd6"
   }
  }
 },
 "nbformat": 4,
 "nbformat_minor": 2
}
