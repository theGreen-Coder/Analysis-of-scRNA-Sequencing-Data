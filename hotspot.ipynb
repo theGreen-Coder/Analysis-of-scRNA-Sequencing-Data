{
 "cells": [
  {
   "cell_type": "code",
   "execution_count": 1,
   "metadata": {},
   "outputs": [
    {
     "name": "stderr",
     "output_type": "stream",
     "text": [
      "/var/folders/ts/m7c_798d70q3whk59gstkgz00000gn/T/ipykernel_9047/137862686.py:27: FutureWarning: X.dtype being converted to np.float32 from float64. In the next version of anndata (0.9) conversion will not be automatic. Pass dtype explicitly to avoid this warning. Pass `AnnData(X, dtype=X.dtype, ...)` to get the future behavour.\n",
      "  sc.pp.regress_out(adata, ['total_counts', 'pct_counts_mt'])\n"
     ]
    }
   ],
   "source": [
    "import hotspot\n",
    "from itertools import groupby\n",
    "from json import load\n",
    "import pandas as pd\n",
    "import scanpy as sc\n",
    "import numpy as np\n",
    "import sys\n",
    "import modules.classifyClusters.classifyClusters as classify\n",
    "import os\n",
    "from matplotlib import pyplot as plt\n",
    "from matplotlib.backends.backend_pdf import PdfPages\n",
    "import seaborn as sns\n",
    "\n",
    "adata = sc.read(\"./output/savedDataClustersFinal.h5ad\")\n",
    "adata.var_names_make_unique()\n",
    "adata.X = adata.X.astype('float64')\n",
    "\n",
    "sc.pp.filter_genes(adata, min_counts=3)\n",
    "\n",
    "sc.pp.normalize_total(adata, target_sum=10000)\n",
    "sc.pp.log1p(adata)\n",
    "sc.pp.highly_variable_genes(adata, min_mean=0.0125, max_mean=3, min_disp=0.5)\n",
    "\n",
    "adata.raw = adata\n",
    "adata = adata[:, adata.var.highly_variable]\n",
    "\n",
    "sc.pp.regress_out(adata, ['total_counts', 'pct_counts_mt'])\n",
    "sc.pp.scale(adata, max_value=10)\n",
    "sc.tl.pca(adata, svd_solver='arpack')\n",
    "sc.pp.neighbors(adata, n_neighbors=15, n_pcs=40) # n_neighbors=15 is default\n",
    "sc.tl.umap(adata)\n",
    "sc.tl.leiden(adata, resolution=0.3)"
   ]
  },
  {
   "cell_type": "code",
   "execution_count": 2,
   "metadata": {},
   "outputs": [
    {
     "name": "stdout",
     "output_type": "stream",
     "text": [
      "AnnData object with n_obs × n_vars = 34626 × 36601\n",
      "    obs: 'orig.ident', 'nCount_RNA', 'nFeature_RNA', 'group', 'sample', 'batch', 'n_genes_by_counts', 'total_counts', 'total_counts_mt', 'pct_counts_mt', 'total_counts_ribo', 'pct_counts_ribo', 'n_genes', 'leiden'\n",
      "    var: 'features', 'mt', 'ribo', 'n_cells_by_counts', 'mean_counts', 'pct_dropout_by_counts', 'total_counts'\n",
      "    obsm: 'X_pca'\n",
      "AnnData object with n_obs × n_vars = 34626 × 23606\n",
      "    obs: 'orig.ident', 'nCount_RNA', 'nFeature_RNA', 'group', 'sample', 'batch', 'n_genes_by_counts', 'total_counts', 'total_counts_mt', 'pct_counts_mt', 'total_counts_ribo', 'pct_counts_ribo', 'n_genes', 'leiden'\n",
      "    var: 'features', 'mt', 'ribo', 'n_cells_by_counts', 'mean_counts', 'pct_dropout_by_counts', 'total_counts', 'n_counts'\n",
      "    obsm: 'X_pca'\n"
     ]
    }
   ],
   "source": [
    "adataHotspot = sc.read(\"./output/savedDataClustersFinal.h5ad\")\n",
    "adataHotspot.var_names_make_unique()\n",
    "adataHotspot.X = adataHotspot.X.astype('float64')\n",
    "adataHotspot.obsm[\"X_pca\"] = adata.obsm[\"X_pca\"]\n",
    "print(adataHotspot)\n",
    "sc.pp.filter_genes(adataHotspot, min_counts=50)\n",
    "print(adataHotspot)"
   ]
  },
  {
   "cell_type": "code",
   "execution_count": 3,
   "metadata": {},
   "outputs": [
    {
     "name": "stderr",
     "output_type": "stream",
     "text": [
      "/Users/greencode/Library/Python/3.9/lib/python/site-packages/hotspot/hotspot.py:98: UserWarning: Hotspot will work faster when counts are a csc sparse matrix.\n",
      "  warnings.warn(\n"
     ]
    }
   ],
   "source": [
    "hs = hotspot.Hotspot(\n",
    "    adataHotspot,\n",
    "    model='danb',\n",
    "    latent_obsm_key=\"X_pca\",\n",
    ")"
   ]
  },
  {
   "cell_type": "code",
   "execution_count": 4,
   "metadata": {},
   "outputs": [],
   "source": [
    "hs.create_knn_graph(weighted_graph=False, n_neighbors=30)"
   ]
  },
  {
   "cell_type": "code",
   "execution_count": 5,
   "metadata": {},
   "outputs": [
    {
     "name": "stderr",
     "output_type": "stream",
     "text": [
      " 30%|███       | 7150/23606 [1:48:18<4:09:17,  1.10it/s]   \n"
     ]
    },
    {
     "ename": "KeyboardInterrupt",
     "evalue": "",
     "output_type": "error",
     "traceback": [
      "\u001b[0;31m---------------------------------------------------------------------------\u001b[0m",
      "\u001b[0;31mKeyboardInterrupt\u001b[0m                         Traceback (most recent call last)",
      "Cell \u001b[0;32mIn[5], line 1\u001b[0m\n\u001b[0;32m----> 1\u001b[0m hs_results \u001b[39m=\u001b[39m hs\u001b[39m.\u001b[39;49mcompute_autocorrelations()\n",
      "File \u001b[0;32m~/Library/Python/3.9/lib/python/site-packages/hotspot/hotspot.py:436\u001b[0m, in \u001b[0;36mHotspot.compute_autocorrelations\u001b[0;34m(self, jobs)\u001b[0m\n\u001b[1;32m    412\u001b[0m \u001b[39mdef\u001b[39;00m \u001b[39mcompute_autocorrelations\u001b[39m(\u001b[39mself\u001b[39m, jobs\u001b[39m=\u001b[39m\u001b[39m1\u001b[39m):\n\u001b[1;32m    413\u001b[0m     \u001b[39m\"\"\"Perform feature selection using local autocorrelation\u001b[39;00m\n\u001b[1;32m    414\u001b[0m \n\u001b[1;32m    415\u001b[0m \u001b[39m    In addition to returning output, this also stores the output\u001b[39;00m\n\u001b[0;32m   (...)\u001b[0m\n\u001b[1;32m    434\u001b[0m \n\u001b[1;32m    435\u001b[0m \u001b[39m    \"\"\"\u001b[39;00m\n\u001b[0;32m--> 436\u001b[0m     \u001b[39mreturn\u001b[39;00m \u001b[39mself\u001b[39;49m\u001b[39m.\u001b[39;49m_compute_hotspot(jobs)\n",
      "File \u001b[0;32m~/Library/Python/3.9/lib/python/site-packages/hotspot/hotspot.py:397\u001b[0m, in \u001b[0;36mHotspot._compute_hotspot\u001b[0;34m(self, jobs)\u001b[0m\n\u001b[1;32m    370\u001b[0m \u001b[39mdef\u001b[39;00m \u001b[39m_compute_hotspot\u001b[39m(\u001b[39mself\u001b[39m, jobs\u001b[39m=\u001b[39m\u001b[39m1\u001b[39m):\n\u001b[1;32m    371\u001b[0m     \u001b[39m\"\"\"Perform feature selection using local autocorrelation\u001b[39;00m\n\u001b[1;32m    372\u001b[0m \n\u001b[1;32m    373\u001b[0m \u001b[39m    In addition to returning output, this also stores the output\u001b[39;00m\n\u001b[0;32m   (...)\u001b[0m\n\u001b[1;32m    394\u001b[0m \n\u001b[1;32m    395\u001b[0m \u001b[39m    \"\"\"\u001b[39;00m\n\u001b[0;32m--> 397\u001b[0m     results \u001b[39m=\u001b[39m compute_hs(\n\u001b[1;32m    398\u001b[0m         \u001b[39mself\u001b[39;49m\u001b[39m.\u001b[39;49mcounts,\n\u001b[1;32m    399\u001b[0m         \u001b[39mself\u001b[39;49m\u001b[39m.\u001b[39;49mneighbors,\n\u001b[1;32m    400\u001b[0m         \u001b[39mself\u001b[39;49m\u001b[39m.\u001b[39;49mweights,\n\u001b[1;32m    401\u001b[0m         \u001b[39mself\u001b[39;49m\u001b[39m.\u001b[39;49mumi_counts,\n\u001b[1;32m    402\u001b[0m         \u001b[39mself\u001b[39;49m\u001b[39m.\u001b[39;49mmodel,\n\u001b[1;32m    403\u001b[0m         genes\u001b[39m=\u001b[39;49m\u001b[39mself\u001b[39;49m\u001b[39m.\u001b[39;49madata\u001b[39m.\u001b[39;49mvar_names,\n\u001b[1;32m    404\u001b[0m         centered\u001b[39m=\u001b[39;49m\u001b[39mTrue\u001b[39;49;00m,\n\u001b[1;32m    405\u001b[0m         jobs\u001b[39m=\u001b[39;49mjobs,\n\u001b[1;32m    406\u001b[0m     )\n\u001b[1;32m    408\u001b[0m     \u001b[39mself\u001b[39m\u001b[39m.\u001b[39mresults \u001b[39m=\u001b[39m results\n\u001b[1;32m    410\u001b[0m     \u001b[39mreturn\u001b[39;00m \u001b[39mself\u001b[39m\u001b[39m.\u001b[39mresults\n",
      "File \u001b[0;32m~/Library/Python/3.9/lib/python/site-packages/hotspot/local_stats.py:218\u001b[0m, in \u001b[0;36mcompute_hs\u001b[0;34m(counts, neighbors, weights, num_umi, model, genes, centered, jobs)\u001b[0m\n\u001b[1;32m    213\u001b[0m     \u001b[39mdef\u001b[39;00m \u001b[39m_map_fun\u001b[39m(vals):\n\u001b[1;32m    214\u001b[0m         \u001b[39mreturn\u001b[39;00m _compute_hs_inner(\n\u001b[1;32m    215\u001b[0m             vals, neighbors, weights, num_umi, model, centered, Wtot2, D\n\u001b[1;32m    216\u001b[0m         )\n\u001b[0;32m--> 218\u001b[0m     results \u001b[39m=\u001b[39m \u001b[39mlist\u001b[39;49m(tqdm(\u001b[39mmap\u001b[39;49m(_map_fun, data_iter()), total\u001b[39m=\u001b[39;49mcounts\u001b[39m.\u001b[39;49mshape[\u001b[39m0\u001b[39;49m]))\n\u001b[1;32m    220\u001b[0m results \u001b[39m=\u001b[39m pd\u001b[39m.\u001b[39mDataFrame(results, index\u001b[39m=\u001b[39mgenes, columns\u001b[39m=\u001b[39m[\u001b[39m\"\u001b[39m\u001b[39mG\u001b[39m\u001b[39m\"\u001b[39m, \u001b[39m\"\u001b[39m\u001b[39mEG\u001b[39m\u001b[39m\"\u001b[39m, \u001b[39m\"\u001b[39m\u001b[39mstdG\u001b[39m\u001b[39m\"\u001b[39m, \u001b[39m\"\u001b[39m\u001b[39mZ\u001b[39m\u001b[39m\"\u001b[39m, \u001b[39m\"\u001b[39m\u001b[39mC\u001b[39m\u001b[39m\"\u001b[39m])\n\u001b[1;32m    222\u001b[0m results[\u001b[39m\"\u001b[39m\u001b[39mPval\u001b[39m\u001b[39m\"\u001b[39m] \u001b[39m=\u001b[39m norm\u001b[39m.\u001b[39msf(results[\u001b[39m\"\u001b[39m\u001b[39mZ\u001b[39m\u001b[39m\"\u001b[39m]\u001b[39m.\u001b[39mvalues)\n",
      "File \u001b[0;32m~/Library/Python/3.9/lib/python/site-packages/tqdm/std.py:1195\u001b[0m, in \u001b[0;36mtqdm.__iter__\u001b[0;34m(self)\u001b[0m\n\u001b[1;32m   1192\u001b[0m time \u001b[39m=\u001b[39m \u001b[39mself\u001b[39m\u001b[39m.\u001b[39m_time\n\u001b[1;32m   1194\u001b[0m \u001b[39mtry\u001b[39;00m:\n\u001b[0;32m-> 1195\u001b[0m     \u001b[39mfor\u001b[39;00m obj \u001b[39min\u001b[39;00m iterable:\n\u001b[1;32m   1196\u001b[0m         \u001b[39myield\u001b[39;00m obj\n\u001b[1;32m   1197\u001b[0m         \u001b[39m# Update and possibly print the progressbar.\u001b[39;00m\n\u001b[1;32m   1198\u001b[0m         \u001b[39m# Note: does not call self.update(1) for speed optimisation.\u001b[39;00m\n",
      "File \u001b[0;32m~/Library/Python/3.9/lib/python/site-packages/hotspot/local_stats.py:182\u001b[0m, in \u001b[0;36mcompute_hs.<locals>.data_iter\u001b[0;34m()\u001b[0m\n\u001b[1;32m    180\u001b[0m \u001b[39mdef\u001b[39;00m \u001b[39mdata_iter\u001b[39m():\n\u001b[1;32m    181\u001b[0m     \u001b[39mfor\u001b[39;00m i \u001b[39min\u001b[39;00m \u001b[39mrange\u001b[39m(counts\u001b[39m.\u001b[39mshape[\u001b[39m0\u001b[39m]):\n\u001b[0;32m--> 182\u001b[0m         vals \u001b[39m=\u001b[39m counts[i]\n\u001b[1;32m    183\u001b[0m         \u001b[39mif\u001b[39;00m issparse(vals):\n\u001b[1;32m    184\u001b[0m             vals \u001b[39m=\u001b[39m np\u001b[39m.\u001b[39masarray(vals\u001b[39m.\u001b[39mA)\u001b[39m.\u001b[39mravel()\n",
      "File \u001b[0;32m~/Library/Python/3.9/lib/python/site-packages/scipy/sparse/_index.py:55\u001b[0m, in \u001b[0;36mIndexMixin.__getitem__\u001b[0;34m(self, key)\u001b[0m\n\u001b[1;32m     53\u001b[0m \u001b[39melif\u001b[39;00m \u001b[39misinstance\u001b[39m(col, \u001b[39mslice\u001b[39m):\n\u001b[1;32m     54\u001b[0m     \u001b[39mself\u001b[39m\u001b[39m.\u001b[39m_raise_on_1d_array_slice()\n\u001b[0;32m---> 55\u001b[0m     \u001b[39mreturn\u001b[39;00m \u001b[39mself\u001b[39;49m\u001b[39m.\u001b[39;49m_get_intXslice(row, col)\n\u001b[1;32m     56\u001b[0m \u001b[39melif\u001b[39;00m col\u001b[39m.\u001b[39mndim \u001b[39m==\u001b[39m \u001b[39m1\u001b[39m:\n\u001b[1;32m     57\u001b[0m     \u001b[39mself\u001b[39m\u001b[39m.\u001b[39m_raise_on_1d_array_slice()\n",
      "File \u001b[0;32m~/Library/Python/3.9/lib/python/site-packages/scipy/sparse/_csc.py:211\u001b[0m, in \u001b[0;36mcsc_matrix._get_intXslice\u001b[0;34m(self, row, col)\u001b[0m\n\u001b[1;32m    209\u001b[0m \u001b[39mdef\u001b[39;00m \u001b[39m_get_intXslice\u001b[39m(\u001b[39mself\u001b[39m, row, col):\n\u001b[1;32m    210\u001b[0m     \u001b[39mif\u001b[39;00m col\u001b[39m.\u001b[39mstep \u001b[39min\u001b[39;00m (\u001b[39m1\u001b[39m, \u001b[39mNone\u001b[39;00m):\n\u001b[0;32m--> 211\u001b[0m         \u001b[39mreturn\u001b[39;00m \u001b[39mself\u001b[39;49m\u001b[39m.\u001b[39;49m_get_submatrix(major\u001b[39m=\u001b[39;49mcol, minor\u001b[39m=\u001b[39;49mrow, copy\u001b[39m=\u001b[39;49m\u001b[39mTrue\u001b[39;49;00m)\n\u001b[1;32m    212\u001b[0m     \u001b[39mreturn\u001b[39;00m \u001b[39mself\u001b[39m\u001b[39m.\u001b[39m_major_slice(col)\u001b[39m.\u001b[39m_get_submatrix(minor\u001b[39m=\u001b[39mrow)\n",
      "File \u001b[0;32m~/Library/Python/3.9/lib/python/site-packages/scipy/sparse/_compressed.py:810\u001b[0m, in \u001b[0;36m_cs_matrix._get_submatrix\u001b[0;34m(self, major, minor, copy)\u001b[0m\n\u001b[1;32m    807\u001b[0m \u001b[39mif\u001b[39;00m i0 \u001b[39m==\u001b[39m \u001b[39m0\u001b[39m \u001b[39mand\u001b[39;00m j0 \u001b[39m==\u001b[39m \u001b[39m0\u001b[39m \u001b[39mand\u001b[39;00m i1 \u001b[39m==\u001b[39m M \u001b[39mand\u001b[39;00m j1 \u001b[39m==\u001b[39m N:\n\u001b[1;32m    808\u001b[0m     \u001b[39mreturn\u001b[39;00m \u001b[39mself\u001b[39m\u001b[39m.\u001b[39mcopy() \u001b[39mif\u001b[39;00m copy \u001b[39melse\u001b[39;00m \u001b[39mself\u001b[39m\n\u001b[0;32m--> 810\u001b[0m indptr, indices, data \u001b[39m=\u001b[39m get_csr_submatrix(\n\u001b[1;32m    811\u001b[0m     M, N, \u001b[39mself\u001b[39;49m\u001b[39m.\u001b[39;49mindptr, \u001b[39mself\u001b[39;49m\u001b[39m.\u001b[39;49mindices, \u001b[39mself\u001b[39;49m\u001b[39m.\u001b[39;49mdata, i0, i1, j0, j1)\n\u001b[1;32m    813\u001b[0m shape \u001b[39m=\u001b[39m \u001b[39mself\u001b[39m\u001b[39m.\u001b[39m_swap((i1 \u001b[39m-\u001b[39m i0, j1 \u001b[39m-\u001b[39m j0))\n\u001b[1;32m    814\u001b[0m \u001b[39mreturn\u001b[39;00m \u001b[39mself\u001b[39m\u001b[39m.\u001b[39m\u001b[39m__class__\u001b[39m((data, indices, indptr), shape\u001b[39m=\u001b[39mshape,\n\u001b[1;32m    815\u001b[0m                       dtype\u001b[39m=\u001b[39m\u001b[39mself\u001b[39m\u001b[39m.\u001b[39mdtype, copy\u001b[39m=\u001b[39m\u001b[39mFalse\u001b[39;00m)\n",
      "\u001b[0;31mKeyboardInterrupt\u001b[0m: "
     ]
    }
   ],
   "source": [
    "hs_results = hs.compute_autocorrelations()"
   ]
  },
  {
   "cell_type": "code",
   "execution_count": null,
   "metadata": {},
   "outputs": [],
   "source": [
    "hs.results"
   ]
  },
  {
   "cell_type": "code",
   "execution_count": null,
   "metadata": {},
   "outputs": [],
   "source": [
    "hs_genes = hs_results.loc[hs_results.FDR < 0.05].index # Select genes\n",
    "local_correlations = hs.compute_local_correlations(hs_genes, jobs=1) # jobs"
   ]
  },
  {
   "cell_type": "code",
   "execution_count": null,
   "metadata": {},
   "outputs": [],
   "source": [
    "hs_genes"
   ]
  },
  {
   "cell_type": "code",
   "execution_count": null,
   "metadata": {},
   "outputs": [],
   "source": [
    "local_correlations"
   ]
  },
  {
   "cell_type": "code",
   "execution_count": null,
   "metadata": {},
   "outputs": [],
   "source": [
    "modules = hs.create_modules(\n",
    "    min_gene_threshold=30, core_only=True, fdr_threshold=0.05\n",
    ")"
   ]
  },
  {
   "cell_type": "code",
   "execution_count": null,
   "metadata": {},
   "outputs": [],
   "source": [
    "hs.plot_local_correlations()"
   ]
  }
 ],
 "metadata": {
  "kernelspec": {
   "display_name": "Python 3.9.6 64-bit",
   "language": "python",
   "name": "python3"
  },
  "language_info": {
   "codemirror_mode": {
    "name": "ipython",
    "version": 3
   },
   "file_extension": ".py",
   "mimetype": "text/x-python",
   "name": "python",
   "nbconvert_exporter": "python",
   "pygments_lexer": "ipython3",
   "version": "3.9.6"
  },
  "orig_nbformat": 4,
  "vscode": {
   "interpreter": {
    "hash": "31f2aee4e71d21fbe5cf8b01ff0e069b9275f58929596ceb00d14d90e3e16cd6"
   }
  }
 },
 "nbformat": 4,
 "nbformat_minor": 2
}
