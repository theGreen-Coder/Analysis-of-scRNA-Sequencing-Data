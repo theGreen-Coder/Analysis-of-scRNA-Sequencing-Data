{
 "cells": [
  {
   "cell_type": "code",
   "execution_count": 3,
   "metadata": {},
   "outputs": [],
   "source": [
    "from itertools import groupby\n",
    "from json import load\n",
    "import pandas as pd\n",
    "import scanpy as sc\n",
    "import numpy as np\n",
    "import sys\n",
    "import tests.loadScanpy as loadScanpy\n",
    "import modules.classifyClusters.classifyClusters as classify\n",
    "import os\n",
    "from matplotlib import pyplot as plt\n",
    "from matplotlib.backends.backend_pdf import PdfPages\n",
    "import seaborn as sns\n",
    "\n",
    "\n",
    "####################################################################################################\n",
    "# Global Settings \n",
    "####################################################################################################\n",
    "np.set_printoptions(threshold=sys.maxsize)\n",
    "pd.options.display.max_columns = sys.maxsize\n",
    "sc.settings.verbosity = 3  # verbosity: errors (0), warnings (1), info (2), hints (3)\n",
    "\n",
    "inputData = \"./output/savedDataClustersFinal.h5ad\" # ./dataSaveOriginal/rawDataset5000.h5ad\n",
    "results_file = './output/savedData.h5ad'\n",
    "outputDirectory = \"./outputPDFs/\"\n",
    "\n",
    "adata = sc.read(inputData)\n",
    "adata.var_names_make_unique()"
   ]
  },
  {
   "cell_type": "code",
   "execution_count": 5,
   "metadata": {},
   "outputs": [
    {
     "data": {
      "text/plain": [
       "Index(['CON_DS2U_AAACCCACACATATGC-1-0-0-0-0',\n",
       "       'CON_DS2U_AAACCCACAGCGGATA-1-0-0-0-0',\n",
       "       'CON_DS2U_AAACCCAGTATTCCGA-1-0-0-0-0',\n",
       "       'CON_DS2U_AAACCCATCCGTGACG-1-0-0-0-0',\n",
       "       'CON_DS2U_AAACGAAAGCGTGAAC-1-0-0-0-0',\n",
       "       'CON_DS2U_AAACGAACAACGTAAA-1-0-0-0-0',\n",
       "       'CON_DS2U_AAACGAACACGCCAGT-1-0-0-0-0',\n",
       "       'CON_DS2U_AAACGAAGTAACACGG-1-0-0-0-0',\n",
       "       'CON_DS2U_AAACGAAGTTCACGAT-1-0-0-0-0',\n",
       "       'CON_DS2U_AAACGAATCACAGAGG-1-0-0-0-0',\n",
       "       ...\n",
       "       'DS_DSP_TTTGGTTCAGCTACTA-1-1', 'DS_DSP_TTTGGTTCATGGCACC-1-1',\n",
       "       'DS_DSP_TTTGGTTGTGCAATGG-1-1', 'DS_DSP_TTTGGTTTCATGAGAA-1-1',\n",
       "       'DS_DSP_TTTGGTTTCCTATTTG-1-1', 'DS_DSP_TTTGGTTTCCTCGCAT-1-1',\n",
       "       'DS_DSP_TTTGGTTTCTGCGATA-1-1', 'DS_DSP_TTTGTTGAGCCTTTCC-1-1',\n",
       "       'DS_DSP_TTTGTTGAGTTAACGA-1-1', 'DS_DSP_TTTGTTGCACACCTGG-1-1'],\n",
       "      dtype='object', length=39469)"
      ]
     },
     "execution_count": 5,
     "metadata": {},
     "output_type": "execute_result"
    }
   ],
   "source": [
    "rowNames = adata.obs.index\n",
    "columnNames"
   ]
  }
 ],
 "metadata": {
  "kernelspec": {
   "display_name": "Python 3.10.8 64-bit",
   "language": "python",
   "name": "python3"
  },
  "language_info": {
   "codemirror_mode": {
    "name": "ipython",
    "version": 3
   },
   "file_extension": ".py",
   "mimetype": "text/x-python",
   "name": "python",
   "nbconvert_exporter": "python",
   "pygments_lexer": "ipython3",
   "version": "3.10.8"
  },
  "orig_nbformat": 4,
  "vscode": {
   "interpreter": {
    "hash": "b0fa6594d8f4cbf19f97940f81e996739fb7646882a419484c72d19e05852a7e"
   }
  }
 },
 "nbformat": 4,
 "nbformat_minor": 2
}
