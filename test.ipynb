{
 "cells": [
  {
   "cell_type": "code",
   "execution_count": 1,
   "metadata": {},
   "outputs": [],
   "source": [
    "from itertools import groupby\n",
    "from json import load\n",
    "import pandas as pd\n",
    "import scanpy as sc\n",
    "import numpy as np\n",
    "import sys\n",
    "import tests.loadScanpy as loadScanpy\n",
    "import modules.classifyClusters.classifyClusters as classify\n",
    "import os\n",
    "from matplotlib import pyplot as plt\n",
    "from matplotlib.backends.backend_pdf import PdfPages\n",
    "import seaborn as sns\n",
    "\n",
    "####################################################################################################\n",
    "# Global Settings \n",
    "####################################################################################################\n",
    "np.set_printoptions(threshold=sys.maxsize)\n",
    "pd.options.display.max_columns = sys.maxsize\n",
    "sc.settings.verbosity = 3  # verbosity: errors (0), warnings (1), info (2), hints (3)\n",
    "\n",
    "inputData = \"./output/savedData.h5ad\" # ./dataSaveOriginal/rawDataset5000.h5ad\n",
    "results_file = './output/savedData.h5ad'\n",
    "outputDirectory = \"./outputPDFs/\"\n"
   ]
  },
  {
   "cell_type": "code",
   "execution_count": 2,
   "metadata": {},
   "outputs": [],
   "source": [
    "adata = sc.read(\"./dataSaveOriginal/rawDatasetClusters.h5ad\")\n",
    "adata.var_names_make_unique()\n",
    "adata.X = adata.X.astype('float64')"
   ]
  },
  {
   "cell_type": "code",
   "execution_count": 5,
   "metadata": {},
   "outputs": [
    {
     "name": "stdout",
     "output_type": "stream",
     "text": [
      "  (0, 14)\t1.0\n",
      "  (0, 16)\t1.0\n",
      "  (0, 29)\t1.0\n",
      "  (0, 32)\t1.0\n",
      "  (0, 36)\t1.0\n",
      "  (0, 44)\t2.0\n",
      "  (0, 45)\t1.0\n",
      "  (0, 53)\t1.0\n",
      "  (0, 59)\t3.0\n",
      "  (0, 61)\t1.0\n",
      "  (0, 62)\t3.0\n",
      "  (0, 68)\t1.0\n",
      "  (0, 73)\t1.0\n",
      "  (0, 75)\t1.0\n",
      "  (0, 77)\t1.0\n",
      "  (0, 82)\t1.0\n",
      "  (0, 86)\t2.0\n",
      "  (0, 94)\t2.0\n",
      "  (0, 97)\t1.0\n",
      "  (0, 105)\t1.0\n",
      "  (0, 109)\t1.0\n",
      "  (0, 146)\t1.0\n",
      "  (0, 170)\t5.0\n",
      "  (0, 187)\t1.0\n",
      "  (0, 190)\t1.0\n",
      "  :\t:\n",
      "  (41601, 36378)\t3.0\n",
      "  (41601, 36384)\t3.0\n",
      "  (41601, 36390)\t3.0\n",
      "  (41601, 36401)\t30.0\n",
      "  (41601, 36403)\t1.0\n",
      "  (41601, 36406)\t1.0\n",
      "  (41601, 36407)\t3.0\n",
      "  (41601, 36408)\t2.0\n",
      "  (41601, 36411)\t2.0\n",
      "  (41601, 36413)\t1.0\n",
      "  (41601, 36433)\t3.0\n",
      "  (41601, 36434)\t1.0\n",
      "  (41601, 36443)\t2.0\n",
      "  (41601, 36559)\t26.0\n",
      "  (41601, 36560)\t16.0\n",
      "  (41601, 36561)\t72.0\n",
      "  (41601, 36562)\t50.0\n",
      "  (41601, 36564)\t107.0\n",
      "  (41601, 36565)\t69.0\n",
      "  (41601, 36566)\t16.0\n",
      "  (41601, 36567)\t3.0\n",
      "  (41601, 36568)\t46.0\n",
      "  (41601, 36569)\t5.0\n",
      "  (41601, 36571)\t39.0\n",
      "  (41601, 36575)\t1.0\n"
     ]
    }
   ],
   "source": [
    "print(adata.X)"
   ]
  },
  {
   "cell_type": "code",
   "execution_count": 6,
   "metadata": {},
   "outputs": [
    {
     "name": "stdout",
     "output_type": "stream",
     "text": [
      "  (0, 14)\t1.0\n",
      "  (0, 16)\t1.0\n",
      "  (0, 29)\t1.0\n",
      "  (0, 32)\t1.0\n",
      "  (0, 36)\t1.0\n",
      "  (0, 44)\t2.0\n",
      "  (0, 45)\t1.0\n",
      "  (0, 53)\t1.0\n",
      "  (0, 59)\t3.0\n",
      "  (0, 61)\t1.0\n",
      "  (0, 62)\t3.0\n",
      "  (0, 68)\t1.0\n",
      "  (0, 73)\t1.0\n",
      "  (0, 75)\t1.0\n",
      "  (0, 77)\t1.0\n",
      "  (0, 82)\t1.0\n",
      "  (0, 86)\t2.0\n",
      "  (0, 94)\t2.0\n",
      "  (0, 97)\t1.0\n",
      "  (0, 105)\t1.0\n",
      "  (0, 109)\t1.0\n",
      "  (0, 146)\t1.0\n",
      "  (0, 170)\t5.0\n",
      "  (0, 187)\t1.0\n",
      "  (0, 190)\t1.0\n",
      "  :\t:\n",
      "  (41601, 36378)\t3.0\n",
      "  (41601, 36384)\t3.0\n",
      "  (41601, 36390)\t3.0\n",
      "  (41601, 36401)\t30.0\n",
      "  (41601, 36403)\t1.0\n",
      "  (41601, 36406)\t1.0\n",
      "  (41601, 36407)\t3.0\n",
      "  (41601, 36408)\t2.0\n",
      "  (41601, 36411)\t2.0\n",
      "  (41601, 36413)\t1.0\n",
      "  (41601, 36433)\t3.0\n",
      "  (41601, 36434)\t1.0\n",
      "  (41601, 36443)\t2.0\n",
      "  (41601, 36559)\t26.0\n",
      "  (41601, 36560)\t16.0\n",
      "  (41601, 36561)\t72.0\n",
      "  (41601, 36562)\t50.0\n",
      "  (41601, 36564)\t107.0\n",
      "  (41601, 36565)\t69.0\n",
      "  (41601, 36566)\t16.0\n",
      "  (41601, 36567)\t3.0\n",
      "  (41601, 36568)\t46.0\n",
      "  (41601, 36569)\t5.0\n",
      "  (41601, 36571)\t39.0\n",
      "  (41601, 36575)\t1.0\n"
     ]
    }
   ],
   "source": [
    "print(adata.raw.X)"
   ]
  }
 ],
 "metadata": {
  "kernelspec": {
   "display_name": "Python 3.10.8 64-bit",
   "language": "python",
   "name": "python3"
  },
  "language_info": {
   "codemirror_mode": {
    "name": "ipython",
    "version": 3
   },
   "file_extension": ".py",
   "mimetype": "text/x-python",
   "name": "python",
   "nbconvert_exporter": "python",
   "pygments_lexer": "ipython3",
   "version": "3.10.8"
  },
  "orig_nbformat": 4,
  "vscode": {
   "interpreter": {
    "hash": "b0fa6594d8f4cbf19f97940f81e996739fb7646882a419484c72d19e05852a7e"
   }
  }
 },
 "nbformat": 4,
 "nbformat_minor": 2
}
