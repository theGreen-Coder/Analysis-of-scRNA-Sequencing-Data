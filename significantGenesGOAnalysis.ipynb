{
 "cells": [
  {
   "cell_type": "code",
   "execution_count": 1,
   "metadata": {},
   "outputs": [],
   "source": [
    "import pandas as pd"
   ]
  },
  {
   "cell_type": "code",
   "execution_count": 2,
   "metadata": {},
   "outputs": [],
   "source": [
    "# Import HSA21 genes\n",
    "HSA21genesDataframe = pd.read_csv(\"./一Network Visualization/data/HSA21_genes_biomaRt_conversion.csv\")\n",
    "HSA21genes = [x for x in HSA21genesDataframe[\"hgnc_symbol\"] if str(x) != 'nan']"
   ]
  },
  {
   "cell_type": "code",
   "execution_count": 3,
   "metadata": {},
   "outputs": [],
   "source": [
    "# Import Neuro Development Disease genes\n",
    "neuroDDdf = pd.read_csv('./一Network Visualization/data/NDDgenes.csv')\n",
    "neuroDDdf = neuroDDdf[neuroDDdf[\"High Confidence NDD genes\"] == True]\n",
    "neuroDD = neuroDDdf[\"Symbol\"].tolist()\n",
    "\n",
    "# Import NeuroDevelopmental Genes\n",
    "neuroDevGenesDF = pd.read_csv('./一Network Visualization/data/NervousSystemDevelopmentGO.tsv', sep='\\t')\n",
    "neuroDevGenes = neuroDevGenesDF[\"Gene\"].tolist()\n",
    "\n",
    "allNeuroDevGenes = neuroDD + neuroDevGenes"
   ]
  },
  {
   "cell_type": "code",
   "execution_count": 4,
   "metadata": {},
   "outputs": [],
   "source": [
    "regulatedGenes = pd.read_csv(\"./一Expression Heatmaps/geneExpressionData/Log2FoldAllGenes.csv\")\n",
    "regulatedGenes.rename(columns={\"Unnamed: 0\": \"Genes\"}, inplace=True)\n",
    "regulatedGenes = regulatedGenes.set_index('Genes')\n",
    "upDownRegulated = regulatedGenes['Mean'].to_dict()"
   ]
  },
  {
   "cell_type": "markdown",
   "metadata": {},
   "source": [
    "## Significant Genes - padj < 0.05"
   ]
  },
  {
   "cell_type": "code",
   "execution_count": 5,
   "metadata": {},
   "outputs": [
    {
     "name": "stdout",
     "output_type": "stream",
     "text": [
      "Len Significant Genes: 355\n"
     ]
    }
   ],
   "source": [
    "significantGenes = list(pd.read_csv(\"./significantGenes/significantGenes-padj<0.05.csv\")[\"x\"])\n",
    "print(f\"Len Significant Genes: {len(significantGenes)}\")"
   ]
  },
  {
   "cell_type": "code",
   "execution_count": 6,
   "metadata": {},
   "outputs": [],
   "source": [
    "geneNames = []\n",
    "geneExpression = []\n",
    "for gene in significantGenes:\n",
    "    geneNames.append(gene)\n",
    "    try:\n",
    "        geneExpression.append(upDownRegulated[gene])\n",
    "    except:\n",
    "        geneExpression.append(\"0\")"
   ]
  },
  {
   "cell_type": "code",
   "execution_count": 7,
   "metadata": {},
   "outputs": [],
   "source": [
    "df005 = pd.DataFrame(\n",
    "    {'name': geneNames,\n",
    "     'avgExpression': geneExpression\n",
    "    })"
   ]
  },
  {
   "cell_type": "code",
   "execution_count": 8,
   "metadata": {},
   "outputs": [],
   "source": [
    "pd.set_option('display.max_rows', 150)\n",
    "df005 = df005.sort_values(by='avgExpression', ascending=False)\n",
    "dfUp005 = df005[df005[\"avgExpression\"] < 0]\n",
    "dfDown005 = df005[df005[\"avgExpression\"] > 0]"
   ]
  },
  {
   "cell_type": "code",
   "execution_count": 9,
   "metadata": {},
   "outputs": [
    {
     "data": {
      "text/html": [
       "<div>\n",
       "<style scoped>\n",
       "    .dataframe tbody tr th:only-of-type {\n",
       "        vertical-align: middle;\n",
       "    }\n",
       "\n",
       "    .dataframe tbody tr th {\n",
       "        vertical-align: top;\n",
       "    }\n",
       "\n",
       "    .dataframe thead th {\n",
       "        text-align: right;\n",
       "    }\n",
       "</style>\n",
       "<table border=\"1\" class=\"dataframe\">\n",
       "  <thead>\n",
       "    <tr style=\"text-align: right;\">\n",
       "      <th></th>\n",
       "      <th>name</th>\n",
       "      <th>avgExpression</th>\n",
       "    </tr>\n",
       "  </thead>\n",
       "  <tbody>\n",
       "    <tr>\n",
       "      <th>90</th>\n",
       "      <td>CHCHD2</td>\n",
       "      <td>9.270805</td>\n",
       "    </tr>\n",
       "    <tr>\n",
       "      <th>63</th>\n",
       "      <td>ZNF558</td>\n",
       "      <td>6.606792</td>\n",
       "    </tr>\n",
       "    <tr>\n",
       "      <th>340</th>\n",
       "      <td>AP000936.1</td>\n",
       "      <td>4.326541</td>\n",
       "    </tr>\n",
       "    <tr>\n",
       "      <th>91</th>\n",
       "      <td>LHX1</td>\n",
       "      <td>3.505530</td>\n",
       "    </tr>\n",
       "    <tr>\n",
       "      <th>92</th>\n",
       "      <td>LHX5-AS1</td>\n",
       "      <td>3.327232</td>\n",
       "    </tr>\n",
       "    <tr>\n",
       "      <th>...</th>\n",
       "      <td>...</td>\n",
       "      <td>...</td>\n",
       "    </tr>\n",
       "    <tr>\n",
       "      <th>290</th>\n",
       "      <td>AC012645.1</td>\n",
       "      <td>-2.597034</td>\n",
       "    </tr>\n",
       "    <tr>\n",
       "      <th>354</th>\n",
       "      <td>GATD3A</td>\n",
       "      <td>-3.382115</td>\n",
       "    </tr>\n",
       "    <tr>\n",
       "      <th>353</th>\n",
       "      <td>AL162493.1</td>\n",
       "      <td>-5.923922</td>\n",
       "    </tr>\n",
       "    <tr>\n",
       "      <th>352</th>\n",
       "      <td>LINC02506</td>\n",
       "      <td>-9.125031</td>\n",
       "    </tr>\n",
       "    <tr>\n",
       "      <th>289</th>\n",
       "      <td>UTY</td>\n",
       "      <td>-18.018241</td>\n",
       "    </tr>\n",
       "  </tbody>\n",
       "</table>\n",
       "<p>355 rows × 2 columns</p>\n",
       "</div>"
      ],
      "text/plain": [
       "           name  avgExpression\n",
       "90       CHCHD2       9.270805\n",
       "63       ZNF558       6.606792\n",
       "340  AP000936.1       4.326541\n",
       "91         LHX1       3.505530\n",
       "92     LHX5-AS1       3.327232\n",
       "..          ...            ...\n",
       "290  AC012645.1      -2.597034\n",
       "354      GATD3A      -3.382115\n",
       "353  AL162493.1      -5.923922\n",
       "352   LINC02506      -9.125031\n",
       "289         UTY     -18.018241\n",
       "\n",
       "[355 rows x 2 columns]"
      ]
     },
     "execution_count": 9,
     "metadata": {},
     "output_type": "execute_result"
    }
   ],
   "source": [
    "df005"
   ]
  },
  {
   "cell_type": "code",
   "execution_count": 10,
   "metadata": {},
   "outputs": [
    {
     "data": {
      "text/plain": [
       "355"
      ]
     },
     "execution_count": 10,
     "metadata": {},
     "output_type": "execute_result"
    }
   ],
   "source": [
    "len(df005)"
   ]
  },
  {
   "cell_type": "code",
   "execution_count": 11,
   "metadata": {},
   "outputs": [
    {
     "data": {
      "text/plain": [
       "218"
      ]
     },
     "execution_count": 11,
     "metadata": {},
     "output_type": "execute_result"
    }
   ],
   "source": [
    "len(dfUp005)"
   ]
  },
  {
   "cell_type": "code",
   "execution_count": 12,
   "metadata": {},
   "outputs": [
    {
     "data": {
      "text/plain": [
       "137"
      ]
     },
     "execution_count": 12,
     "metadata": {},
     "output_type": "execute_result"
    }
   ],
   "source": [
    "len(dfDown005)"
   ]
  },
  {
   "cell_type": "code",
   "execution_count": 13,
   "metadata": {},
   "outputs": [],
   "source": [
    "# Export to csv\n",
    "df005.to_csv(\"./significantGenes/significantGenes-padj<0.05Expression.csv\")"
   ]
  },
  {
   "attachments": {},
   "cell_type": "markdown",
   "metadata": {},
   "source": [
    "## Non-Significant Genes (padj < 0.1)"
   ]
  },
  {
   "cell_type": "code",
   "execution_count": 14,
   "metadata": {},
   "outputs": [
    {
     "name": "stdout",
     "output_type": "stream",
     "text": [
      "Len Significant Genes: 546\n"
     ]
    }
   ],
   "source": [
    "significantGenes = list(pd.read_csv(\"./significantGenes/significantGenes-padj<0.1.csv\")[\"x\"])\n",
    "print(f\"Len Significant Genes: {len(significantGenes)}\")"
   ]
  },
  {
   "cell_type": "code",
   "execution_count": 15,
   "metadata": {},
   "outputs": [],
   "source": [
    "geneNames = []\n",
    "geneExpression = []\n",
    "for gene in significantGenes:\n",
    "    geneNames.append(gene)\n",
    "    try:\n",
    "        geneExpression.append(upDownRegulated[gene])\n",
    "    except:\n",
    "        geneExpression.append(\"0\")"
   ]
  },
  {
   "cell_type": "code",
   "execution_count": 16,
   "metadata": {},
   "outputs": [],
   "source": [
    "df01 = pd.DataFrame(\n",
    "    {'name': geneNames,\n",
    "     'avgExpression': geneExpression\n",
    "    })"
   ]
  },
  {
   "cell_type": "code",
   "execution_count": 17,
   "metadata": {},
   "outputs": [],
   "source": [
    "pd.set_option('display.max_rows', 150)\n",
    "df01 = df01.sort_values(by='avgExpression', ascending=False)\n",
    "dfUp01 = df01[df01[\"avgExpression\"] < 0]\n",
    "dfDown01 = df01[df01[\"avgExpression\"] > 0]"
   ]
  },
  {
   "cell_type": "code",
   "execution_count": 18,
   "metadata": {},
   "outputs": [
    {
     "data": {
      "text/html": [
       "<div>\n",
       "<style scoped>\n",
       "    .dataframe tbody tr th:only-of-type {\n",
       "        vertical-align: middle;\n",
       "    }\n",
       "\n",
       "    .dataframe tbody tr th {\n",
       "        vertical-align: top;\n",
       "    }\n",
       "\n",
       "    .dataframe thead th {\n",
       "        text-align: right;\n",
       "    }\n",
       "</style>\n",
       "<table border=\"1\" class=\"dataframe\">\n",
       "  <thead>\n",
       "    <tr style=\"text-align: right;\">\n",
       "      <th></th>\n",
       "      <th>name</th>\n",
       "      <th>avgExpression</th>\n",
       "    </tr>\n",
       "  </thead>\n",
       "  <tbody>\n",
       "    <tr>\n",
       "      <th>537</th>\n",
       "      <td>CHCHD2</td>\n",
       "      <td>9.270805</td>\n",
       "    </tr>\n",
       "    <tr>\n",
       "      <th>470</th>\n",
       "      <td>ZNF558</td>\n",
       "      <td>6.606792</td>\n",
       "    </tr>\n",
       "    <tr>\n",
       "      <th>36</th>\n",
       "      <td>AP000936.1</td>\n",
       "      <td>4.326541</td>\n",
       "    </tr>\n",
       "    <tr>\n",
       "      <th>538</th>\n",
       "      <td>LHX1</td>\n",
       "      <td>3.505530</td>\n",
       "    </tr>\n",
       "    <tr>\n",
       "      <th>540</th>\n",
       "      <td>LHX5-AS1</td>\n",
       "      <td>3.327232</td>\n",
       "    </tr>\n",
       "    <tr>\n",
       "      <th>...</th>\n",
       "      <td>...</td>\n",
       "      <td>...</td>\n",
       "    </tr>\n",
       "    <tr>\n",
       "      <th>1</th>\n",
       "      <td>AC093898.1</td>\n",
       "      <td>-3.752792</td>\n",
       "    </tr>\n",
       "    <tr>\n",
       "      <th>5</th>\n",
       "      <td>NECTIN3-AS1</td>\n",
       "      <td>-4.065315</td>\n",
       "    </tr>\n",
       "    <tr>\n",
       "      <th>7</th>\n",
       "      <td>AL162493.1</td>\n",
       "      <td>-5.923922</td>\n",
       "    </tr>\n",
       "    <tr>\n",
       "      <th>6</th>\n",
       "      <td>LINC02506</td>\n",
       "      <td>-9.125031</td>\n",
       "    </tr>\n",
       "    <tr>\n",
       "      <th>4</th>\n",
       "      <td>UTY</td>\n",
       "      <td>-18.018241</td>\n",
       "    </tr>\n",
       "  </tbody>\n",
       "</table>\n",
       "<p>546 rows × 2 columns</p>\n",
       "</div>"
      ],
      "text/plain": [
       "            name  avgExpression\n",
       "537       CHCHD2       9.270805\n",
       "470       ZNF558       6.606792\n",
       "36    AP000936.1       4.326541\n",
       "538         LHX1       3.505530\n",
       "540     LHX5-AS1       3.327232\n",
       "..           ...            ...\n",
       "1     AC093898.1      -3.752792\n",
       "5    NECTIN3-AS1      -4.065315\n",
       "7     AL162493.1      -5.923922\n",
       "6      LINC02506      -9.125031\n",
       "4            UTY     -18.018241\n",
       "\n",
       "[546 rows x 2 columns]"
      ]
     },
     "execution_count": 18,
     "metadata": {},
     "output_type": "execute_result"
    }
   ],
   "source": [
    "df01"
   ]
  },
  {
   "cell_type": "code",
   "execution_count": 19,
   "metadata": {},
   "outputs": [
    {
     "data": {
      "text/plain": [
       "546"
      ]
     },
     "execution_count": 19,
     "metadata": {},
     "output_type": "execute_result"
    }
   ],
   "source": [
    "len(df01)"
   ]
  },
  {
   "cell_type": "code",
   "execution_count": 20,
   "metadata": {},
   "outputs": [
    {
     "data": {
      "text/plain": [
       "331"
      ]
     },
     "execution_count": 20,
     "metadata": {},
     "output_type": "execute_result"
    }
   ],
   "source": [
    "len(dfUp01)"
   ]
  },
  {
   "cell_type": "code",
   "execution_count": 21,
   "metadata": {},
   "outputs": [
    {
     "data": {
      "text/plain": [
       "215"
      ]
     },
     "execution_count": 21,
     "metadata": {},
     "output_type": "execute_result"
    }
   ],
   "source": [
    "len(dfDown01)"
   ]
  },
  {
   "cell_type": "code",
   "execution_count": 23,
   "metadata": {},
   "outputs": [],
   "source": [
    "# Export to csv\n",
    "df01.to_csv(\"./significantGenes/significantGenes-padj<0.1Expression.csv\")"
   ]
  }
 ],
 "metadata": {
  "kernelspec": {
   "display_name": "Python 3",
   "language": "python",
   "name": "python3"
  },
  "language_info": {
   "codemirror_mode": {
    "name": "ipython",
    "version": 3
   },
   "file_extension": ".py",
   "mimetype": "text/x-python",
   "name": "python",
   "nbconvert_exporter": "python",
   "pygments_lexer": "ipython3",
   "version": "3.10.8"
  },
  "orig_nbformat": 4,
  "vscode": {
   "interpreter": {
    "hash": "b0fa6594d8f4cbf19f97940f81e996739fb7646882a419484c72d19e05852a7e"
   }
  }
 },
 "nbformat": 4,
 "nbformat_minor": 2
}
