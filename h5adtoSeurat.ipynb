{
 "cells": [
  {
   "cell_type": "code",
   "execution_count": 1,
   "id": "b1457418",
   "metadata": {},
   "outputs": [],
   "source": [
    "import scanpy as sc\n",
    "from scipy import io"
   ]
  },
  {
   "cell_type": "code",
   "execution_count": 2,
   "id": "8cff35b4",
   "metadata": {},
   "outputs": [
    {
     "name": "stdout",
     "output_type": "stream",
     "text": [
      "mkdir: matrix_files: File exists\n"
     ]
    }
   ],
   "source": [
    "!mkdir matrix_files"
   ]
  },
  {
   "cell_type": "code",
   "execution_count": 3,
   "id": "480f32c2",
   "metadata": {},
   "outputs": [],
   "source": [
    "adata = sc.read_h5ad('./output/savedDataClustersFinal.h5ad')"
   ]
  },
  {
   "cell_type": "code",
   "execution_count": 4,
   "id": "4a08ff07",
   "metadata": {},
   "outputs": [],
   "source": [
    "leidenNames = list(adata.obs[\"leiden\"])\n",
    "leidenNewNames = []\n",
    "\n",
    "for name in leidenNames:\n",
    "    if \"RG_1\" in name:\n",
    "        leidenNewNames.append(\"RG\")\n",
    "    elif \"RG_2\" in name:\n",
    "        leidenNewNames.append(\"RG\")\n",
    "    elif \"RG_3\" in name:\n",
    "        leidenNewNames.append(\"RG\")\n",
    "    else:\n",
    "        leidenNewNames.append(name)\n",
    "\n",
    "adata.obs[\"leiden\"] = leidenNewNames"
   ]
  },
  {
   "cell_type": "code",
   "execution_count": 5,
   "id": "4564bb37",
   "metadata": {},
   "outputs": [],
   "source": [
    "# adata = adata.raw.to_adata()  #only if adata has RAW saved and thats what you want!!"
   ]
  },
  {
   "cell_type": "code",
   "execution_count": 6,
   "id": "eb07b27c",
   "metadata": {},
   "outputs": [],
   "source": [
    "with open('matrix_files/barcodes.tsv', 'w') as f:\n",
    "    for item in adata.obs_names:\n",
    "        f.write(item + '\\n')"
   ]
  },
  {
   "cell_type": "code",
   "execution_count": 7,
   "id": "0f64c503",
   "metadata": {},
   "outputs": [],
   "source": [
    "with open('matrix_files/features.tsv', 'w') as f:\n",
    "    for item in ['\\t'.join([x,x,'Gene Expression']) for x in adata.var_names]:\n",
    "        f.write(item + '\\n')"
   ]
  },
  {
   "cell_type": "code",
   "execution_count": 8,
   "id": "f375b043",
   "metadata": {},
   "outputs": [],
   "source": [
    "io.mmwrite('matrix_files/matrix', adata.X.T)"
   ]
  },
  {
   "cell_type": "code",
   "execution_count": 9,
   "id": "fbee4699",
   "metadata": {},
   "outputs": [
    {
     "name": "stdout",
     "output_type": "stream",
     "text": [
      "barcodes.tsv features.tsv matrix.mtx\n"
     ]
    }
   ],
   "source": [
    "!ls matrix_files/"
   ]
  },
  {
   "cell_type": "code",
   "execution_count": 10,
   "id": "8417f9fe",
   "metadata": {},
   "outputs": [],
   "source": [
    "!gzip matrix_files/*"
   ]
  },
  {
   "cell_type": "code",
   "execution_count": 11,
   "id": "4891515a",
   "metadata": {},
   "outputs": [
    {
     "name": "stdout",
     "output_type": "stream",
     "text": [
      "barcodes.tsv.gz features.tsv.gz matrix.mtx.gz\n"
     ]
    }
   ],
   "source": [
    "!ls matrix_files/"
   ]
  },
  {
   "cell_type": "code",
   "execution_count": 12,
   "id": "0afd24f7",
   "metadata": {},
   "outputs": [],
   "source": [
    "adata.obs.to_csv('metadata.csv')"
   ]
  },
  {
   "cell_type": "code",
   "execution_count": 13,
   "id": "9ec92fc7",
   "metadata": {},
   "outputs": [],
   "source": [
    "#example script\n",
    "#to run:\n",
    "#mkdir <out_dir>\n",
    "#python name_of_this_script.py <adata_path> <out_dir>\n",
    "#gzip <out_dir>/*\n",
    "\n",
    "# import scanpy as sc\n",
    "# from scipy import io\n",
    "# import sys\n",
    "\n",
    "# adata = sc.read_h5ad(sys.argv[1])\n",
    "# out_dir = sys.argv[2]\n",
    "\n",
    "# adata = adata.raw.to_adata() #only if adata has RAW saved and thats what you want!!\n",
    "\n",
    "# with open(out_dir + '/barcodes.tsv', 'w') as f:\n",
    "#     for item in adata.obs_names:\n",
    "#         f.write(item + '\\n')\n",
    "        \n",
    "# with open(out_dir + '/features.tsv', 'w') as f:\n",
    "#     for item in ['\\t'.join([x,x,'Gene Expression']) for x in adata.var_names]:\n",
    "#         f.write(item + '\\n')\n",
    "        \n",
    "# io.mmwrite(out_dir +'/matrix', adata.X.T)\n",
    "\n",
    "# adata.obs.to_csv(sys.argv[1] + '.metadata.csv')"
   ]
  },
  {
   "cell_type": "code",
   "execution_count": null,
   "id": "6bbf5690",
   "metadata": {},
   "outputs": [],
   "source": []
  }
 ],
 "metadata": {
  "kernelspec": {
   "display_name": "Python 3.9.6 64-bit",
   "language": "python",
   "name": "python3"
  },
  "language_info": {
   "codemirror_mode": {
    "name": "ipython",
    "version": 3
   },
   "file_extension": ".py",
   "mimetype": "text/x-python",
   "name": "python",
   "nbconvert_exporter": "python",
   "pygments_lexer": "ipython3",
   "version": "3.9.6"
  },
  "vscode": {
   "interpreter": {
    "hash": "31f2aee4e71d21fbe5cf8b01ff0e069b9275f58929596ceb00d14d90e3e16cd6"
   }
  }
 },
 "nbformat": 4,
 "nbformat_minor": 5
}
